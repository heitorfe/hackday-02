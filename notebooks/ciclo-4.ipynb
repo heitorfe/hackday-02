{
 "cells": [
  {
   "cell_type": "markdown",
   "id": "92b1dcc3",
   "metadata": {},
   "source": [
    "## 0.0. Imports"
   ]
  },
  {
   "cell_type": "code",
   "execution_count": 172,
   "id": "3df9d13f",
   "metadata": {
    "ExecuteTime": {
     "end_time": "2022-08-21T19:44:51.201769Z",
     "start_time": "2022-08-21T19:44:50.131830Z"
    }
   },
   "outputs": [],
   "source": [
    "import pandas as pd\n",
    "import numpy as np\n",
    "from sklearn import preprocessing as pp\n",
    "from matplotlib import pyplot as plt\n",
    "from sklearn.linear_model import LinearRegression, Lasso\n",
    "from sklearn.ensemble import RandomForestRegressor, ExtraTreesRegressor\n",
    "from sklearn.metrics import  mean_absolute_error, mean_squared_error, mean_absolute_percentage_error\n",
    "from sklearn.model_selection import train_test_split, StratifiedKFold, KFold\n",
    "import seaborn as sns\n",
    "import plotly.express as px\n",
    "import sweetviz as sv\n",
    "import pickle\n",
    "from boruta import BorutaPy\n",
    "from lightgbm import LGBMRegressor\n",
    "from xgboost import XGBRegressor\n",
    "from sklearn.svm import SVR\n",
    "\n",
    "\n",
    "\n",
    "\n",
    "pd.set_option('display.max_rows', 100)\n",
    "pd.set_option('display.max_columns', 100)\n",
    "df_raw = pd.read_csv('../data/treino.csv')\n",
    "df_test = pd.read_csv('../data/teste.csv')"
   ]
  },
  {
   "cell_type": "code",
   "execution_count": 203,
   "id": "2f2e03fc",
   "metadata": {
    "ExecuteTime": {
     "end_time": "2022-08-21T19:49:44.464345Z",
     "start_time": "2022-08-21T19:49:44.429921Z"
    }
   },
   "outputs": [],
   "source": [
    "# stratified cross validation\n",
    "def cross_validation(model_name, model, x_train, y_train):\n",
    "\n",
    "    rmse_list = []\n",
    "    mae_list = []\n",
    "    mape_list = []\n",
    "\n",
    "    skf = KFold(n_splits=5, shuffle=True, random_state=5)\n",
    "\n",
    "    for train_index, test_index in skf.split(x_train, y_train):\n",
    "\n",
    "        x_train_cv = x_train.iloc[train_index]\n",
    "        y_train_cv = y_train.iloc[train_index]\n",
    "\n",
    "        x_test_cv = x_train.iloc[test_index]\n",
    "        y_test_cv = y_train.iloc[test_index]\n",
    "\n",
    "\n",
    "        # model training\n",
    "        model.fit(x_train_cv, y_train_cv)\n",
    "\n",
    "        # prediction\n",
    "        y_hat = model.predict(x_test_cv)\n",
    "\n",
    "        y_hat_ = np.expm1(y_hat)\n",
    "        y_test_cv = np.expm1(y_test_cv)\n",
    "\n",
    "        # metrics\n",
    "        MAPE = np.round(mean_absolute_percentage_error( y_test_cv, y_hat_ ), 2)\n",
    "        MAE = np.round(mean_absolute_error(y_test_cv, y_hat_), 2)\n",
    "        RMSE = np.round(np.sqrt(mean_squared_error(y_test_cv, y_hat_)), 2)\n",
    "#         print(MAPE)\n",
    "        # append to list\n",
    "        rmse_list.append(RMSE)\n",
    "        mae_list.append(MAE) \n",
    "        mape_list.append(MAPE)\n",
    "\n",
    "    avg_mae, stf_mae = np.round( np.mean( mae_list ), 2 ), np.round( np.std( mae_list ), 2 )\n",
    "    avg_mape, stf_mape = np.round( np.mean( mape_list ), 2 ), np.round( np.std( mape_list ), 2 )\n",
    "    avg_rmse, stf_rmse = np.round( np.mean( rmse_list ), 2 ), np.round( np.std( rmse_list ), 2 )\n",
    "\n",
    "    return avg_mae\n",
    "\n",
    "def simple_model_test(model, nome):\n",
    "    #model definition\n",
    "\n",
    "    # model fit\n",
    "    model.fit(X_train, y_train)\n",
    "\n",
    "    #model predict\n",
    "    y_hat = model.predict(X_test)\n",
    "    y_hat_ = np.expm1(y_hat)\n",
    "    \n",
    "    MAPE = np.round(mean_absolute_percentage_error( y_test_, y_hat_ ), 2)\n",
    "    MAE = np.round(mean_absolute_error(y_test_, y_hat_), 2)\n",
    "    RMSE = np.round(np.sqrt(mean_squared_error(y_test_, y_hat_)), 2)\n",
    "    \n",
    "    \n",
    "    print('{}\\n MAE: {}\\n MAPE: {}\\n RMSE: {}'.format(nome, MAE, MAPE, RMSE))\n",
    "    return MAE"
   ]
  },
  {
   "cell_type": "markdown",
   "id": "13458792",
   "metadata": {},
   "source": [
    "### 1.0. Data Description"
   ]
  },
  {
   "cell_type": "code",
   "execution_count": 204,
   "id": "7f228af1",
   "metadata": {
    "ExecuteTime": {
     "end_time": "2022-08-21T19:49:45.949074Z",
     "start_time": "2022-08-21T19:49:45.256745Z"
    }
   },
   "outputs": [],
   "source": [
    "df1 = df_raw.copy()\n",
    "\n",
    "# rename columns\n",
    "\n",
    "df1.columns = ['id', 'num_fotos', 'marca', 'modelo', 'versao', 'ano_de_fabricacao',\n",
    "       'ano_modelo', 'odometro', 'cambio', 'num_portas', 'tipo', 'blindado',\n",
    "       'cor', 'tipo_vendedor', 'cidade_vendedor', 'estado_vendedor',\n",
    "       'tipo_anuncio', 'entrega_delivery', 'troca', 'elegivel_revisao',\n",
    "       'aceita_troca', 'dono_unico',\n",
    "       'todas_revisoes_concessionaria',\n",
    "       'ipva_pago', 'licenciado',\n",
    "       'garantia_de_fabrica',\n",
    "       'todas_revisoes_agenda',\n",
    "       'alienado', 'preco']\n",
    "\n",
    "#fill na\n",
    "\n",
    "df1['num_fotos'] = df1['num_fotos'].fillna(0)\n",
    "\n",
    "df1 = df1.drop('alienado', axis=1)\n",
    "\n",
    "na_cols = df1.columns[-8:-1]\n",
    "\n",
    "\n",
    "for col in na_cols:\n",
    "    df1[col] = np.where(df1[col].isna(), 0, 1)\n",
    "    \n",
    "\n",
    "df1[df1.T.tail(8).index] = df1[df1.T.tail(8).index].astype('int64')\n",
    "\n",
    "df1['ano_modelo'] = df1['ano_modelo'].astype('int64')\n",
    "df1['num_fotos'] = df1['num_fotos'].astype('int64')"
   ]
  },
  {
   "cell_type": "markdown",
   "id": "82b364f3",
   "metadata": {},
   "source": [
    "## 2.0. Data Filtering"
   ]
  },
  {
   "cell_type": "code",
   "execution_count": 205,
   "id": "bbe5bc7a",
   "metadata": {
    "ExecuteTime": {
     "end_time": "2022-08-21T19:49:46.637338Z",
     "start_time": "2022-08-21T19:49:46.608328Z"
    }
   },
   "outputs": [],
   "source": [
    "import sweetviz as sv\n",
    "# my_report = sv.analyze(df1, target_feat='preco')\n",
    "# my_report.show_html() # Default arguments will generate to \"SWEETVIZ_REPORT.html\"\n",
    "\n",
    "df1 =df1.drop(['elegivel_revisao'], axis=1)"
   ]
  },
  {
   "cell_type": "code",
   "execution_count": 206,
   "id": "793e8fd6",
   "metadata": {
    "ExecuteTime": {
     "end_time": "2022-08-21T19:49:47.342452Z",
     "start_time": "2022-08-21T19:49:47.330486Z"
    }
   },
   "outputs": [],
   "source": [
    "# plt.figure(figsize=(15,7))\n",
    "# sns.barplot(data=df1[df1['cor'].isin(['Branco', 'Preto', 'Cinza', 'Prata'])], y='preco', x='estado_vendedor', hue='cor', estimator=np.median);"
   ]
  },
  {
   "cell_type": "code",
   "execution_count": 207,
   "id": "3b47b68d",
   "metadata": {
    "ExecuteTime": {
     "end_time": "2022-08-21T19:49:48.065293Z",
     "start_time": "2022-08-21T19:49:48.052330Z"
    }
   },
   "outputs": [],
   "source": [
    "# sns.barplot(data=df1, y='preco', x='estado_vendedor', hue='num_portas', estimator=np.mean);"
   ]
  },
  {
   "cell_type": "code",
   "execution_count": 208,
   "id": "db32f33a",
   "metadata": {
    "ExecuteTime": {
     "end_time": "2022-08-21T19:49:48.750499Z",
     "start_time": "2022-08-21T19:49:48.739530Z"
    }
   },
   "outputs": [],
   "source": [
    "# sns.barplot(data=df1, y='preco', x='estado_vendedor', hue='ipva_pago', estimator=np.mean);"
   ]
  },
  {
   "cell_type": "markdown",
   "id": "d8e1a21c",
   "metadata": {
    "ExecuteTime": {
     "end_time": "2022-08-20T18:37:06.773430Z",
     "start_time": "2022-08-20T18:37:05.006974Z"
    }
   },
   "source": [
    "## 3.0. Data Transformation\n"
   ]
  },
  {
   "cell_type": "code",
   "execution_count": 209,
   "id": "d031cbfa",
   "metadata": {
    "ExecuteTime": {
     "end_time": "2022-08-21T19:49:49.473251Z",
     "start_time": "2022-08-21T19:49:49.460286Z"
    }
   },
   "outputs": [],
   "source": [
    "num_attributes = df1.select_dtypes(exclude='object')\n",
    "\n"
   ]
  },
  {
   "cell_type": "markdown",
   "id": "4ea51f28",
   "metadata": {},
   "source": [
    "### 3.1. Rescaling"
   ]
  },
  {
   "cell_type": "code",
   "execution_count": 210,
   "id": "2a7566b4",
   "metadata": {
    "ExecuteTime": {
     "end_time": "2022-08-21T19:49:50.261130Z",
     "start_time": "2022-08-21T19:49:50.202253Z"
    }
   },
   "outputs": [],
   "source": [
    "min_max_cols = ['num_fotos',  \n",
    " 'ano_de_fabricacao',   \n",
    " 'ano_modelo',          \n",
    " 'odometro',            \n",
    " 'num_portas']\n",
    "\n",
    "mms = pp.MinMaxScaler()\n",
    "\n",
    "for column in min_max_cols:\n",
    "\n",
    "    df1[column] = mms.fit_transform(df1[[column]].values)\n",
    "    pickle.dump(mms, open(f'../parameters/{column}_scaler.pkl', 'wb'))\n",
    "    \n",
    "\n",
    "\n",
    "\n",
    "\n",
    "df1['preco'] = np.log1p(df1['preco'])"
   ]
  },
  {
   "cell_type": "markdown",
   "id": "c7ae056f",
   "metadata": {},
   "source": [
    "### 3.2. Encoding"
   ]
  },
  {
   "cell_type": "code",
   "execution_count": 211,
   "id": "48b72910",
   "metadata": {
    "ExecuteTime": {
     "end_time": "2022-08-21T19:49:51.151920Z",
     "start_time": "2022-08-21T19:49:50.890348Z"
    }
   },
   "outputs": [],
   "source": [
    "df1 = df1.drop(['cidade_vendedor', 'tipo_anuncio'], axis=1)\n",
    "\n",
    "#get uf\n",
    "df1['estado_vendedor'] = df1['estado_vendedor'].apply(lambda x: x[-3:-1])\n",
    "\n",
    "map_cor = {'Preto':'preto', 'Branco':'branco', 'Prata':'prata', 'Cinza':'cinza', 'Dourado':'outros', 'Vermelho':'outros', 'Azul':'outros',\n",
    "       'Verde':'outros'}\n",
    "\n",
    "map_regiao={'SP':'sudeste','RS':'sul','MG':'sudeste','PR':'sul','RJ':'sudeste','MA':'nordeste','SC':'sul','AL':'nordeste','BA':'nordeste','GO':'centro_oeste','RN':'nordeste','PE':'nordeste','MT':'centro_oeste','PA':'norte','CE':'nordeste','AM':'nordeste','ES':'sudeste','RO':'norte','PB':'nordeste','TO':'norte','AC':'norte','SE':'nordeste','MS':'centro_oeste','RR':'norte','PI':'nordeste'}\n",
    "\n",
    "\n",
    "map_cambio = {'Automática': 2, 'Manual' :0, 'CVT' :2, 'Automatizada': 2, 'Semi-automática': 0,\n",
    "       'Automatizada DCT' : 2, 'Automática Sequencial' : 1}\n",
    "\n",
    "# aux = df1[['estado_vendedor', 'preco']].groupby('estado_vendedor').mean().reset_index().sort_values('preco')\n",
    "# aux['regiao'] = aux['estado_vendedor'].map(map_regiao)\n",
    "\n",
    "\n",
    "\n",
    "# plt.figure(figsize=(15,7))\n",
    "# sns.barplot(data=aux, x='estado_vendedor', y='preco', hue='regiao')\n",
    "\n",
    "\n",
    "\n",
    "# target encoders\n",
    "for column in ['marca',  'versao',  'estado_vendedor', 'tipo', 'modelo']:\n",
    "    target = df1.groupby(column)['preco'].mean()\n",
    "    df1[column] = df1[column].map(target)\n",
    "    pickle.dump(target, open(f'../parameters/{column}_encode.pkl', 'wb'))\n",
    "\n",
    "\n",
    "# frequency encoders\n",
    "# for column in [ ]:\n",
    "#     frequency = df1.groupby(column)['preco'].count() / len(df1)\n",
    "#     df1[column] = df1[column].map(frequency)\n",
    "# #     pickle.dump(frequency, open(f'../parameters/{column}_encode.pkl', 'wb'))\n",
    "\n",
    "# binary\n",
    "df1['blindado'] = np.where(df1['blindado']=='N', 0, 1)\n",
    "\n",
    "#map\n",
    "df1['cor'] = df1['cor'].map(map_cor)\n",
    "# df1['estado_vendedor'] = df1['estado_vendedor'].map(map_regiao)\n",
    "df1['cambio'] = df1['cambio'].map(map_cambio)\n",
    "\n",
    "# one hot encoding\n",
    "df1 = pd.get_dummies(df1, columns=['cor',  'tipo_vendedor'])\n",
    "\n",
    "\n",
    "for column in df1.select_dtypes(['int32', 'uint8']).columns:\n",
    "    df1[column] = df1[column].astype('int64')"
   ]
  },
  {
   "cell_type": "markdown",
   "id": "a5c733d9",
   "metadata": {},
   "source": [
    "## 4.0. Feature Selection"
   ]
  },
  {
   "cell_type": "code",
   "execution_count": 183,
   "id": "cffd9ef6",
   "metadata": {
    "ExecuteTime": {
     "end_time": "2022-08-21T19:44:59.387068Z",
     "start_time": "2022-08-21T19:44:59.327193Z"
    }
   },
   "outputs": [],
   "source": [
    "df2 = df1.drop('id', axis=1).copy()\n",
    "\n",
    "y = df2['preco']\n",
    "X = df2.drop('preco', axis=1)\n",
    "\n",
    "X_train, X_test, y_train, y_test = train_test_split(X, y, train_size=0.8)\n",
    "\n",
    "# # #training and test dataset for Boruta\n"
   ]
  },
  {
   "cell_type": "markdown",
   "id": "9786a265",
   "metadata": {},
   "source": [
    "## Model Train"
   ]
  },
  {
   "cell_type": "markdown",
   "id": "905706cd",
   "metadata": {},
   "source": [
    "### Linear Regression"
   ]
  },
  {
   "cell_type": "code",
   "execution_count": 184,
   "id": "6f9731ea",
   "metadata": {
    "ExecuteTime": {
     "end_time": "2022-08-21T19:45:00.026201Z",
     "start_time": "2022-08-21T19:45:00.015235Z"
    }
   },
   "outputs": [],
   "source": [
    "y_test_ = np.expm1(y_test)\n",
    "\n",
    "\n"
   ]
  },
  {
   "cell_type": "markdown",
   "id": "d443b432",
   "metadata": {},
   "source": [
    "## Cross Validation"
   ]
  },
  {
   "cell_type": "code",
   "execution_count": 185,
   "id": "405d1cdd",
   "metadata": {
    "ExecuteTime": {
     "end_time": "2022-08-21T19:45:00.670635Z",
     "start_time": "2022-08-21T19:45:00.658642Z"
    }
   },
   "outputs": [],
   "source": [
    "def send_model(model):\n",
    "     # model fit\n",
    "    model.fit(X_train[cols_selected], y_train)\n",
    "    pickle.dump(model, open('../parameters/model.pkl', 'wb'))\n",
    "    print('Model submited')\n",
    "    return None"
   ]
  },
  {
   "cell_type": "markdown",
   "id": "44de448c",
   "metadata": {},
   "source": [
    "## Hyperparameter Tuning"
   ]
  },
  {
   "cell_type": "markdown",
   "id": "0747524e",
   "metadata": {},
   "source": [
    "### RF"
   ]
  },
  {
   "cell_type": "code",
   "execution_count": 186,
   "id": "c5f73fc5",
   "metadata": {
    "ExecuteTime": {
     "end_time": "2022-08-21T19:45:01.361794Z",
     "start_time": "2022-08-21T19:45:01.352817Z"
    }
   },
   "outputs": [],
   "source": [
    "cols_selected = ['versao', 'cambio', 'marca', 'odometro', 'tipo', 'ano_modelo',\n",
    "       'ano_de_fabricacao',  'modelo']\n",
    "\n",
    "# cols_selected = ['versao', 'cambio', 'marca', 'odometro', 'tipo', 'ano_modelo',\n",
    "#        'ano_de_fabricacao']"
   ]
  },
  {
   "cell_type": "code",
   "execution_count": 191,
   "id": "046823ff",
   "metadata": {
    "ExecuteTime": {
     "end_time": "2022-08-21T19:45:21.818075Z",
     "start_time": "2022-08-21T19:45:18.226787Z"
    }
   },
   "outputs": [
    {
     "data": {
      "text/plain": [
       "24985.79"
      ]
     },
     "execution_count": 191,
     "metadata": {},
     "output_type": "execute_result"
    }
   ],
   "source": [
    "# model = LGBMRegressor(learning_rate = 0.074,num_leaves = 80,max_depth = 70 ,\n",
    "#                          n_estimators = 100, boosting_type='gbdt', min_child_weight = 0.001)\n",
    "\n",
    "# send_model(model)\n",
    "\n",
    "\n",
    "model = LGBMRegressor(learning_rate = 0.07,num_leaves = 90,max_depth = 80 ,\n",
    "                         n_estimators = 100, boosting_type='gbdt', min_child_weight = 0.001)\n",
    "\n",
    "cross_validation('lgbm',model, X_train[cols_selected], y_train)"
   ]
  },
  {
   "cell_type": "code",
   "execution_count": 192,
   "id": "1ae2d176",
   "metadata": {
    "ExecuteTime": {
     "end_time": "2022-08-21T19:45:23.804427Z",
     "start_time": "2022-08-21T19:45:22.795125Z"
    }
   },
   "outputs": [
    {
     "name": "stdout",
     "output_type": "stream",
     "text": [
      "Model submited\n"
     ]
    }
   ],
   "source": [
    "send_model(model)"
   ]
  },
  {
   "cell_type": "code",
   "execution_count": null,
   "id": "f500199e",
   "metadata": {},
   "outputs": [],
   "source": []
  },
  {
   "cell_type": "code",
   "execution_count": null,
   "id": "0ba32e49",
   "metadata": {},
   "outputs": [],
   "source": []
  },
  {
   "cell_type": "code",
   "execution_count": null,
   "id": "3cd2ab96",
   "metadata": {},
   "outputs": [],
   "source": []
  }
 ],
 "metadata": {
  "kernelspec": {
   "display_name": "Python 3",
   "language": "python",
   "name": "python3"
  },
  "varInspector": {
   "cols": {
    "lenName": 16,
    "lenType": 16,
    "lenVar": 40
   },
   "kernels_config": {
    "python": {
     "delete_cmd_postfix": "",
     "delete_cmd_prefix": "del ",
     "library": "var_list.py",
     "varRefreshCmd": "print(var_dic_list())"
    },
    "r": {
     "delete_cmd_postfix": ") ",
     "delete_cmd_prefix": "rm(",
     "library": "var_list.r",
     "varRefreshCmd": "cat(var_dic_list()) "
    }
   },
   "types_to_exclude": [
    "module",
    "function",
    "builtin_function_or_method",
    "instance",
    "_Feature"
   ],
   "window_display": false
  }
 },
 "nbformat": 4,
 "nbformat_minor": 5
}
