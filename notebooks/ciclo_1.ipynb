{
 "cells": [
  {
   "cell_type": "markdown",
   "id": "b35f8d6e",
   "metadata": {},
   "source": [
    "## Imports"
   ]
  },
  {
   "cell_type": "code",
   "execution_count": 152,
   "id": "29ab2054",
   "metadata": {
    "ExecuteTime": {
     "end_time": "2022-08-20T14:13:08.449332Z",
     "start_time": "2022-08-20T14:13:08.391186Z"
    }
   },
   "outputs": [],
   "source": [
    "import pandas as pd\n",
    "import numpy as np\n",
    "from sklearn import preprocessing as pp"
   ]
  },
  {
   "cell_type": "code",
   "execution_count": 129,
   "id": "9f3b1497",
   "metadata": {
    "ExecuteTime": {
     "end_time": "2022-08-20T14:04:49.770691Z",
     "start_time": "2022-08-20T14:04:49.490925Z"
    }
   },
   "outputs": [],
   "source": [
    "df_raw = pd.read_csv('../data/treino.csv')"
   ]
  },
  {
   "cell_type": "markdown",
   "id": "393d6b11",
   "metadata": {
    "ExecuteTime": {
     "end_time": "2022-08-20T13:01:02.786960Z",
     "start_time": "2022-08-20T13:01:02.747022Z"
    }
   },
   "source": [
    "## Data Descriptions"
   ]
  },
  {
   "cell_type": "code",
   "execution_count": 130,
   "id": "059fa245",
   "metadata": {
    "ExecuteTime": {
     "end_time": "2022-08-20T14:04:49.957668Z",
     "start_time": "2022-08-20T14:04:49.942673Z"
    }
   },
   "outputs": [],
   "source": [
    "df1 = df_raw.copy()"
   ]
  },
  {
   "cell_type": "code",
   "execution_count": 131,
   "id": "7bf0ab9a",
   "metadata": {
    "ExecuteTime": {
     "end_time": "2022-08-20T14:04:50.145161Z",
     "start_time": "2022-08-20T14:04:50.131178Z"
    }
   },
   "outputs": [
    {
     "data": {
      "text/plain": [
       "Index(['ID', 'num_fotos', 'marca', 'modelo', 'versao', 'ano_de_fabricacao',\n",
       "       'ano_modelo', 'odometro', 'cambio', 'num_portas', 'tipo', 'blindado',\n",
       "       'cor', 'tipo_vendedor', 'cidade_vendedor', 'estado_vendedor',\n",
       "       'tipo_anuncio', 'entrega_delivery', 'troca', 'elegivel_revisao',\n",
       "       'attr_veiculo_aceita_troca', 'attr_veiculo_único_dono',\n",
       "       'attr_veiculo_todas_as_revisões_feitas_pela_concessionária',\n",
       "       'attr_veiculo_ipva_pago', 'attr_veiculo_licenciado',\n",
       "       'attr_veiculo_garantia_de_fábrica',\n",
       "       'attr_veiculo_todas_as_revisões_feitas_pela_agenda_do_carro',\n",
       "       'attr_veiculo_alienado', 'preco'],\n",
       "      dtype='object')"
      ]
     },
     "execution_count": 131,
     "metadata": {},
     "output_type": "execute_result"
    }
   ],
   "source": [
    "df_raw.columns"
   ]
  },
  {
   "cell_type": "code",
   "execution_count": 132,
   "id": "78f1d10f",
   "metadata": {
    "ExecuteTime": {
     "end_time": "2022-08-20T14:04:50.317658Z",
     "start_time": "2022-08-20T14:04:50.303694Z"
    }
   },
   "outputs": [],
   "source": [
    "# rename columns\n",
    "df1.columns = ['id', 'num_fotos', 'marca', 'modelo', 'versao', 'ano_de_fabricacao',\n",
    "       'ano_modelo', 'odometro', 'cambio', 'num_portas', 'tipo', 'blindado',\n",
    "       'cor', 'tipo_vendedor', 'cidade_vendedor', 'estado_vendedor',\n",
    "       'tipo_anuncio', 'entrega_delivery', 'troca', 'elegivel_revisao',\n",
    "       'aceita_troca', 'dono_unico',\n",
    "       'todas_revisoes_concessionaria',\n",
    "       'ipva_pago', 'licenciado',\n",
    "       'garantia_de_fabrica',\n",
    "       'todas_revisoes_agenda',\n",
    "       'alienado', 'preco']"
   ]
  },
  {
   "cell_type": "markdown",
   "id": "906d1f19",
   "metadata": {},
   "source": [
    "### Data dimension / types / nas"
   ]
  },
  {
   "cell_type": "code",
   "execution_count": 133,
   "id": "156de1e6",
   "metadata": {
    "ExecuteTime": {
     "end_time": "2022-08-20T14:04:50.490178Z",
     "start_time": "2022-08-20T14:04:50.475735Z"
    }
   },
   "outputs": [
    {
     "data": {
      "text/plain": [
       "(39446, 29)"
      ]
     },
     "execution_count": 133,
     "metadata": {},
     "output_type": "execute_result"
    }
   ],
   "source": [
    "df_raw.shape"
   ]
  },
  {
   "cell_type": "code",
   "execution_count": 134,
   "id": "12deee74",
   "metadata": {
    "ExecuteTime": {
     "end_time": "2022-08-20T14:04:50.660239Z",
     "start_time": "2022-08-20T14:04:50.646174Z"
    }
   },
   "outputs": [
    {
     "data": {
      "text/plain": [
       "id                                object\n",
       "num_fotos                        float64\n",
       "marca                             object\n",
       "modelo                            object\n",
       "versao                            object\n",
       "ano_de_fabricacao                  int64\n",
       "ano_modelo                       float64\n",
       "odometro                         float64\n",
       "cambio                            object\n",
       "num_portas                         int64\n",
       "tipo                              object\n",
       "blindado                          object\n",
       "cor                               object\n",
       "tipo_vendedor                     object\n",
       "cidade_vendedor                   object\n",
       "estado_vendedor                   object\n",
       "tipo_anuncio                      object\n",
       "entrega_delivery                    bool\n",
       "troca                               bool\n",
       "elegivel_revisao                    bool\n",
       "aceita_troca                      object\n",
       "dono_unico                        object\n",
       "todas_revisoes_concessionaria     object\n",
       "ipva_pago                         object\n",
       "licenciado                        object\n",
       "garantia_de_fabrica               object\n",
       "todas_revisoes_agenda             object\n",
       "alienado                         float64\n",
       "preco                            float64\n",
       "dtype: object"
      ]
     },
     "execution_count": 134,
     "metadata": {},
     "output_type": "execute_result"
    }
   ],
   "source": [
    "df1.dtypes"
   ]
  },
  {
   "cell_type": "code",
   "execution_count": 135,
   "id": "1fffa2aa",
   "metadata": {
    "ExecuteTime": {
     "end_time": "2022-08-20T14:04:50.940779Z",
     "start_time": "2022-08-20T14:04:50.823460Z"
    }
   },
   "outputs": [
    {
     "data": {
      "text/plain": [
       "id                               0.000000\n",
       "num_fotos                        0.006008\n",
       "marca                            0.000000\n",
       "modelo                           0.000000\n",
       "versao                           0.000000\n",
       "ano_de_fabricacao                0.000000\n",
       "ano_modelo                       0.000000\n",
       "odometro                         0.000000\n",
       "cambio                           0.000000\n",
       "num_portas                       0.000000\n",
       "tipo                             0.000000\n",
       "blindado                         0.000000\n",
       "cor                              0.000000\n",
       "tipo_vendedor                    0.000000\n",
       "cidade_vendedor                  0.000000\n",
       "estado_vendedor                  0.000000\n",
       "tipo_anuncio                     0.000000\n",
       "entrega_delivery                 0.000000\n",
       "troca                            0.000000\n",
       "elegivel_revisao                 0.000000\n",
       "aceita_troca                     0.258987\n",
       "dono_unico                       0.647670\n",
       "todas_revisoes_concessionaria    0.689728\n",
       "ipva_pago                        0.335218\n",
       "licenciado                       0.461289\n",
       "garantia_de_fabrica              0.853268\n",
       "todas_revisoes_agenda            0.799650\n",
       "alienado                         1.000000\n",
       "preco                            0.000000\n",
       "dtype: float64"
      ]
     },
     "execution_count": 135,
     "metadata": {},
     "output_type": "execute_result"
    }
   ],
   "source": [
    "df1.isna().sum() / len(df1)"
   ]
  },
  {
   "cell_type": "markdown",
   "id": "528781ca",
   "metadata": {},
   "source": [
    "### Stats"
   ]
  },
  {
   "cell_type": "code",
   "execution_count": 136,
   "id": "0caf6b7a",
   "metadata": {
    "ExecuteTime": {
     "end_time": "2022-08-20T14:04:51.221804Z",
     "start_time": "2022-08-20T14:04:51.098166Z"
    },
    "cell_style": "split"
   },
   "outputs": [
    {
     "data": {
      "text/html": [
       "<div>\n",
       "<style scoped>\n",
       "    .dataframe tbody tr th:only-of-type {\n",
       "        vertical-align: middle;\n",
       "    }\n",
       "\n",
       "    .dataframe tbody tr th {\n",
       "        vertical-align: top;\n",
       "    }\n",
       "\n",
       "    .dataframe thead th {\n",
       "        text-align: right;\n",
       "    }\n",
       "</style>\n",
       "<table border=\"1\" class=\"dataframe\">\n",
       "  <thead>\n",
       "    <tr style=\"text-align: right;\">\n",
       "      <th></th>\n",
       "      <th>count</th>\n",
       "      <th>unique</th>\n",
       "      <th>top</th>\n",
       "      <th>freq</th>\n",
       "    </tr>\n",
       "  </thead>\n",
       "  <tbody>\n",
       "    <tr>\n",
       "      <th>id</th>\n",
       "      <td>39446</td>\n",
       "      <td>39446</td>\n",
       "      <td>105869496634249611881157692933406072990</td>\n",
       "      <td>1</td>\n",
       "    </tr>\n",
       "    <tr>\n",
       "      <th>marca</th>\n",
       "      <td>39446</td>\n",
       "      <td>41</td>\n",
       "      <td>VOLKSWAGEN</td>\n",
       "      <td>6140</td>\n",
       "    </tr>\n",
       "    <tr>\n",
       "      <th>modelo</th>\n",
       "      <td>39446</td>\n",
       "      <td>473</td>\n",
       "      <td>COMPASS</td>\n",
       "      <td>1967</td>\n",
       "    </tr>\n",
       "    <tr>\n",
       "      <th>versao</th>\n",
       "      <td>39446</td>\n",
       "      <td>2058</td>\n",
       "      <td>1.6 16V FLEX ALLURE PACK 4P AUTOMÁTICO</td>\n",
       "      <td>1825</td>\n",
       "    </tr>\n",
       "    <tr>\n",
       "      <th>cambio</th>\n",
       "      <td>39446</td>\n",
       "      <td>7</td>\n",
       "      <td>Automática</td>\n",
       "      <td>30073</td>\n",
       "    </tr>\n",
       "    <tr>\n",
       "      <th>tipo</th>\n",
       "      <td>39446</td>\n",
       "      <td>8</td>\n",
       "      <td>Sedã</td>\n",
       "      <td>21910</td>\n",
       "    </tr>\n",
       "    <tr>\n",
       "      <th>blindado</th>\n",
       "      <td>39446</td>\n",
       "      <td>2</td>\n",
       "      <td>N</td>\n",
       "      <td>39128</td>\n",
       "    </tr>\n",
       "    <tr>\n",
       "      <th>cor</th>\n",
       "      <td>39446</td>\n",
       "      <td>8</td>\n",
       "      <td>Branco</td>\n",
       "      <td>27919</td>\n",
       "    </tr>\n",
       "    <tr>\n",
       "      <th>tipo_vendedor</th>\n",
       "      <td>39446</td>\n",
       "      <td>2</td>\n",
       "      <td>PF</td>\n",
       "      <td>23857</td>\n",
       "    </tr>\n",
       "    <tr>\n",
       "      <th>cidade_vendedor</th>\n",
       "      <td>39446</td>\n",
       "      <td>648</td>\n",
       "      <td>São Paulo</td>\n",
       "      <td>8198</td>\n",
       "    </tr>\n",
       "    <tr>\n",
       "      <th>estado_vendedor</th>\n",
       "      <td>39446</td>\n",
       "      <td>25</td>\n",
       "      <td>São Paulo (SP)</td>\n",
       "      <td>21794</td>\n",
       "    </tr>\n",
       "    <tr>\n",
       "      <th>tipo_anuncio</th>\n",
       "      <td>39446</td>\n",
       "      <td>4</td>\n",
       "      <td>Pessoa Física</td>\n",
       "      <td>23949</td>\n",
       "    </tr>\n",
       "    <tr>\n",
       "      <th>aceita_troca</th>\n",
       "      <td>29230</td>\n",
       "      <td>1</td>\n",
       "      <td>Aceita troca</td>\n",
       "      <td>29230</td>\n",
       "    </tr>\n",
       "    <tr>\n",
       "      <th>dono_unico</th>\n",
       "      <td>13898</td>\n",
       "      <td>1</td>\n",
       "      <td>Único dono</td>\n",
       "      <td>13898</td>\n",
       "    </tr>\n",
       "    <tr>\n",
       "      <th>todas_revisoes_concessionaria</th>\n",
       "      <td>12239</td>\n",
       "      <td>1</td>\n",
       "      <td>Todas as revisões feitas pela concessionária</td>\n",
       "      <td>12239</td>\n",
       "    </tr>\n",
       "    <tr>\n",
       "      <th>ipva_pago</th>\n",
       "      <td>26223</td>\n",
       "      <td>1</td>\n",
       "      <td>IPVA pago</td>\n",
       "      <td>26223</td>\n",
       "    </tr>\n",
       "    <tr>\n",
       "      <th>licenciado</th>\n",
       "      <td>21250</td>\n",
       "      <td>1</td>\n",
       "      <td>Licenciado</td>\n",
       "      <td>21250</td>\n",
       "    </tr>\n",
       "    <tr>\n",
       "      <th>garantia_de_fabrica</th>\n",
       "      <td>5788</td>\n",
       "      <td>1</td>\n",
       "      <td>Garantia de fábrica</td>\n",
       "      <td>5788</td>\n",
       "    </tr>\n",
       "    <tr>\n",
       "      <th>todas_revisoes_agenda</th>\n",
       "      <td>7903</td>\n",
       "      <td>1</td>\n",
       "      <td>Todas as revisões feitas pela agenda do carro</td>\n",
       "      <td>7903</td>\n",
       "    </tr>\n",
       "  </tbody>\n",
       "</table>\n",
       "</div>"
      ],
      "text/plain": [
       "                               count unique  \\\n",
       "id                             39446  39446   \n",
       "marca                          39446     41   \n",
       "modelo                         39446    473   \n",
       "versao                         39446   2058   \n",
       "cambio                         39446      7   \n",
       "tipo                           39446      8   \n",
       "blindado                       39446      2   \n",
       "cor                            39446      8   \n",
       "tipo_vendedor                  39446      2   \n",
       "cidade_vendedor                39446    648   \n",
       "estado_vendedor                39446     25   \n",
       "tipo_anuncio                   39446      4   \n",
       "aceita_troca                   29230      1   \n",
       "dono_unico                     13898      1   \n",
       "todas_revisoes_concessionaria  12239      1   \n",
       "ipva_pago                      26223      1   \n",
       "licenciado                     21250      1   \n",
       "garantia_de_fabrica             5788      1   \n",
       "todas_revisoes_agenda           7903      1   \n",
       "\n",
       "                                                                         top  \\\n",
       "id                                   105869496634249611881157692933406072990   \n",
       "marca                                                             VOLKSWAGEN   \n",
       "modelo                                                               COMPASS   \n",
       "versao                                1.6 16V FLEX ALLURE PACK 4P AUTOMÁTICO   \n",
       "cambio                                                            Automática   \n",
       "tipo                                                                    Sedã   \n",
       "blindado                                                                   N   \n",
       "cor                                                                   Branco   \n",
       "tipo_vendedor                                                             PF   \n",
       "cidade_vendedor                                                    São Paulo   \n",
       "estado_vendedor                                               São Paulo (SP)   \n",
       "tipo_anuncio                                                   Pessoa Física   \n",
       "aceita_troca                                                    Aceita troca   \n",
       "dono_unico                                                        Único dono   \n",
       "todas_revisoes_concessionaria   Todas as revisões feitas pela concessionária   \n",
       "ipva_pago                                                          IPVA pago   \n",
       "licenciado                                                        Licenciado   \n",
       "garantia_de_fabrica                                      Garantia de fábrica   \n",
       "todas_revisoes_agenda          Todas as revisões feitas pela agenda do carro   \n",
       "\n",
       "                                freq  \n",
       "id                                 1  \n",
       "marca                           6140  \n",
       "modelo                          1967  \n",
       "versao                          1825  \n",
       "cambio                         30073  \n",
       "tipo                           21910  \n",
       "blindado                       39128  \n",
       "cor                            27919  \n",
       "tipo_vendedor                  23857  \n",
       "cidade_vendedor                 8198  \n",
       "estado_vendedor                21794  \n",
       "tipo_anuncio                   23949  \n",
       "aceita_troca                   29230  \n",
       "dono_unico                     13898  \n",
       "todas_revisoes_concessionaria  12239  \n",
       "ipva_pago                      26223  \n",
       "licenciado                     21250  \n",
       "garantia_de_fabrica             5788  \n",
       "todas_revisoes_agenda           7903  "
      ]
     },
     "execution_count": 136,
     "metadata": {},
     "output_type": "execute_result"
    }
   ],
   "source": [
    "df1.select_dtypes('object').describe().T"
   ]
  },
  {
   "cell_type": "code",
   "execution_count": 137,
   "id": "e0eb8c3d",
   "metadata": {
    "ExecuteTime": {
     "end_time": "2022-08-20T14:04:51.423767Z",
     "start_time": "2022-08-20T14:04:51.378885Z"
    },
    "cell_style": "split"
   },
   "outputs": [
    {
     "data": {
      "text/html": [
       "<div>\n",
       "<style scoped>\n",
       "    .dataframe tbody tr th:only-of-type {\n",
       "        vertical-align: middle;\n",
       "    }\n",
       "\n",
       "    .dataframe tbody tr th {\n",
       "        vertical-align: top;\n",
       "    }\n",
       "\n",
       "    .dataframe thead th {\n",
       "        text-align: right;\n",
       "    }\n",
       "</style>\n",
       "<table border=\"1\" class=\"dataframe\">\n",
       "  <thead>\n",
       "    <tr style=\"text-align: right;\">\n",
       "      <th></th>\n",
       "      <th>count</th>\n",
       "      <th>mean</th>\n",
       "      <th>std</th>\n",
       "      <th>min</th>\n",
       "      <th>25%</th>\n",
       "      <th>50%</th>\n",
       "      <th>75%</th>\n",
       "      <th>max</th>\n",
       "    </tr>\n",
       "  </thead>\n",
       "  <tbody>\n",
       "    <tr>\n",
       "      <th>num_fotos</th>\n",
       "      <td>39209.0</td>\n",
       "      <td>10.323829</td>\n",
       "      <td>3.481065</td>\n",
       "      <td>8.000000</td>\n",
       "      <td>8.000000</td>\n",
       "      <td>8.000000</td>\n",
       "      <td>14.000000</td>\n",
       "      <td>2.100000e+01</td>\n",
       "    </tr>\n",
       "    <tr>\n",
       "      <th>ano_de_fabricacao</th>\n",
       "      <td>39446.0</td>\n",
       "      <td>2016.748137</td>\n",
       "      <td>4.084762</td>\n",
       "      <td>1985.000000</td>\n",
       "      <td>2015.000000</td>\n",
       "      <td>2018.000000</td>\n",
       "      <td>2019.000000</td>\n",
       "      <td>2.022000e+03</td>\n",
       "    </tr>\n",
       "    <tr>\n",
       "      <th>ano_modelo</th>\n",
       "      <td>39446.0</td>\n",
       "      <td>2017.807154</td>\n",
       "      <td>2.675334</td>\n",
       "      <td>1997.000000</td>\n",
       "      <td>2016.000000</td>\n",
       "      <td>2018.000000</td>\n",
       "      <td>2020.000000</td>\n",
       "      <td>2.023000e+03</td>\n",
       "    </tr>\n",
       "    <tr>\n",
       "      <th>odometro</th>\n",
       "      <td>39446.0</td>\n",
       "      <td>58382.243371</td>\n",
       "      <td>32542.793054</td>\n",
       "      <td>100.000000</td>\n",
       "      <td>31235.250000</td>\n",
       "      <td>57244.500000</td>\n",
       "      <td>81925.750000</td>\n",
       "      <td>3.900650e+05</td>\n",
       "    </tr>\n",
       "    <tr>\n",
       "      <th>num_portas</th>\n",
       "      <td>39446.0</td>\n",
       "      <td>3.941135</td>\n",
       "      <td>0.337210</td>\n",
       "      <td>2.000000</td>\n",
       "      <td>4.000000</td>\n",
       "      <td>4.000000</td>\n",
       "      <td>4.000000</td>\n",
       "      <td>4.000000e+00</td>\n",
       "    </tr>\n",
       "    <tr>\n",
       "      <th>alienado</th>\n",
       "      <td>0.0</td>\n",
       "      <td>NaN</td>\n",
       "      <td>NaN</td>\n",
       "      <td>NaN</td>\n",
       "      <td>NaN</td>\n",
       "      <td>NaN</td>\n",
       "      <td>NaN</td>\n",
       "      <td>NaN</td>\n",
       "    </tr>\n",
       "    <tr>\n",
       "      <th>preco</th>\n",
       "      <td>39446.0</td>\n",
       "      <td>133385.874348</td>\n",
       "      <td>82384.971901</td>\n",
       "      <td>7258.159943</td>\n",
       "      <td>76774.321715</td>\n",
       "      <td>114307.970618</td>\n",
       "      <td>163987.004263</td>\n",
       "      <td>1.359813e+06</td>\n",
       "    </tr>\n",
       "  </tbody>\n",
       "</table>\n",
       "</div>"
      ],
      "text/plain": [
       "                     count           mean           std          min  \\\n",
       "num_fotos          39209.0      10.323829      3.481065     8.000000   \n",
       "ano_de_fabricacao  39446.0    2016.748137      4.084762  1985.000000   \n",
       "ano_modelo         39446.0    2017.807154      2.675334  1997.000000   \n",
       "odometro           39446.0   58382.243371  32542.793054   100.000000   \n",
       "num_portas         39446.0       3.941135      0.337210     2.000000   \n",
       "alienado               0.0            NaN           NaN          NaN   \n",
       "preco              39446.0  133385.874348  82384.971901  7258.159943   \n",
       "\n",
       "                            25%            50%            75%           max  \n",
       "num_fotos              8.000000       8.000000      14.000000  2.100000e+01  \n",
       "ano_de_fabricacao   2015.000000    2018.000000    2019.000000  2.022000e+03  \n",
       "ano_modelo          2016.000000    2018.000000    2020.000000  2.023000e+03  \n",
       "odometro           31235.250000   57244.500000   81925.750000  3.900650e+05  \n",
       "num_portas             4.000000       4.000000       4.000000  4.000000e+00  \n",
       "alienado                    NaN            NaN            NaN           NaN  \n",
       "preco              76774.321715  114307.970618  163987.004263  1.359813e+06  "
      ]
     },
     "execution_count": 137,
     "metadata": {},
     "output_type": "execute_result"
    }
   ],
   "source": [
    "df1.select_dtypes(exclude='object').describe().T"
   ]
  },
  {
   "cell_type": "markdown",
   "id": "65353e32",
   "metadata": {},
   "source": [
    "### Change types / fillna"
   ]
  },
  {
   "cell_type": "code",
   "execution_count": 138,
   "id": "44da0450",
   "metadata": {
    "ExecuteTime": {
     "end_time": "2022-08-20T14:04:51.768045Z",
     "start_time": "2022-08-20T14:04:51.701722Z"
    }
   },
   "outputs": [],
   "source": [
    "# NAS\n",
    "# num_fotos                        0.006008\n",
    "# aceita_troca                     0.258987\n",
    "# dono_unico                       0.647670\n",
    "# todas_revisoes_concessionaria    0.689728\n",
    "# ipva_pago                        0.335218\n",
    "# licenciado                       0.461289\n",
    "# garantia_de_fabrica              0.853268\n",
    "# todas_revisoes_agenda            0.799650\n",
    "# alienado                         1.000000\n",
    "\n",
    "\n",
    "df1['num_fotos'] = df1['num_fotos'].fillna(0)\n",
    "\n",
    "\n",
    "\n",
    "df1 = df1.drop('alienado', axis=1)\n",
    "\n",
    "\n",
    "na_cols = df1.columns[-8:-1]\n",
    "\n",
    "for col in na_cols:\n",
    "    df1[col] = np.where(df1[col].isna(), 0, 1)"
   ]
  },
  {
   "cell_type": "code",
   "execution_count": 139,
   "id": "f3e3efdf",
   "metadata": {
    "ExecuteTime": {
     "end_time": "2022-08-20T14:04:52.500170Z",
     "start_time": "2022-08-20T14:04:52.245730Z"
    }
   },
   "outputs": [],
   "source": [
    "df1[df1.T.tail(8).index] = df1[df1.T.tail(8).index].astype('int64')\n",
    "\n",
    "df1['ano_modelo'] = df1['ano_modelo'].astype('int64')\n",
    "df1['num_fotos'] = df1['num_fotos'].astype('int64')"
   ]
  },
  {
   "cell_type": "markdown",
   "id": "2b5a34cb",
   "metadata": {},
   "source": [
    "## Data Filtering"
   ]
  },
  {
   "cell_type": "code",
   "execution_count": 148,
   "id": "42666ef8",
   "metadata": {
    "ExecuteTime": {
     "end_time": "2022-08-20T14:11:44.522628Z",
     "start_time": "2022-08-20T14:11:44.518639Z"
    }
   },
   "outputs": [],
   "source": [
    "# df1[(df1['marca']=='CHEVROLET') & (df1['modelo']=='ONIX')].sort_values('ano_modelo')\n"
   ]
  },
  {
   "cell_type": "markdown",
   "id": "44545358",
   "metadata": {},
   "source": [
    "## Feature Engineering"
   ]
  },
  {
   "cell_type": "markdown",
   "id": "888d895f",
   "metadata": {
    "ExecuteTime": {
     "end_time": "2022-08-20T13:57:18.299292Z",
     "start_time": "2022-08-20T13:57:18.279465Z"
    }
   },
   "source": [
    "## EDA"
   ]
  },
  {
   "cell_type": "markdown",
   "id": "eed78fe4",
   "metadata": {},
   "source": [
    "## Data Preparation"
   ]
  },
  {
   "cell_type": "code",
   "execution_count": 149,
   "id": "3f6d7a74",
   "metadata": {
    "ExecuteTime": {
     "end_time": "2022-08-20T14:11:55.751451Z",
     "start_time": "2022-08-20T14:11:55.742475Z"
    }
   },
   "outputs": [],
   "source": [
    "df2 = df1.copy()"
   ]
  },
  {
   "cell_type": "code",
   "execution_count": 154,
   "id": "f7bd359d",
   "metadata": {
    "ExecuteTime": {
     "end_time": "2022-08-20T14:13:40.138668Z",
     "start_time": "2022-08-20T14:13:40.030223Z"
    }
   },
   "outputs": [],
   "source": [
    "num_columns = df2.select_dtypes(exclude = 'object').columns\n",
    "cat_columns = df2.select_dtypes('object').columns\n",
    "mms = pp.MinMaxScaler()\n",
    "\n",
    "for col in num_columns:\n",
    "    df2[col] = mms.fit_transform(df2[[col]] )\n",
    "    \n",
    "    "
   ]
  },
  {
   "cell_type": "code",
   "execution_count": null,
   "id": "a32631fb",
   "metadata": {},
   "outputs": [],
   "source": [
    "df2[['preco']]"
   ]
  },
  {
   "cell_type": "markdown",
   "id": "314bb2ef",
   "metadata": {},
   "source": [
    "## ML Models"
   ]
  },
  {
   "cell_type": "markdown",
   "id": "a382f3a1",
   "metadata": {},
   "source": [
    "## Cross Validation"
   ]
  },
  {
   "cell_type": "code",
   "execution_count": null,
   "id": "b27e3bde",
   "metadata": {},
   "outputs": [],
   "source": []
  }
 ],
 "metadata": {
  "kernelspec": {
   "display_name": "Python 3",
   "language": "python",
   "name": "python3"
  },
  "language_info": {
   "codemirror_mode": {
    "name": "ipython",
    "version": 3
   },
   "file_extension": ".py",
   "mimetype": "text/x-python",
   "name": "python",
   "nbconvert_exporter": "python",
   "pygments_lexer": "ipython3",
   "version": "3.8.8"
  },
  "varInspector": {
   "cols": {
    "lenName": 16,
    "lenType": 16,
    "lenVar": 40
   },
   "kernels_config": {
    "python": {
     "delete_cmd_postfix": "",
     "delete_cmd_prefix": "del ",
     "library": "var_list.py",
     "varRefreshCmd": "print(var_dic_list())"
    },
    "r": {
     "delete_cmd_postfix": ") ",
     "delete_cmd_prefix": "rm(",
     "library": "var_list.r",
     "varRefreshCmd": "cat(var_dic_list()) "
    }
   },
   "types_to_exclude": [
    "module",
    "function",
    "builtin_function_or_method",
    "instance",
    "_Feature"
   ],
   "window_display": false
  }
 },
 "nbformat": 4,
 "nbformat_minor": 5
}
