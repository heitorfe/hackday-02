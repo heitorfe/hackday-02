{
 "cells": [
  {
   "cell_type": "markdown",
   "id": "3c2b69ba",
   "metadata": {},
   "source": [
    "## 0.0. Imports"
   ]
  },
  {
   "cell_type": "code",
   "execution_count": 36,
   "id": "38950357",
   "metadata": {
    "ExecuteTime": {
     "end_time": "2022-08-21T19:48:20.372190Z",
     "start_time": "2022-08-21T19:48:18.562009Z"
    }
   },
   "outputs": [],
   "source": [
    "import pandas as pd\n",
    "import numpy as np\n",
    "from sklearn import preprocessing as pp\n",
    "from matplotlib import pyplot as plt\n",
    "from sklearn.linear_model import LinearRegression, Lasso\n",
    "from sklearn.ensemble import RandomForestRegressor, ExtraTreesRegressor\n",
    "from sklearn.metrics import  mean_absolute_error, mean_squared_error, mean_absolute_percentage_error\n",
    "from sklearn.model_selection import train_test_split, StratifiedKFold, KFold\n",
    "import seaborn as sns\n",
    "import plotly.express as px\n",
    "import sweetviz as sv\n",
    "import pickle\n",
    "from boruta import BorutaPy\n",
    "from lightgbm import LGBMRegressor\n",
    "from xgboost import XGBRegressor\n",
    "\n",
    "\n",
    "\n",
    "pd.set_option('display.max_rows', 100)\n",
    "pd.set_option('display.max_columns', 100)\n",
    "df_raw = pd.read_csv('../data/treino.csv')\n",
    "df_test = pd.read_csv('../data/teste.csv')\n",
    "\n",
    "### 1.0. Data Description\n",
    "\n",
    "df1 = df_test.copy()\n",
    "\n",
    "# rename columns\n",
    "\n",
    "df1.columns = ['id', 'num_fotos', 'marca', 'modelo', 'versao', 'ano_de_fabricacao',\n",
    "       'ano_modelo', 'odometro', 'cambio', 'num_portas', 'tipo', 'blindado',\n",
    "       'cor', 'tipo_vendedor', 'cidade_vendedor', 'estado_vendedor',\n",
    "       'tipo_anuncio', 'entrega_delivery', 'troca', 'elegivel_revisao',\n",
    "       'aceita_troca', 'dono_unico',\n",
    "       'todas_revisoes_concessionaria',\n",
    "       'ipva_pago', 'licenciado',\n",
    "       'garantia_de_fabrica',\n",
    "       'todas_revisoes_agenda',\n",
    "       'alienado']\n",
    "\n",
    "#fill na\n",
    "\n",
    "df1['num_fotos'] = df1['num_fotos'].fillna(0)\n",
    "\n",
    "df1 = df1.drop('alienado', axis=1)\n",
    "\n",
    "na_cols = df1.columns[-8:]\n",
    "\n",
    "for col in na_cols:\n",
    "    df1[col] = np.where(df1[col].isna(), 0, 1)\n",
    "\n",
    "df1[df1.T.tail(8).index] = df1[df1.T.tail(8).index].astype('int64')\n",
    "\n",
    "df1['ano_modelo'] = df1['ano_modelo'].astype('int64')\n",
    "df1['num_fotos'] = df1['num_fotos'].astype('int64')\n",
    "\n",
    "## 2.0. Data Filtering\n",
    "\n",
    "import sweetviz as sv\n",
    "# my_report = sv.analyze(df1, target_feat='preco')\n",
    "# my_report.show_html() # Default arguments will generate to \"SWEETVIZ_REPORT.html\"\n",
    "\n",
    "df1 =df1.drop(['elegivel_revisao'], axis=1)\n",
    "\n",
    "### 3.1. Rescaling\n",
    "\n",
    "min_max_cols = [\n",
    " 'ano_de_fabricacao',   \n",
    " 'ano_modelo',          \n",
    " 'odometro',            \n",
    " 'num_portas']\n",
    "\n",
    "\n",
    "for column in min_max_cols:\n",
    "    mms = pickle.load( open(f'../parameters/{column}_scaler.pkl', 'rb'))\n",
    "    df1[column] = mms.fit_transform(df1[[column]].values)\n",
    "    \n",
    "\n",
    "# df1['preco'] = np.log1p(df1['preco'])\n",
    "\n",
    "### 3.2. Encoding\n",
    "\n",
    "df1 = df1.drop(['cidade_vendedor', 'tipo_anuncio'], axis=1)\n",
    "\n",
    "#get uf\n",
    "df1['estado_vendedor'] = df1['estado_vendedor'].apply(lambda x: x[-3:-1])\n",
    "\n",
    "map_cor = {'Preto':'preto', 'Branco':'branco', 'Prata':'prata', 'Cinza':'cinza', 'Dourado':'outros', 'Vermelho':'outros', 'Azul':'outros',\n",
    "       'Verde':'outros'}\n",
    "\n",
    "# map_regiao={'SP':'sudeste','RS':'sul','MG':'sudeste','PR':'sul','RJ':'sudeste','MA':'nordeste','SC':'sul','AL':'nordeste','BA':'nordeste','GO':'centro_oeste','RN':'nordeste','PE':'nordeste','MT':'centro_oeste','PA':'norte','CE':'nordeste','AM':'nordeste','ES':'sudeste','RO':'norte','PB':'nordeste','TO':'norte','AC':'norte','SE':'nordeste','MS':'centro_oeste','RR':'norte','PI':'nordeste'}\n",
    "\n",
    "\n",
    "map_cambio = {'Automática': 2, 'Manual' :0, 'CVT' :2, 'Automatizada': 2, 'Semi-automática': 1,\n",
    "       'Automatizada DCT' : 2, 'Automática Sequencial' : 2}"
   ]
  },
  {
   "cell_type": "code",
   "execution_count": 37,
   "id": "a3179052",
   "metadata": {
    "ExecuteTime": {
     "end_time": "2022-08-21T19:48:20.887710Z",
     "start_time": "2022-08-21T19:48:20.655434Z"
    }
   },
   "outputs": [
    {
     "name": "stdout",
     "output_type": "stream",
     "text": [
      "marca\n",
      "modelo\n",
      "versao\n",
      "tipo\n",
      "estado_vendedor\n"
     ]
    }
   ],
   "source": [
    "# target encoders\n",
    "for column in ['marca', 'modelo', 'versao', 'tipo', 'estado_vendedor']:\n",
    "    print(column)\n",
    "    target = pickle.load( open(f'../parameters/{column}_encode.pkl', 'rb'))\n",
    "    df1[column] = df1[column].map(target)"
   ]
  },
  {
   "cell_type": "code",
   "execution_count": 38,
   "id": "7a8fc48a",
   "metadata": {
    "ExecuteTime": {
     "end_time": "2022-08-21T19:48:21.279681Z",
     "start_time": "2022-08-21T19:48:21.159065Z"
    }
   },
   "outputs": [],
   "source": [
    "# binary\n",
    "df1['blindado'] = np.where(df1['blindado']=='N', 0, 1)\n",
    "\n",
    "#map\n",
    "df1['cor'] = df1['cor'].map(map_cor)\n",
    "# df1['estado_vendedor'] = df1['estado_vendedor'].map(map_regiao)\n",
    "df1['cambio'] = df1['cambio'].map(map_cambio)\n",
    "\n",
    "# one hot encoding\n",
    "df1 = pd.get_dummies(df1, columns=['cor',   'tipo_vendedor'])\n",
    "\n",
    "\n",
    "for column in df1.select_dtypes(['int32', 'uint8']).columns:\n",
    "    df1[column] = df1[column].astype('int64')\n",
    "\n",
    "## 4.0. Feature Selection\n",
    "\n",
    "df2 = df1.drop('id', axis=1).copy()"
   ]
  },
  {
   "cell_type": "code",
   "execution_count": 43,
   "id": "6d660073",
   "metadata": {
    "ExecuteTime": {
     "end_time": "2022-08-21T19:48:32.095348Z",
     "start_time": "2022-08-21T19:48:32.058447Z"
    }
   },
   "outputs": [],
   "source": [
    "cols_selected = ['versao', 'modelo', 'cambio', 'odometro', 'tipo', 'ano_modelo',\n",
    "       'marca', 'ano_de_fabricacao']\n",
    "\n",
    "X = df2[cols_selected]\n",
    "## Model Train\n",
    "\n",
    "\n",
    "#model definition\n",
    "\n",
    "\n",
    "model = pd.read_pickle('../parameters/model.pkl')"
   ]
  },
  {
   "cell_type": "code",
   "execution_count": 44,
   "id": "0f9f6ef6",
   "metadata": {
    "ExecuteTime": {
     "end_time": "2022-08-21T19:48:32.359901Z",
     "start_time": "2022-08-21T19:48:32.345897Z"
    }
   },
   "outputs": [
    {
     "data": {
      "text/plain": [
       "LGBMRegressor(learning_rate=0.07, max_depth=80, num_leaves=90)"
      ]
     },
     "execution_count": 44,
     "metadata": {},
     "output_type": "execute_result"
    }
   ],
   "source": [
    "model"
   ]
  },
  {
   "cell_type": "code",
   "execution_count": 45,
   "id": "4dfa05c7",
   "metadata": {
    "ExecuteTime": {
     "end_time": "2022-08-21T19:48:32.921451Z",
     "start_time": "2022-08-21T19:48:32.899513Z"
    }
   },
   "outputs": [
    {
     "data": {
      "text/plain": [
       "['versao',\n",
       " 'modelo',\n",
       " 'cambio',\n",
       " 'odometro',\n",
       " 'tipo',\n",
       " 'ano_modelo',\n",
       " 'marca',\n",
       " 'ano_de_fabricacao']"
      ]
     },
     "execution_count": 45,
     "metadata": {},
     "output_type": "execute_result"
    }
   ],
   "source": [
    "cols_selected"
   ]
  },
  {
   "cell_type": "code",
   "execution_count": 46,
   "id": "55e4fcc2",
   "metadata": {
    "ExecuteTime": {
     "end_time": "2022-08-21T19:48:33.855386Z",
     "start_time": "2022-08-21T19:48:33.547949Z"
    }
   },
   "outputs": [],
   "source": [
    "#model predict\n",
    "y_hat = model.predict(X[cols_selected])\n",
    "\n",
    "# y_test_ = np.expm1(y_test)\n",
    "y_hat_ = np.expm1(y_hat)\n",
    "\n",
    "\n",
    "\n",
    "# y_test_ = np.expm1(y_test)\n",
    "\n",
    "df_final = pd.DataFrame()\n",
    "df_final['ID'] = df_test['ID']\n",
    "df_final['preco'] = y_hat_\n",
    "\n",
    "df_final.to_csv('../data/sample.csv', index=False)"
   ]
  },
  {
   "cell_type": "code",
   "execution_count": 47,
   "id": "3d4665ab",
   "metadata": {
    "ExecuteTime": {
     "end_time": "2022-08-21T19:48:34.681647Z",
     "start_time": "2022-08-21T19:48:34.650732Z"
    }
   },
   "outputs": [
    {
     "data": {
      "text/html": [
       "<div>\n",
       "<style scoped>\n",
       "    .dataframe tbody tr th:only-of-type {\n",
       "        vertical-align: middle;\n",
       "    }\n",
       "\n",
       "    .dataframe tbody tr th {\n",
       "        vertical-align: top;\n",
       "    }\n",
       "\n",
       "    .dataframe thead th {\n",
       "        text-align: right;\n",
       "    }\n",
       "</style>\n",
       "<table border=\"1\" class=\"dataframe\">\n",
       "  <thead>\n",
       "    <tr style=\"text-align: right;\">\n",
       "      <th></th>\n",
       "      <th>ID</th>\n",
       "      <th>preco</th>\n",
       "    </tr>\n",
       "  </thead>\n",
       "  <tbody>\n",
       "    <tr>\n",
       "      <th>0</th>\n",
       "      <td>24813264385557040124808779273028388499</td>\n",
       "      <td>69654.708791</td>\n",
       "    </tr>\n",
       "    <tr>\n",
       "      <th>1</th>\n",
       "      <td>295636316453795508942188530111300065666</td>\n",
       "      <td>93943.149757</td>\n",
       "    </tr>\n",
       "    <tr>\n",
       "      <th>2</th>\n",
       "      <td>101258309166227950735244624080888109884</td>\n",
       "      <td>81049.899021</td>\n",
       "    </tr>\n",
       "    <tr>\n",
       "      <th>3</th>\n",
       "      <td>28348734455782469411126661985772047409</td>\n",
       "      <td>82969.200846</td>\n",
       "    </tr>\n",
       "    <tr>\n",
       "      <th>4</th>\n",
       "      <td>193163160502972147671913739170248305797</td>\n",
       "      <td>91453.725342</td>\n",
       "    </tr>\n",
       "    <tr>\n",
       "      <th>...</th>\n",
       "      <td>...</td>\n",
       "      <td>...</td>\n",
       "    </tr>\n",
       "    <tr>\n",
       "      <th>39441</th>\n",
       "      <td>238233399351588823822117090805568390727</td>\n",
       "      <td>35431.035839</td>\n",
       "    </tr>\n",
       "    <tr>\n",
       "      <th>39442</th>\n",
       "      <td>64621912306231118962468441892654163025</td>\n",
       "      <td>108247.323466</td>\n",
       "    </tr>\n",
       "    <tr>\n",
       "      <th>39443</th>\n",
       "      <td>100311033226508317456901122129284293382</td>\n",
       "      <td>123405.350716</td>\n",
       "    </tr>\n",
       "    <tr>\n",
       "      <th>39444</th>\n",
       "      <td>217317181330151694133399005110777689124</td>\n",
       "      <td>374934.347779</td>\n",
       "    </tr>\n",
       "    <tr>\n",
       "      <th>39445</th>\n",
       "      <td>192352368001929303528978319612251717581</td>\n",
       "      <td>52015.571671</td>\n",
       "    </tr>\n",
       "  </tbody>\n",
       "</table>\n",
       "<p>39446 rows × 2 columns</p>\n",
       "</div>"
      ],
      "text/plain": [
       "                                            ID          preco\n",
       "0       24813264385557040124808779273028388499   69654.708791\n",
       "1      295636316453795508942188530111300065666   93943.149757\n",
       "2      101258309166227950735244624080888109884   81049.899021\n",
       "3       28348734455782469411126661985772047409   82969.200846\n",
       "4      193163160502972147671913739170248305797   91453.725342\n",
       "...                                        ...            ...\n",
       "39441  238233399351588823822117090805568390727   35431.035839\n",
       "39442   64621912306231118962468441892654163025  108247.323466\n",
       "39443  100311033226508317456901122129284293382  123405.350716\n",
       "39444  217317181330151694133399005110777689124  374934.347779\n",
       "39445  192352368001929303528978319612251717581   52015.571671\n",
       "\n",
       "[39446 rows x 2 columns]"
      ]
     },
     "execution_count": 47,
     "metadata": {},
     "output_type": "execute_result"
    }
   ],
   "source": [
    "df_final"
   ]
  },
  {
   "cell_type": "code",
   "execution_count": null,
   "id": "16d8ad19",
   "metadata": {
    "ExecuteTime": {
     "end_time": "2022-08-21T19:47:38.856974Z",
     "start_time": "2022-08-21T19:47:37.702Z"
    }
   },
   "outputs": [],
   "source": [
    "df_final"
   ]
  },
  {
   "cell_type": "code",
   "execution_count": null,
   "id": "dca7a86b",
   "metadata": {},
   "outputs": [],
   "source": []
  },
  {
   "cell_type": "code",
   "execution_count": null,
   "id": "5b70bf57",
   "metadata": {},
   "outputs": [],
   "source": []
  },
  {
   "cell_type": "code",
   "execution_count": null,
   "id": "31605190",
   "metadata": {},
   "outputs": [],
   "source": []
  }
 ],
 "metadata": {
  "kernelspec": {
   "display_name": "Python 3",
   "language": "python",
   "name": "python3"
  },
  "language_info": {
   "codemirror_mode": {
    "name": "ipython",
    "version": 3
   },
   "file_extension": ".py",
   "mimetype": "text/x-python",
   "name": "python",
   "nbconvert_exporter": "python",
   "pygments_lexer": "ipython3",
   "version": "3.8.8"
  },
  "varInspector": {
   "cols": {
    "lenName": 16,
    "lenType": 16,
    "lenVar": 40
   },
   "kernels_config": {
    "python": {
     "delete_cmd_postfix": "",
     "delete_cmd_prefix": "del ",
     "library": "var_list.py",
     "varRefreshCmd": "print(var_dic_list())"
    },
    "r": {
     "delete_cmd_postfix": ") ",
     "delete_cmd_prefix": "rm(",
     "library": "var_list.r",
     "varRefreshCmd": "cat(var_dic_list()) "
    }
   },
   "types_to_exclude": [
    "module",
    "function",
    "builtin_function_or_method",
    "instance",
    "_Feature"
   ],
   "window_display": false
  }
 },
 "nbformat": 4,
 "nbformat_minor": 5
}
