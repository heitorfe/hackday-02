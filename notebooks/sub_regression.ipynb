{
 "cells": [
  {
   "cell_type": "markdown",
   "id": "f567128c",
   "metadata": {},
   "source": [
    "1. Treinar um modelo sem as features de modelo, versao, marca\n",
    "2. Usar esse modelo treinado para prever preço no df teste\n",
    "3. Fazer novo target encoding para features que nao aparecem no treino\n",
    "\n",
    "4. Treinar modelo com encodings atualizados"
   ]
  },
  {
   "cell_type": "markdown",
   "id": "486d8f41",
   "metadata": {},
   "source": [
    "## Imports"
   ]
  },
  {
   "cell_type": "code",
   "execution_count": 179,
   "id": "acb5cdb7",
   "metadata": {
    "ExecuteTime": {
     "end_time": "2022-08-21T19:51:46.816541Z",
     "start_time": "2022-08-21T19:51:39.502253Z"
    }
   },
   "outputs": [],
   "source": [
    "import pandas as pd\n",
    "import numpy as np\n",
    "from sklearn import preprocessing as pp\n",
    "from matplotlib import pyplot as plt\n",
    "from sklearn.linear_model import LinearRegression, Lasso\n",
    "from sklearn.ensemble import RandomForestRegressor, ExtraTreesRegressor\n",
    "from sklearn.metrics import  mean_absolute_error, mean_squared_error, mean_absolute_percentage_error\n",
    "from sklearn.model_selection import train_test_split, StratifiedKFold, KFold\n",
    "import seaborn as sns\n",
    "import plotly.express as px\n",
    "import sweetviz as sv\n",
    "import pickle\n",
    "from boruta import BorutaPy\n",
    "from lightgbm import LGBMRegressor\n",
    "from xgboost import XGBRegressor\n",
    "\n",
    "pd.set_option('display.max_rows', 100)\n",
    "pd.set_option('display.max_columns', 100)\n",
    "df_raw = pd.read_csv('../data/treino.csv')\n",
    "not_in = pd.read_excel('../data/not_in_train.xlsx')\n",
    "\n",
    "df_test = pd.read_csv('../data/teste.csv')\n"
   ]
  },
  {
   "cell_type": "code",
   "execution_count": 180,
   "id": "90978e04",
   "metadata": {
    "ExecuteTime": {
     "end_time": "2022-08-21T19:51:47.117222Z",
     "start_time": "2022-08-21T19:51:47.104297Z"
    }
   },
   "outputs": [],
   "source": [
    "# stratified cross validation\n",
    "def cross_validation(model_name, model, x_train, y_train):\n",
    "\n",
    "    rmse_list = []\n",
    "    mae_list = []\n",
    "    mape_list = []\n",
    "\n",
    "    skf = KFold(n_splits=5, shuffle=True, random_state=5)\n",
    "\n",
    "    for train_index, test_index in skf.split(x_train, y_train):\n",
    "\n",
    "        x_train_cv = x_train.iloc[train_index]\n",
    "        y_train_cv = y_train.iloc[train_index]\n",
    "\n",
    "        x_test_cv = x_train.iloc[test_index]\n",
    "        y_test_cv = y_train.iloc[test_index]\n",
    "\n",
    "\n",
    "        # model training\n",
    "        model.fit(x_train_cv, y_train_cv)\n",
    "\n",
    "        # prediction\n",
    "        y_hat = model.predict(x_test_cv)\n",
    "\n",
    "        y_hat_ = np.expm1(y_hat)\n",
    "        y_test_cv = np.expm1(y_test_cv)\n",
    "\n",
    "        # metrics\n",
    "        MAPE = np.round(mean_absolute_percentage_error( y_test_cv, y_hat_ ), 2)\n",
    "        MAE = np.round(mean_absolute_error(y_test_cv, y_hat_), 2)\n",
    "        RMSE = np.round(np.sqrt(mean_squared_error(y_test_cv, y_hat_)), 2)\n",
    "#         print(MAPE)\n",
    "        # append to list\n",
    "        rmse_list.append(RMSE)\n",
    "        mae_list.append(MAE) \n",
    "        mape_list.append(MAPE)\n",
    "\n",
    "    avg_mae, stf_mae = np.round( np.mean( mae_list ), 2 ), np.round( np.std( mae_list ), 2 )\n",
    "    avg_mape, stf_mape = np.round( np.mean( mape_list ), 2 ), np.round( np.std( mape_list ), 2 )\n",
    "    avg_rmse, stf_rmse = np.round( np.mean( rmse_list ), 2 ), np.round( np.std( rmse_list ), 2 )\n",
    "\n",
    "    return avg_mae"
   ]
  },
  {
   "cell_type": "markdown",
   "id": "86a87f48",
   "metadata": {},
   "source": [
    "## Train dataset without marca, modelo e versao"
   ]
  },
  {
   "cell_type": "code",
   "execution_count": 202,
   "id": "f9e8b7d1",
   "metadata": {
    "ExecuteTime": {
     "end_time": "2022-08-21T19:53:30.867035Z",
     "start_time": "2022-08-21T19:53:30.401673Z"
    }
   },
   "outputs": [],
   "source": [
    "df1 = df_raw.copy()\n",
    "\n",
    "# rename columns\n",
    "\n",
    "df1.columns = ['id', 'num_fotos', 'marca', 'modelo', 'versao', 'ano_de_fabricacao',\n",
    "       'ano_modelo', 'odometro', 'cambio', 'num_portas', 'tipo', 'blindado',\n",
    "       'cor', 'tipo_vendedor', 'cidade_vendedor', 'estado_vendedor',\n",
    "       'tipo_anuncio', 'entrega_delivery', 'troca', 'elegivel_revisao',\n",
    "       'aceita_troca', 'dono_unico',\n",
    "       'todas_revisoes_concessionaria',\n",
    "       'ipva_pago', 'licenciado',\n",
    "       'garantia_de_fabrica',\n",
    "       'todas_revisoes_agenda',\n",
    "       'alienado', 'preco']\n",
    "\n",
    "#fill na\n",
    "\n",
    "df1['num_fotos'] = df1['num_fotos'].fillna(0)\n",
    "\n",
    "df1 = df1.drop('alienado', axis=1)\n",
    "\n",
    "na_cols = df1.columns[-8:-1]\n",
    "\n",
    "\n",
    "for col in na_cols:\n",
    "    df1[col] = np.where(df1[col].isna(), 0, 1)\n",
    "\n",
    "df1[df1.T.tail(8).index] = df1[df1.T.tail(8).index].astype('int64')\n",
    "\n",
    "df1['ano_modelo'] = df1['ano_modelo'].astype('int64')\n",
    "df1['num_fotos'] = df1['num_fotos'].astype('int64')\n",
    "\n",
    "\n",
    "\n",
    "df1 =df1.drop(['elegivel_revisao',   'versao'], axis=1)\n",
    "\n",
    "min_max_cols = ['num_fotos',  \n",
    " 'ano_de_fabricacao',   \n",
    " 'ano_modelo',          \n",
    " 'odometro',            \n",
    " 'num_portas']\n",
    "\n",
    "mms = pp.MinMaxScaler()\n",
    "\n",
    "for column in min_max_cols:\n",
    "\n",
    "    df1[column] = mms.fit_transform(df1[[column]].values)\n",
    "    pickle.dump(mms, open(f'../parameters/{column}_scaler.pkl', 'wb'))\n",
    "\n",
    "\n",
    "\n",
    "df1['preco'] = np.log1p(df1['preco'])\n",
    "\n",
    "df1 = df1.drop(['cidade_vendedor', 'tipo_anuncio'], axis=1)\n",
    "\n",
    "#get uf\n",
    "df1['estado_vendedor'] = df1['estado_vendedor'].apply(lambda x: x[-3:-1])\n",
    "\n",
    "map_cor = {'Preto':'preto', 'Branco':'branco', 'Prata':'prata', 'Cinza':'cinza', 'Dourado':'outros', 'Vermelho':'outros', 'Azul':'outros',\n",
    "       'Verde':'outros'}\n",
    "\n",
    "map_regiao={'SP':'sudeste','RS':'sul','MG':'sudeste','PR':'sul','RJ':'sudeste','MA':'nordeste','SC':'sul','AL':'nordeste','BA':'nordeste','GO':'centro_oeste','RN':'nordeste','PE':'nordeste','MT':'centro_oeste','PA':'norte','CE':'nordeste','AM':'nordeste','ES':'sudeste','RO':'norte','PB':'nordeste','TO':'norte','AC':'norte','SE':'nordeste','MS':'centro_oeste','RR':'norte','PI':'nordeste'}\n",
    "\n",
    "\n",
    "map_cambio = {'Automática': 2, 'Manual' :0, 'CVT' :2, 'Automatizada': 2, 'Semi-automática': 1,\n",
    "       'Automatizada DCT' : 2, 'Automática Sequencial' : 2}"
   ]
  },
  {
   "cell_type": "code",
   "execution_count": 203,
   "id": "982c51cd",
   "metadata": {
    "ExecuteTime": {
     "end_time": "2022-08-21T19:53:33.578907Z",
     "start_time": "2022-08-21T19:53:33.251541Z"
    }
   },
   "outputs": [],
   "source": [
    "# target encoders\n",
    "for column in ['tipo', 'marca', 'modelo']:\n",
    "    target = df1.groupby(column)['preco'].mean()\n",
    "    df1[column] = df1[column].map(target)\n",
    "    pickle.dump(target, open(f'../parameters/{column}_encode.pkl', 'wb'))\n",
    "\n",
    "# binary\n",
    "df1['blindado'] = np.where(df1['blindado']=='N', 0, 1)\n",
    "\n",
    "#map\n",
    "df1['cor'] = df1['cor'].map(map_cor)\n",
    "df1['estado_vendedor'] = df1['estado_vendedor'].map(map_regiao)\n",
    "df1['cambio'] = df1['cambio'].map(map_cambio)\n",
    "\n",
    "# one hot encoding\n",
    "df1 = pd.get_dummies(df1, columns=['cor', 'estado_vendedor',  'tipo_vendedor'])\n",
    "\n",
    "\n",
    "for column in df1.select_dtypes(['int32', 'uint8']).columns:\n",
    "    df1[column] = df1[column].astype('int64')\n",
    "\n",
    "df2 = df1.drop('id', axis=1).copy()\n",
    "\n",
    "y = df2['preco']\n",
    "X = df2.drop('preco', axis=1)\n",
    "\n",
    "X_train, X_test, y_train, y_test = train_test_split(X, y, train_size=0.8)"
   ]
  },
  {
   "cell_type": "code",
   "execution_count": 183,
   "id": "76cd3842",
   "metadata": {
    "ExecuteTime": {
     "end_time": "2022-08-21T19:51:48.422908Z",
     "start_time": "2022-08-21T19:51:48.409938Z"
    }
   },
   "outputs": [],
   "source": [
    "# # #model definition\n",
    "# forest = ExtraTreesRegressor(n_estimators=250, random_state=3, n_jobs=-1)\n",
    "\n",
    "\n",
    "# # #data preparation\n",
    "# x_train_n = X_train \n",
    "# y_train_n = y_train.values\n",
    "# forest.fit(X_train, y_train_n)\n",
    "\n",
    "\n",
    "\n",
    "# importances = forest.feature_importances_\n",
    "# std = np.std([tree.feature_importances_ for tree in forest.estimators_], axis=0)\n",
    "# indices = np.argsort(importances)[::-1]\n",
    "\n",
    "# #print the feature ranking\n",
    "# print('Feature ranking:')\n",
    "# df = pd.DataFrame()\n",
    "# for i, j in zip(x_train_n, forest.feature_importances_):\n",
    "#     aux = pd.DataFrame({'feature':i, 'importance': j},index=[0])\n",
    "#     df = pd.concat([df,aux],axis=0)\n",
    "    \n",
    "# print(df.sort_values('importance', ascending=False))\n",
    "\n",
    "# #Plot the impurity-based feature importances of the forest\n",
    "# plt.figure()\n",
    "# plt.title('Feature Importances')\n",
    "# plt.bar(range(x_train_n.shape[1]),importances[indices], color='r', yerr=std[indices], align='center')\n",
    "# plt.xticks(range(x_train_n.shape[1]),indices)\n",
    "# plt.xlim([-1, x_train_n.shape[1]])\n",
    "# plt.show();"
   ]
  },
  {
   "cell_type": "code",
   "execution_count": 184,
   "id": "be6f06e8",
   "metadata": {
    "ExecuteTime": {
     "end_time": "2022-08-21T19:51:49.080995Z",
     "start_time": "2022-08-21T19:51:49.069025Z"
    }
   },
   "outputs": [],
   "source": [
    "# cols_selected = df.sort_values('importance', ascending=False).head(10)['feature'].values\n"
   ]
  },
  {
   "cell_type": "code",
   "execution_count": 205,
   "id": "e95ad512",
   "metadata": {
    "ExecuteTime": {
     "end_time": "2022-08-21T19:53:42.086853Z",
     "start_time": "2022-08-21T19:53:42.075883Z"
    }
   },
   "outputs": [],
   "source": [
    "cols_selected = ['odometro', 'tipo', 'cambio', 'ano_modelo', 'ano_de_fabricacao', 'marca', 'modelo']"
   ]
  },
  {
   "cell_type": "code",
   "execution_count": 206,
   "id": "f6ee89b3",
   "metadata": {
    "ExecuteTime": {
     "end_time": "2022-08-21T19:53:42.749307Z",
     "start_time": "2022-08-21T19:53:42.737336Z"
    }
   },
   "outputs": [],
   "source": [
    "y_test_ = np.expm1(y_test)\n",
    "\n",
    "\n",
    "def simple_model_test(model, nome):\n",
    "    #model definition\n",
    "\n",
    "    # model fit\n",
    "    model.fit(X_train, y_train)\n",
    "\n",
    "    #model predict\n",
    "    y_hat = model.predict(X_test)\n",
    "    y_hat_ = np.expm1(y_hat)\n",
    "    \n",
    "    MAPE = np.round(mean_absolute_percentage_error( y_test_, y_hat_ ), 2)\n",
    "    MAE = np.round(mean_absolute_error(y_test_, y_hat_), 2)\n",
    "    RMSE = np.round(np.sqrt(mean_squared_error(y_test_, y_hat_)), 2)\n",
    "    \n",
    "    \n",
    "    print('{}\\n MAE: {}\\n MAPE: {}\\n RMSE: {}'.format(nome, MAE, MAPE, RMSE))\n",
    "    return MAE"
   ]
  },
  {
   "cell_type": "code",
   "execution_count": 207,
   "id": "4a0d268d",
   "metadata": {
    "ExecuteTime": {
     "end_time": "2022-08-21T19:53:43.356808Z",
     "start_time": "2022-08-21T19:53:43.344840Z"
    }
   },
   "outputs": [],
   "source": [
    "# simple_model_test(LinearRegression(), 'Linear Regressor')\n",
    "# simple_model_test(RandomForestRegressor(), 'RandomForestRegressor')\n",
    "# simple_model_test(LGBMRegressor(), 'LGBMRegressor')\n",
    "# simple_model_test(Lasso(), 'Lasso')\n",
    "# simple_model_test(XGBRegressor(), 'XGBRegressor')"
   ]
  },
  {
   "cell_type": "code",
   "execution_count": 208,
   "id": "4d7b113d",
   "metadata": {
    "ExecuteTime": {
     "end_time": "2022-08-21T19:53:43.935059Z",
     "start_time": "2022-08-21T19:53:43.923090Z"
    }
   },
   "outputs": [],
   "source": [
    "min_mae = 999999\n",
    "best_param = {}"
   ]
  },
  {
   "cell_type": "code",
   "execution_count": 209,
   "id": "674d52de",
   "metadata": {
    "ExecuteTime": {
     "end_time": "2022-08-21T19:53:44.497567Z",
     "start_time": "2022-08-21T19:53:44.485591Z"
    }
   },
   "outputs": [],
   "source": [
    "# for i in range(300):\n",
    "#     learning_rate = random.choice(np.arange(0.065, 0.85, 0.002))\n",
    "#     num_leaves = random.choice(np.arange(55,80,2))\n",
    "#     max_depth = random.choice(np.arange(30,70,5))\n",
    "#     min_child_weight = random.choice(np.arange(0.001,0.003,0.0005))\n",
    "#     n_estimators = 100\n",
    "#     boosting_type = 'gbdt'\n",
    "\n",
    "#     model = LGBMRegressor(learning_rate = learning_rate,\n",
    "#                           num_leaves = num_leaves,\n",
    "#                           max_depth =max_depth ,\n",
    "#                          n_estimators = n_estimators,\n",
    "#                           min_child_weight=min_child_weight,\n",
    "#                           boosting_type= boosting_type)\n",
    "    \n",
    "#     mae =  cross_validation('lgbm',model, X_train[cols_selected], y_train)\n",
    "#     if i%10==0:\n",
    "#         print(i, 100)\n",
    "#         print()\n",
    "        \n",
    "#     if mae<min_mae:\n",
    "#         min_mae = mae\n",
    "#         best_param['learning_rate']= learning_rate\n",
    "#         best_param['num_leaves']= num_leaves\n",
    "#         best_param['max_depth']= max_depth\n",
    "#         best_param['n_estimators']= n_estimators\n",
    "#         best_param['min_child_weight'] = min_child_weight\n",
    "#         best_param['boosting_type'] = boosting_type\n",
    "        \n",
    "#         print(f'get better: {mae}')\n",
    "# #         print(learning_rate, num_leaves, max_depth, n_estimators)"
   ]
  },
  {
   "cell_type": "code",
   "execution_count": 210,
   "id": "e7ad06fa",
   "metadata": {
    "ExecuteTime": {
     "end_time": "2022-08-21T19:53:45.095493Z",
     "start_time": "2022-08-21T19:53:45.085519Z"
    }
   },
   "outputs": [],
   "source": [
    "# cross_validation('F',RandomForestRegressor(n_estimators=1500), X_train[cols_selected], y_train)"
   ]
  },
  {
   "cell_type": "code",
   "execution_count": 211,
   "id": "e9d3d4f1",
   "metadata": {
    "ExecuteTime": {
     "end_time": "2022-08-21T19:53:50.412234Z",
     "start_time": "2022-08-21T19:53:45.674757Z"
    }
   },
   "outputs": [
    {
     "name": "stdout",
     "output_type": "stream",
     "text": [
      "28236.23\n"
     ]
    },
    {
     "data": {
      "text/plain": [
       "LGBMRegressor(learning_rate=0.07100000000000001, max_depth=45,\n",
       "              min_child_weight=0.002, num_leaves=57)"
      ]
     },
     "execution_count": 211,
     "metadata": {},
     "output_type": "execute_result"
    }
   ],
   "source": [
    "# model definition\n",
    "model = LGBMRegressor(boosting_type= 'gbdt',learning_rate= 0.07100000000000001, num_leaves= 57, max_depth= 45, n_estimators= 100, min_child_weight=0.002)\n",
    "print(cross_validation('lgbm',model, X_train[cols_selected], y_train))\n",
    "# #train\n",
    "model.fit(X_train[cols_selected], y_train)\n",
    "\n",
    "#test\n"
   ]
  },
  {
   "cell_type": "code",
   "execution_count": 212,
   "id": "c19ccf75",
   "metadata": {
    "ExecuteTime": {
     "end_time": "2022-08-21T19:53:51.082090Z",
     "start_time": "2022-08-21T19:53:51.054165Z"
    }
   },
   "outputs": [],
   "source": [
    "# rename columns\n",
    "df1 = df_test.copy()"
   ]
  },
  {
   "cell_type": "code",
   "execution_count": 213,
   "id": "b1496f39",
   "metadata": {
    "ExecuteTime": {
     "end_time": "2022-08-21T19:53:51.706153Z",
     "start_time": "2022-08-21T19:53:51.696176Z"
    }
   },
   "outputs": [
    {
     "data": {
      "text/plain": [
       "(39446, 28)"
      ]
     },
     "execution_count": 213,
     "metadata": {},
     "output_type": "execute_result"
    }
   ],
   "source": [
    "df1.shape"
   ]
  },
  {
   "cell_type": "code",
   "execution_count": 214,
   "id": "8337b3d0",
   "metadata": {
    "ExecuteTime": {
     "end_time": "2022-08-21T19:53:53.068206Z",
     "start_time": "2022-08-21T19:53:52.351042Z"
    }
   },
   "outputs": [],
   "source": [
    "df1.columns = ['id', 'num_fotos', 'marca', 'modelo', 'versao', 'ano_de_fabricacao',\n",
    "       'ano_modelo', 'odometro', 'cambio', 'num_portas', 'tipo', 'blindado',\n",
    "       'cor', 'tipo_vendedor', 'cidade_vendedor', 'estado_vendedor',\n",
    "       'tipo_anuncio', 'entrega_delivery', 'troca', 'elegivel_revisao',\n",
    "       'aceita_troca', 'dono_unico',\n",
    "       'todas_revisoes_concessionaria',\n",
    "       'ipva_pago', 'licenciado',\n",
    "       'garantia_de_fabrica',\n",
    "       'todas_revisoes_agenda',\n",
    "       'alienado', ]\n",
    "\n",
    "#fill na\n",
    "\n",
    "df1['num_fotos'] = df1['num_fotos'].fillna(0)\n",
    "\n",
    "df1 = df1.drop('alienado', axis=1)\n",
    "\n",
    "na_cols = df1.columns[-8:]\n",
    "\n",
    "\n",
    "for col in na_cols:\n",
    "    df1[col] = np.where(df1[col].isna(), 0, 1)\n",
    "\n",
    "df1[df1.T.tail(8).index] = df1[df1.T.tail(8).index].astype('int64')\n",
    "\n",
    "df1['ano_modelo'] = df1['ano_modelo'].astype('int64')\n",
    "df1['num_fotos'] = df1['num_fotos'].astype('int64')\n",
    "\n",
    "\n",
    "\n",
    "df1 =df1.drop(['elegivel_revisao', 'versao'], axis=1)\n",
    "\n",
    "min_max_cols = ['num_fotos',  \n",
    " 'ano_de_fabricacao',   \n",
    " 'ano_modelo',          \n",
    " 'odometro',            \n",
    " 'num_portas']"
   ]
  },
  {
   "cell_type": "code",
   "execution_count": 215,
   "id": "70e3d557",
   "metadata": {
    "ExecuteTime": {
     "end_time": "2022-08-21T19:53:53.914700Z",
     "start_time": "2022-08-21T19:53:53.668366Z"
    }
   },
   "outputs": [],
   "source": [
    "for column in min_max_cols:\n",
    "    mms = pickle.load(open(f'../parameters/{column}_scaler.pkl', 'rb'))\n",
    "    df1[column] = mms.fit_transform(df1[[column]].values)\n",
    "    \n",
    "\n",
    "\n",
    "\n",
    "df1 = df1.drop(['cidade_vendedor', 'tipo_anuncio'], axis=1)\n",
    "\n",
    "#get uf\n",
    "df1['estado_vendedor'] = df1['estado_vendedor'].apply(lambda x: x[-3:-1])\n",
    "\n",
    "map_cor = {'Preto':'preto', 'Branco':'branco', 'Prata':'prata', 'Cinza':'cinza', 'Dourado':'outros', 'Vermelho':'outros', 'Azul':'outros',\n",
    "       'Verde':'outros'}\n",
    "\n",
    "map_regiao={'SP':'sudeste','RS':'sul','MG':'sudeste','PR':'sul','RJ':'sudeste','MA':'nordeste','SC':'sul','AL':'nordeste','BA':'nordeste','GO':'centro_oeste','RN':'nordeste','PE':'nordeste','MT':'centro_oeste','PA':'norte','CE':'nordeste','AM':'nordeste','ES':'sudeste','RO':'norte','PB':'nordeste','TO':'norte','AC':'norte','SE':'nordeste','MS':'centro_oeste','RR':'norte','PI':'nordeste'}\n",
    "\n",
    "\n",
    "map_cambio = {'Automática': 2, 'Manual' :0, 'CVT' :2, 'Automatizada': 2, 'Semi-automática': 1,\n",
    "       'Automatizada DCT' : 2, 'Automática Sequencial' : 2}\n",
    "\n",
    "\n",
    "# target encoders\n",
    "for column in ['tipo', 'marca', 'modelo']:\n",
    "    target = pickle.load( open(f'../parameters/{column}_encode.pkl', 'rb'))\n",
    "    df1[column] = df1[column].map(target)\n",
    "    \n",
    "\n",
    "# binary\n",
    "df1['blindado'] = np.where(df1['blindado']=='N', 0, 1)\n",
    "\n",
    "#map\n",
    "df1['cor'] = df1['cor'].map(map_cor)\n",
    "df1['estado_vendedor'] = df1['estado_vendedor'].map(map_regiao)\n",
    "df1['cambio'] = df1['cambio'].map(map_cambio)\n",
    "\n",
    "# one hot encoding\n",
    "df1 = pd.get_dummies(df1, columns=['cor', 'estado_vendedor',  'tipo_vendedor'])\n",
    "\n",
    "\n",
    "for column in df1.select_dtypes(['int32', 'uint8']).columns:\n",
    "    df1[column] = df1[column].astype('int64')"
   ]
  },
  {
   "cell_type": "code",
   "execution_count": 217,
   "id": "decbf903",
   "metadata": {
    "ExecuteTime": {
     "end_time": "2022-08-21T19:54:10.803131Z",
     "start_time": "2022-08-21T19:54:10.793124Z"
    }
   },
   "outputs": [],
   "source": [
    "# df2 = df1.drop('id', axis=1).copy()\n",
    "\n",
    "X = df2"
   ]
  },
  {
   "cell_type": "code",
   "execution_count": 218,
   "id": "634854c2",
   "metadata": {
    "ExecuteTime": {
     "end_time": "2022-08-21T19:54:13.115946Z",
     "start_time": "2022-08-21T19:54:12.899552Z"
    }
   },
   "outputs": [],
   "source": [
    "y_hat = model.predict(X[cols_selected])\n",
    "\n",
    "y_hat = np.expm1(y_hat)\n",
    "\n",
    "df_test['preco'] = y_hat\n",
    "\n",
    "df_test.to_pickle('../data/precos_modelo_marca.pkl')"
   ]
  },
  {
   "cell_type": "code",
   "execution_count": 147,
   "id": "63fa8c5c",
   "metadata": {
    "ExecuteTime": {
     "end_time": "2022-08-21T19:47:59.343330Z",
     "start_time": "2022-08-21T19:47:59.329326Z"
    }
   },
   "outputs": [],
   "source": [
    "# df_test= df_test.drop([ 'marca_label', 'modelo_label', 'versao_label'], axis=1)"
   ]
  },
  {
   "cell_type": "code",
   "execution_count": 219,
   "id": "7d2ccdc9",
   "metadata": {
    "ExecuteTime": {
     "end_time": "2022-08-21T19:54:16.264835Z",
     "start_time": "2022-08-21T19:54:16.230903Z"
    }
   },
   "outputs": [],
   "source": [
    "df_total = pd.concat([df_raw, df_test])\n"
   ]
  },
  {
   "cell_type": "code",
   "execution_count": 220,
   "id": "7fd4c0b5",
   "metadata": {
    "ExecuteTime": {
     "end_time": "2022-08-21T19:54:16.577969Z",
     "start_time": "2022-08-21T19:54:16.533090Z"
    }
   },
   "outputs": [],
   "source": [
    "\n",
    "for i in ['marca', 'modelo','versao' ]:\n",
    "    loc = df_test[(~df_test[i].isin(df_raw[i].unique()))]\n",
    "    new_value = np.log1p(loc.groupby(i)['preco'].mean())\n",
    "    actual_encode = pd.read_pickle(f'../parameters/{i}_encode.pkl')\n",
    "    actual_encode = pd.concat([actual_encode, new_value])\n",
    "    pickle.dump(actual_encode, open(f'../parameters/{i}_encode.pkl', 'wb'))"
   ]
  },
  {
   "cell_type": "code",
   "execution_count": 221,
   "id": "32ba99e3",
   "metadata": {
    "ExecuteTime": {
     "end_time": "2022-08-21T19:54:16.876465Z",
     "start_time": "2022-08-21T19:54:16.861503Z"
    },
    "scrolled": true
   },
   "outputs": [
    {
     "data": {
      "text/plain": [
       "marca\n",
       "ALFA ROMEO       11.155027\n",
       "AUDI             11.891094\n",
       "BMW              12.097786\n",
       "BRM              10.774007\n",
       "CHERY            11.655779\n",
       "CHEVROLET        11.325122\n",
       "CHRYSLER         11.025705\n",
       "CITROËN          11.027485\n",
       "DODGE            11.178814\n",
       "EFFA             10.378516\n",
       "FERRARI          11.990643\n",
       "FIAT             11.386366\n",
       "FORD             11.535763\n",
       "HONDA            11.424791\n",
       "HYUNDAI          11.271073\n",
       "IVECO            11.926209\n",
       "JAC              11.502916\n",
       "JAGUAR           12.237732\n",
       "JEEP             11.775875\n",
       "KIA              11.635663\n",
       "LAMBORGHINI      14.117162\n",
       "LAND ROVER       12.193824\n",
       "LEXUS            12.057564\n",
       "LIFAN            11.246682\n",
       "MASERATI         11.996006\n",
       "MERCEDES-BENZ    11.948558\n",
       "MINI             11.800861\n",
       "MITSUBISHI       11.704017\n",
       "NISSAN           11.485058\n",
       "PEUGEOT          11.658108\n",
       "PORSCHE          12.551343\n",
       "RAM              12.646215\n",
       "RENAULT          11.215537\n",
       "SMART            11.313195\n",
       "SSANGYONG        11.226159\n",
       "SUBARU           11.600308\n",
       "SUZUKI           11.354150\n",
       "TOYOTA           11.801713\n",
       "TROLLER          11.837864\n",
       "VOLKSWAGEN       11.549883\n",
       "VOLVO            12.065091\n",
       "MAZDA            11.740116\n",
       "Name: preco, dtype: float64"
      ]
     },
     "execution_count": 221,
     "metadata": {},
     "output_type": "execute_result"
    }
   ],
   "source": [
    "target = pd.read_pickle('../parameters/marca_encode.pkl')\n",
    "target"
   ]
  },
  {
   "cell_type": "code",
   "execution_count": null,
   "id": "94cbba63",
   "metadata": {},
   "outputs": [],
   "source": []
  }
 ],
 "metadata": {
  "kernelspec": {
   "display_name": "Python 3",
   "language": "python",
   "name": "python3"
  },
  "language_info": {
   "codemirror_mode": {
    "name": "ipython",
    "version": 3
   },
   "file_extension": ".py",
   "mimetype": "text/x-python",
   "name": "python",
   "nbconvert_exporter": "python",
   "pygments_lexer": "ipython3",
   "version": "3.8.8"
  },
  "varInspector": {
   "cols": {
    "lenName": 16,
    "lenType": 16,
    "lenVar": 40
   },
   "kernels_config": {
    "python": {
     "delete_cmd_postfix": "",
     "delete_cmd_prefix": "del ",
     "library": "var_list.py",
     "varRefreshCmd": "print(var_dic_list())"
    },
    "r": {
     "delete_cmd_postfix": ") ",
     "delete_cmd_prefix": "rm(",
     "library": "var_list.r",
     "varRefreshCmd": "cat(var_dic_list()) "
    }
   },
   "types_to_exclude": [
    "module",
    "function",
    "builtin_function_or_method",
    "instance",
    "_Feature"
   ],
   "window_display": false
  }
 },
 "nbformat": 4,
 "nbformat_minor": 5
}
