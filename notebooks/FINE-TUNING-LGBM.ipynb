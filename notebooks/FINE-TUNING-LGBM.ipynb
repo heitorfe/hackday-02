{
 "cells": [
  {
   "cell_type": "markdown",
   "id": "92b1dcc3",
   "metadata": {},
   "source": [
    "## 0.0. Imports"
   ]
  },
  {
   "cell_type": "code",
   "execution_count": 1,
   "id": "3df9d13f",
   "metadata": {
    "ExecuteTime": {
     "end_time": "2022-08-21T19:08:48.967020Z",
     "start_time": "2022-08-21T19:08:43.559959Z"
    }
   },
   "outputs": [
    {
     "name": "stderr",
     "output_type": "stream",
     "text": [
      "C:\\Users\\Heithor\\anaconda3\\lib\\site-packages\\dask\\dataframe\\utils.py:369: FutureWarning: pandas.Int64Index is deprecated and will be removed from pandas in a future version. Use pandas.Index with the appropriate dtype instead.\n",
      "  _numeric_index_types = (pd.Int64Index, pd.Float64Index, pd.UInt64Index)\n",
      "C:\\Users\\Heithor\\anaconda3\\lib\\site-packages\\dask\\dataframe\\utils.py:369: FutureWarning: pandas.Float64Index is deprecated and will be removed from pandas in a future version. Use pandas.Index with the appropriate dtype instead.\n",
      "  _numeric_index_types = (pd.Int64Index, pd.Float64Index, pd.UInt64Index)\n",
      "C:\\Users\\Heithor\\anaconda3\\lib\\site-packages\\dask\\dataframe\\utils.py:369: FutureWarning: pandas.UInt64Index is deprecated and will be removed from pandas in a future version. Use pandas.Index with the appropriate dtype instead.\n",
      "  _numeric_index_types = (pd.Int64Index, pd.Float64Index, pd.UInt64Index)\n"
     ]
    }
   ],
   "source": [
    "import pandas as pd\n",
    "import numpy as np\n",
    "from sklearn import preprocessing as pp\n",
    "from matplotlib import pyplot as plt\n",
    "from sklearn.linear_model import LinearRegression, Lasso\n",
    "from sklearn.ensemble import RandomForestRegressor, ExtraTreesRegressor\n",
    "from sklearn.metrics import  mean_absolute_error, mean_squared_error, mean_absolute_percentage_error\n",
    "from sklearn.model_selection import train_test_split, StratifiedKFold, KFold\n",
    "import seaborn as sns\n",
    "import plotly.express as px\n",
    "import sweetviz as sv\n",
    "import pickle\n",
    "from boruta import BorutaPy\n",
    "from lightgbm import LGBMRegressor\n",
    "from xgboost import XGBRegressor\n",
    "from sklearn.svm import SVR\n",
    "\n",
    "\n",
    "\n",
    "\n",
    "pd.set_option('display.max_rows', 100)\n",
    "pd.set_option('display.max_columns', 100)\n",
    "df_raw = pd.read_csv('../data/treino.csv')\n",
    "df_test = pd.read_csv('../data/teste.csv')"
   ]
  },
  {
   "cell_type": "markdown",
   "id": "13458792",
   "metadata": {},
   "source": [
    "### 1.0. Data Description"
   ]
  },
  {
   "cell_type": "code",
   "execution_count": 31,
   "id": "7f228af1",
   "metadata": {
    "ExecuteTime": {
     "end_time": "2022-08-21T19:20:32.658020Z",
     "start_time": "2022-08-21T19:20:32.289012Z"
    }
   },
   "outputs": [],
   "source": [
    "df1 = df_raw.copy()\n",
    "\n",
    "# rename columns\n",
    "\n",
    "df1.columns = ['id', 'num_fotos', 'marca', 'modelo', 'versao', 'ano_de_fabricacao',\n",
    "       'ano_modelo', 'odometro', 'cambio', 'num_portas', 'tipo', 'blindado',\n",
    "       'cor', 'tipo_vendedor', 'cidade_vendedor', 'estado_vendedor',\n",
    "       'tipo_anuncio', 'entrega_delivery', 'troca', 'elegivel_revisao',\n",
    "       'aceita_troca', 'dono_unico',\n",
    "       'todas_revisoes_concessionaria',\n",
    "       'ipva_pago', 'licenciado',\n",
    "       'garantia_de_fabrica',\n",
    "       'todas_revisoes_agenda',\n",
    "       'alienado', 'preco']\n",
    "\n",
    "#fill na\n",
    "\n",
    "df1['num_fotos'] = df1['num_fotos'].fillna(0)\n",
    "\n",
    "df1 = df1.drop('alienado', axis=1)\n",
    "\n",
    "na_cols = df1.columns[-8:-1]\n",
    "\n",
    "\n",
    "for col in na_cols:\n",
    "    df1[col] = np.where(df1[col].isna(), 0, 1)\n",
    "    \n",
    "\n",
    "df1[df1.T.tail(8).index] = df1[df1.T.tail(8).index].astype('int64')\n",
    "\n",
    "df1['ano_modelo'] = df1['ano_modelo'].astype('int64')\n",
    "df1['num_fotos'] = df1['num_fotos'].astype('int64')"
   ]
  },
  {
   "cell_type": "markdown",
   "id": "82b364f3",
   "metadata": {},
   "source": [
    "## 2.0. Data Filtering"
   ]
  },
  {
   "cell_type": "code",
   "execution_count": 32,
   "id": "bbe5bc7a",
   "metadata": {
    "ExecuteTime": {
     "end_time": "2022-08-21T19:20:32.954227Z",
     "start_time": "2022-08-21T19:20:32.924308Z"
    }
   },
   "outputs": [],
   "source": [
    "import sweetviz as sv\n",
    "# my_report = sv.analyze(df1, target_feat='preco')\n",
    "# my_report.show_html() # Default arguments will generate to \"SWEETVIZ_REPORT.html\"\n",
    "\n",
    "df1 =df1.drop(['elegivel_revisao'], axis=1)"
   ]
  },
  {
   "cell_type": "code",
   "execution_count": 33,
   "id": "793e8fd6",
   "metadata": {
    "ExecuteTime": {
     "end_time": "2022-08-21T19:20:33.550331Z",
     "start_time": "2022-08-21T19:20:33.537367Z"
    }
   },
   "outputs": [],
   "source": [
    "# plt.figure(figsize=(15,7))\n",
    "# sns.barplot(data=df1[df1['cor'].isin(['Branco', 'Preto', 'Cinza', 'Prata'])], y='preco', x='estado_vendedor', hue='cor', estimator=np.median);"
   ]
  },
  {
   "cell_type": "code",
   "execution_count": 34,
   "id": "3b47b68d",
   "metadata": {
    "ExecuteTime": {
     "end_time": "2022-08-21T19:20:34.095907Z",
     "start_time": "2022-08-21T19:20:34.083940Z"
    }
   },
   "outputs": [],
   "source": [
    "# sns.barplot(data=df1, y='preco', x='estado_vendedor', hue='num_portas', estimator=np.mean);"
   ]
  },
  {
   "cell_type": "code",
   "execution_count": 35,
   "id": "db32f33a",
   "metadata": {
    "ExecuteTime": {
     "end_time": "2022-08-21T19:20:34.626529Z",
     "start_time": "2022-08-21T19:20:34.613525Z"
    }
   },
   "outputs": [],
   "source": [
    "# sns.barplot(data=df1, y='preco', x='estado_vendedor', hue='ipva_pago', estimator=np.mean);"
   ]
  },
  {
   "cell_type": "markdown",
   "id": "d8e1a21c",
   "metadata": {
    "ExecuteTime": {
     "end_time": "2022-08-20T18:37:06.773430Z",
     "start_time": "2022-08-20T18:37:05.006974Z"
    }
   },
   "source": [
    "## 3.0. Data Transformation\n"
   ]
  },
  {
   "cell_type": "code",
   "execution_count": 36,
   "id": "d031cbfa",
   "metadata": {
    "ExecuteTime": {
     "end_time": "2022-08-21T19:20:35.063388Z",
     "start_time": "2022-08-21T19:20:35.050421Z"
    }
   },
   "outputs": [],
   "source": [
    "num_attributes = df1.select_dtypes(exclude='object')\n",
    "\n"
   ]
  },
  {
   "cell_type": "markdown",
   "id": "4ea51f28",
   "metadata": {},
   "source": [
    "### 3.1. Rescaling"
   ]
  },
  {
   "cell_type": "code",
   "execution_count": 37,
   "id": "2a7566b4",
   "metadata": {
    "ExecuteTime": {
     "end_time": "2022-08-21T19:20:35.565806Z",
     "start_time": "2022-08-21T19:20:35.505932Z"
    }
   },
   "outputs": [],
   "source": [
    "min_max_cols = ['num_fotos',  \n",
    " 'ano_de_fabricacao',   \n",
    " 'ano_modelo',          \n",
    " 'odometro',            \n",
    " 'num_portas']\n",
    "\n",
    "mms = pp.MinMaxScaler()\n",
    "\n",
    "for column in min_max_cols:\n",
    "\n",
    "    df1[column] = mms.fit_transform(df1[[column]].values)\n",
    "    pickle.dump(mms, open(f'../parameters/{column}_scaler.pkl', 'wb'))\n",
    "    \n",
    "\n",
    "\n",
    "\n",
    "\n",
    "df1['preco'] = np.log1p(df1['preco'])"
   ]
  },
  {
   "cell_type": "markdown",
   "id": "c7ae056f",
   "metadata": {},
   "source": [
    "### 3.2. Encoding"
   ]
  },
  {
   "cell_type": "code",
   "execution_count": 38,
   "id": "48b72910",
   "metadata": {
    "ExecuteTime": {
     "end_time": "2022-08-21T19:20:36.147252Z",
     "start_time": "2022-08-21T19:20:35.993624Z"
    }
   },
   "outputs": [],
   "source": [
    "df1 = df1.drop(['cidade_vendedor', 'tipo_anuncio'], axis=1)\n",
    "\n",
    "#get uf\n",
    "df1['estado_vendedor'] = df1['estado_vendedor'].apply(lambda x: x[-3:-1])\n",
    "\n",
    "map_cor = {'Preto':'preto', 'Branco':'branco', 'Prata':'prata', 'Cinza':'cinza', 'Dourado':'outros', 'Vermelho':'outros', 'Azul':'outros',\n",
    "       'Verde':'outros'}\n",
    "\n",
    "map_regiao={'SP':'sudeste','RS':'sul','MG':'sudeste','PR':'sul','RJ':'sudeste','MA':'nordeste','SC':'sul','AL':'nordeste','BA':'nordeste','GO':'centro_oeste','RN':'nordeste','PE':'nordeste','MT':'centro_oeste','PA':'norte','CE':'nordeste','AM':'nordeste','ES':'sudeste','RO':'norte','PB':'nordeste','TO':'norte','AC':'norte','SE':'nordeste','MS':'centro_oeste','RR':'norte','PI':'nordeste'}\n",
    "\n",
    "\n",
    "map_cambio = {'Automática': 2, 'Manual' :0, 'CVT' :2, 'Automatizada': 2, 'Semi-automática': 1,\n",
    "       'Automatizada DCT' : 2, 'Automática Sequencial' : 1}\n",
    "\n",
    "# aux = df1[['estado_vendedor', 'preco']].groupby('estado_vendedor').mean().reset_index().sort_values('preco')\n",
    "# aux['regiao'] = aux['estado_vendedor'].map(map_regiao)\n",
    "\n",
    "\n",
    "\n",
    "# plt.figure(figsize=(15,7))\n",
    "# sns.barplot(data=aux, x='estado_vendedor', y='preco', hue='regiao')\n",
    "\n",
    "\n",
    "\n",
    "# target encoders\n",
    "for column in ['marca',  'versao',  'estado_vendedor', 'tipo', 'modelo']:\n",
    "    target = df1.groupby(column)['preco'].mean()\n",
    "    df1[column] = df1[column].map(target)\n",
    "    pickle.dump(target, open(f'../parameters/{column}_encode.pkl', 'wb'))\n",
    "\n",
    "\n",
    "# frequency encoders\n",
    "# for column in [ ]:\n",
    "#     frequency = df1.groupby(column)['preco'].count() / len(df1)\n",
    "#     df1[column] = df1[column].map(frequency)\n",
    "# #     pickle.dump(frequency, open(f'../parameters/{column}_encode.pkl', 'wb'))"
   ]
  },
  {
   "cell_type": "code",
   "execution_count": 39,
   "id": "15726b79",
   "metadata": {
    "ExecuteTime": {
     "end_time": "2022-08-21T19:20:36.714039Z",
     "start_time": "2022-08-21T19:20:36.622285Z"
    }
   },
   "outputs": [],
   "source": [
    "# binary\n",
    "df1['blindado'] = np.where(df1['blindado']=='N', 0, 1)\n",
    "\n",
    "#map\n",
    "df1['cor'] = df1['cor'].map(map_cor)\n",
    "# df1['estado_vendedor'] = df1['estado_vendedor'].map(map_regiao)\n",
    "df1['cambio'] = df1['cambio'].map(map_cambio)\n",
    "\n",
    "# one hot encoding\n",
    "df1 = pd.get_dummies(df1, columns=['cor',  'tipo_vendedor'])\n",
    "\n",
    "\n",
    "for column in df1.select_dtypes(['int32', 'uint8']).columns:\n",
    "    df1[column] = df1[column].astype('int64')"
   ]
  },
  {
   "cell_type": "markdown",
   "id": "a5c733d9",
   "metadata": {},
   "source": [
    "## 4.0. Feature Selection"
   ]
  },
  {
   "cell_type": "code",
   "execution_count": 40,
   "id": "cffd9ef6",
   "metadata": {
    "ExecuteTime": {
     "end_time": "2022-08-21T19:20:37.215296Z",
     "start_time": "2022-08-21T19:20:37.156457Z"
    }
   },
   "outputs": [],
   "source": [
    "df2 = df1.drop('id', axis=1).copy()\n",
    "\n",
    "y = df2['preco']\n",
    "X = df2.drop('preco', axis=1)\n",
    "\n",
    "X_train, X_test, y_train, y_test = train_test_split(X, y, train_size=0.8)\n",
    "\n",
    "# # #training and test dataset for Boruta\n",
    "# X_train_n = X_train.values\n",
    "# y_train_n = y_train.values.ravel()"
   ]
  },
  {
   "cell_type": "code",
   "execution_count": 41,
   "id": "47f372bd",
   "metadata": {
    "ExecuteTime": {
     "end_time": "2022-08-21T19:20:37.449733Z",
     "start_time": "2022-08-21T19:20:37.435722Z"
    }
   },
   "outputs": [],
   "source": [
    "# #define model\n",
    "# rf = RandomForestRegressor(n_jobs=-1, n_estimators=1000)\n",
    "\n",
    "# #define boruta\n",
    "# boruta= BorutaPy(rf, n_estimators='auto', verbose=2, random_state=41).fit(X_train_n, y_train_n)"
   ]
  },
  {
   "cell_type": "markdown",
   "id": "02ccc301",
   "metadata": {},
   "source": [
    "### Selected cols from boruta"
   ]
  },
  {
   "cell_type": "code",
   "execution_count": 42,
   "id": "66fd61d5",
   "metadata": {
    "ExecuteTime": {
     "end_time": "2022-08-21T19:20:37.717178Z",
     "start_time": "2022-08-21T19:20:37.702054Z"
    }
   },
   "outputs": [],
   "source": [
    "# cols_selected = boruta.support_.tolist()\n",
    "\n",
    "#  #best features\n",
    "# X_train_fs = X_train\n",
    "# cols_selected_boruta = X_train_fs.iloc[:, cols_selected].columns.to_list()\n",
    "\n",
    "# #not selected boruta\n",
    "# cols_not_selected_boruta = list(np.setdiff1d(X_train_fs.columns , cols_selected_boruta))\n",
    "\n",
    "# cols_selected_boruta"
   ]
  },
  {
   "cell_type": "markdown",
   "id": "a3887dab",
   "metadata": {},
   "source": [
    "### Extra trees feature importancia"
   ]
  },
  {
   "cell_type": "code",
   "execution_count": 43,
   "id": "53f06c6e",
   "metadata": {
    "ExecuteTime": {
     "end_time": "2022-08-21T19:20:37.952550Z",
     "start_time": "2022-08-21T19:20:37.938587Z"
    }
   },
   "outputs": [],
   "source": [
    "# # #model definition\n",
    "# forest = ExtraTreesRegressor(n_estimators=250, random_state=3, n_jobs=-1)\n",
    "\n",
    "\n",
    "# # #data preparation\n",
    "# x_train_n = X_train \n",
    "# y_train_n = y_train.values\n",
    "# forest.fit(X_train, y_train_n)\n",
    "\n",
    "\n",
    "\n",
    "# importances = forest.feature_importances_\n",
    "# std = np.std([tree.feature_importances_ for tree in forest.estimators_], axis=0)\n",
    "# indices = np.argsort(importances)[::-1]\n",
    "\n",
    "# #print the feature ranking\n",
    "# print('Feature ranking:')\n",
    "# df = pd.DataFrame()\n",
    "# for i, j in zip(x_train_n, forest.feature_importances_):\n",
    "#     aux = pd.DataFrame({'feature':i, 'importance': j},index=[0])\n",
    "#     df = pd.concat([df,aux],axis=0)\n",
    "    \n",
    "# print(df.sort_values('importance', ascending=False))\n",
    "\n",
    "# #Plot the impurity-based feature importances of the forest\n",
    "# plt.figure()\n",
    "# plt.title('Feature Importances')\n",
    "# plt.bar(range(x_train_n.shape[1]),importances[indices], color='r', yerr=std[indices], align='center')\n",
    "# plt.xticks(range(x_train_n.shape[1]),indices)\n",
    "# plt.xlim([-1, x_train_n.shape[1]])\n",
    "# plt.show();\n",
    "\n",
    "# cols_selected = df.sort_values('importance', ascending=False).head(8)['feature'].values\n",
    "# # cols_selected = ['versao', 'modelo', 'cambio', 'odometro', 'tipo', 'ano_modelo',\n",
    "# #        'marca', 'ano_de_fabricacao']"
   ]
  },
  {
   "cell_type": "markdown",
   "id": "9786a265",
   "metadata": {},
   "source": [
    "## Model Train"
   ]
  },
  {
   "cell_type": "markdown",
   "id": "905706cd",
   "metadata": {},
   "source": [
    "### Linear Regression"
   ]
  },
  {
   "cell_type": "code",
   "execution_count": 44,
   "id": "6f9731ea",
   "metadata": {
    "ExecuteTime": {
     "end_time": "2022-08-21T19:20:38.185300Z",
     "start_time": "2022-08-21T19:20:38.171025Z"
    }
   },
   "outputs": [],
   "source": [
    "y_test_ = np.expm1(y_test)\n",
    "\n",
    "\n",
    "def simple_model_test(model, nome):\n",
    "    #model definition\n",
    "\n",
    "    # model fit\n",
    "    model.fit(X_train, y_train)\n",
    "\n",
    "    #model predict\n",
    "    y_hat = model.predict(X_test)\n",
    "    y_hat_ = np.expm1(y_hat)\n",
    "    \n",
    "    MAPE = np.round(mean_absolute_percentage_error( y_test_, y_hat_ ), 2)\n",
    "    MAE = np.round(mean_absolute_error(y_test_, y_hat_), 2)\n",
    "    RMSE = np.round(np.sqrt(mean_squared_error(y_test_, y_hat_)), 2)\n",
    "    \n",
    "    \n",
    "    print('{}\\n MAE: {}\\n MAPE: {}\\n RMSE: {}'.format(nome, MAE, MAPE, RMSE))\n",
    "    return MAE"
   ]
  },
  {
   "cell_type": "code",
   "execution_count": 16,
   "id": "4a40997e",
   "metadata": {
    "ExecuteTime": {
     "end_time": "2022-08-21T19:08:57.348419Z",
     "start_time": "2022-08-21T19:08:57.339400Z"
    }
   },
   "outputs": [],
   "source": [
    "# simple_model_test(LinearRegression(), 'Linear Regressor')\n",
    "# simple_model_test(RandomForestRegressor(), 'RandomForestRegressor')\n",
    "# simple_model_test(LGBMRegressor(), 'LGBMRegressor')\n",
    "# simple_model_test(Lasso(), 'Lasso')\n",
    "# simple_model_test(XGBRegressor(), 'XGBRegressor')\n",
    "# simple_model_test(SVR(), 'SVR')"
   ]
  },
  {
   "cell_type": "markdown",
   "id": "d443b432",
   "metadata": {},
   "source": [
    "## Cross Validation"
   ]
  },
  {
   "cell_type": "code",
   "execution_count": 17,
   "id": "2f2e03fc",
   "metadata": {
    "ExecuteTime": {
     "end_time": "2022-08-21T19:08:58.451382Z",
     "start_time": "2022-08-21T19:08:58.436383Z"
    }
   },
   "outputs": [],
   "source": [
    "# stratified cross validation\n",
    "def cross_validation(model_name, model, x_train, y_train):\n",
    "\n",
    "    rmse_list = []\n",
    "    mae_list = []\n",
    "    mape_list = []\n",
    "\n",
    "    skf = KFold(n_splits=5, shuffle=True, random_state=5)\n",
    "\n",
    "    for train_index, test_index in skf.split(x_train, y_train):\n",
    "\n",
    "        x_train_cv = x_train.iloc[train_index]\n",
    "        y_train_cv = y_train.iloc[train_index]\n",
    "\n",
    "        x_test_cv = x_train.iloc[test_index]\n",
    "        y_test_cv = y_train.iloc[test_index]\n",
    "\n",
    "\n",
    "        # model training\n",
    "        model.fit(x_train_cv, y_train_cv)\n",
    "\n",
    "        # prediction\n",
    "        y_hat = model.predict(x_test_cv)\n",
    "\n",
    "        y_hat_ = np.expm1(y_hat)\n",
    "        y_test_cv = np.expm1(y_test_cv)\n",
    "\n",
    "        # metrics\n",
    "        MAPE = np.round(mean_absolute_percentage_error( y_test_cv, y_hat_ ), 2)\n",
    "        MAE = np.round(mean_absolute_error(y_test_cv, y_hat_), 2)\n",
    "        RMSE = np.round(np.sqrt(mean_squared_error(y_test_cv, y_hat_)), 2)\n",
    "#         print(MAPE)\n",
    "        # append to list\n",
    "        rmse_list.append(RMSE)\n",
    "        mae_list.append(MAE) \n",
    "        mape_list.append(MAPE)\n",
    "\n",
    "    avg_mae, stf_mae = np.round( np.mean( mae_list ), 2 ), np.round( np.std( mae_list ), 2 )\n",
    "    avg_mape, stf_mape = np.round( np.mean( mape_list ), 2 ), np.round( np.std( mape_list ), 2 )\n",
    "    avg_rmse, stf_rmse = np.round( np.mean( rmse_list ), 2 ), np.round( np.std( rmse_list ), 2 )\n",
    "\n",
    "    return avg_mae"
   ]
  },
  {
   "cell_type": "code",
   "execution_count": 18,
   "id": "405d1cdd",
   "metadata": {
    "ExecuteTime": {
     "end_time": "2022-08-21T19:09:00.226238Z",
     "start_time": "2022-08-21T19:09:00.213235Z"
    }
   },
   "outputs": [],
   "source": [
    "def send_model(model):\n",
    "     # model fit\n",
    "    model.fit(X_train[cols_selected], y_train)\n",
    "    pickle.dump(model, open('../parameters/model.pkl', 'wb'))\n",
    "    print('Model submited')\n",
    "    return None"
   ]
  },
  {
   "cell_type": "markdown",
   "id": "44de448c",
   "metadata": {},
   "source": [
    "## Hyperparameter Tuning"
   ]
  },
  {
   "cell_type": "markdown",
   "id": "0747524e",
   "metadata": {},
   "source": [
    "### RF"
   ]
  },
  {
   "cell_type": "code",
   "execution_count": 551,
   "id": "846116c5",
   "metadata": {
    "ExecuteTime": {
     "end_time": "2022-08-21T18:10:52.841678Z",
     "start_time": "2022-08-21T18:10:52.834696Z"
    }
   },
   "outputs": [
    {
     "data": {
      "text/plain": [
       "RandomForestRegressor(criterion='gini')"
      ]
     },
     "execution_count": 551,
     "metadata": {},
     "output_type": "execute_result"
    }
   ],
   "source": [
    "RandomForestRegressor(criterion='gini')"
   ]
  },
  {
   "cell_type": "code",
   "execution_count": 565,
   "id": "4b110628",
   "metadata": {
    "ExecuteTime": {
     "end_time": "2022-08-21T18:19:49.641614Z",
     "start_time": "2022-08-21T18:19:49.514865Z"
    }
   },
   "outputs": [],
   "source": [
    "rf_params = {}\n",
    "\n",
    "\n",
    "\n"
   ]
  },
  {
   "cell_type": "code",
   "execution_count": 573,
   "id": "f393932e",
   "metadata": {
    "ExecuteTime": {
     "end_time": "2022-08-21T18:37:20.441983Z",
     "start_time": "2022-08-21T18:37:20.426028Z"
    }
   },
   "outputs": [],
   "source": [
    "min_rf = 999999"
   ]
  },
  {
   "cell_type": "code",
   "execution_count": 26,
   "id": "98663727",
   "metadata": {
    "ExecuteTime": {
     "end_time": "2022-08-21T19:09:37.948379Z",
     "start_time": "2022-08-21T19:09:37.925472Z"
    }
   },
   "outputs": [
    {
     "ename": "NameError",
     "evalue": "name 'rf_params' is not defined",
     "output_type": "error",
     "traceback": [
      "\u001b[1;31m---------------------------------------------------------------------------\u001b[0m",
      "\u001b[1;31mNameError\u001b[0m                                 Traceback (most recent call last)",
      "\u001b[1;32m<ipython-input-26-9ab5e26587ac>\u001b[0m in \u001b[0;36m<module>\u001b[1;34m\u001b[0m\n\u001b[0;32m     19\u001b[0m \u001b[1;33m\u001b[0m\u001b[0m\n\u001b[0;32m     20\u001b[0m \u001b[1;33m\u001b[0m\u001b[0m\n\u001b[1;32m---> 21\u001b[1;33m     \u001b[0mrf_params\u001b[0m\u001b[1;33m[\u001b[0m\u001b[1;34m'min_samples_split'\u001b[0m\u001b[1;33m]\u001b[0m \u001b[1;33m=\u001b[0m \u001b[0mmin_samples_split\u001b[0m\u001b[1;33m\u001b[0m\u001b[1;33m\u001b[0m\u001b[0m\n\u001b[0m\u001b[0;32m     22\u001b[0m     \u001b[0mrf_params\u001b[0m\u001b[1;33m[\u001b[0m\u001b[1;34m'max_depth'\u001b[0m\u001b[1;33m]\u001b[0m \u001b[1;33m=\u001b[0m \u001b[0mmax_depth\u001b[0m\u001b[1;33m\u001b[0m\u001b[1;33m\u001b[0m\u001b[0m\n\u001b[0;32m     23\u001b[0m     \u001b[0mrf_params\u001b[0m\u001b[1;33m[\u001b[0m\u001b[1;34m'min_samples_leaf'\u001b[0m\u001b[1;33m]\u001b[0m \u001b[1;33m=\u001b[0m \u001b[0mmin_samples_leaf\u001b[0m\u001b[1;33m\u001b[0m\u001b[1;33m\u001b[0m\u001b[0m\n",
      "\u001b[1;31mNameError\u001b[0m: name 'rf_params' is not defined"
     ]
    }
   ],
   "source": [
    "import random\n",
    "for i in range(300):\n",
    "#     criterion = random.choice(['gini', 'entropy', 'log_loss'])\n",
    "    min_samples_split = random.choice([2,3,4])\n",
    "    max_depth = random.choice(np.arange(60,90,10))\n",
    "    min_samples_leaf = random.choice(np.arange(2,5,1))\n",
    "    n_estimators = random.choice(np.arange(500,1000,100))\n",
    "#     n_estimators = random.choice(np.arange(100,200,10))\n",
    "\n",
    "#     print(criterion)\n",
    "\n",
    "    # model\n",
    "    model_rf = RandomForestRegressor( \n",
    "#     criterion =criterion,\n",
    "    min_samples_split = min_samples_split,\n",
    "    max_depth = max_depth,\n",
    "    min_samples_leaf =min_samples_leaf,\n",
    "    n_estimators = n_estimators)\n",
    "    \n",
    "    \n",
    "    rf_params['min_samples_split'] = min_samples_split\n",
    "    rf_params['max_depth'] = max_depth\n",
    "    rf_params['min_samples_leaf'] = min_samples_leaf\n",
    "    rf_params['n_estimators'] = n_estimators\n",
    "    #Performance\n",
    "#     result = cross_validation(x_training, 5, 'XGBoost Regressor', model_xgb, verbose=True)\n",
    "    print(rf_params)\n",
    "    MAE = cross_validation('xgboost',model_rf, X_train[cols_selected], y_train)\n",
    "    print(MAE)\n",
    "    \n",
    "    if MAE<min_rf:\n",
    "        print('got better')\n",
    "        best_model = model_rf\n",
    "        min_rf = MAE\n",
    "        best_param = model_rf.get_params()\n",
    "\n"
   ]
  },
  {
   "cell_type": "code",
   "execution_count": 577,
   "id": "4b703dc6",
   "metadata": {
    "ExecuteTime": {
     "end_time": "2022-08-21T18:41:27.539537Z",
     "start_time": "2022-08-21T18:41:27.489671Z"
    }
   },
   "outputs": [
    {
     "ename": "NameError",
     "evalue": "name 'best_model' is not defined",
     "output_type": "error",
     "traceback": [
      "\u001b[1;31m---------------------------------------------------------------------------\u001b[0m",
      "\u001b[1;31mNameError\u001b[0m                                 Traceback (most recent call last)",
      "\u001b[1;32m<ipython-input-577-e83f62407969>\u001b[0m in \u001b[0;36m<module>\u001b[1;34m\u001b[0m\n\u001b[1;32m----> 1\u001b[1;33m \u001b[0mbest_model\u001b[0m\u001b[1;33m\u001b[0m\u001b[1;33m\u001b[0m\u001b[0m\n\u001b[0m",
      "\u001b[1;31mNameError\u001b[0m: name 'best_model' is not defined"
     ]
    }
   ],
   "source": []
  },
  {
   "cell_type": "code",
   "execution_count": 19,
   "id": "227099a8",
   "metadata": {
    "ExecuteTime": {
     "end_time": "2022-08-21T19:09:10.234726Z",
     "start_time": "2022-08-21T19:09:10.220719Z"
    }
   },
   "outputs": [],
   "source": [
    "#  param = {'n_estimators': [1100, 1000, 1500, 1300, 1200, 1400],\n",
    "# 'eta': [0.01, 0.03, 0.02],\n",
    "# 'max_depth': [ 5, 9, 7, 8],\n",
    "# 'subsample': [0.3, 0.5, 0.7],\n",
    "# 'colsample_bytree': [0.3, 0.7, 0.9],\n",
    "# 'min_child_weight': [3, 8, 15]\n",
    "# }\n",
    "\n",
    "# MAX_EVAL = 10\n",
    "\n",
    "# import random\n",
    "\n",
    "# for i in range( MAX_EVAL ):\n",
    "#     # choose values for parameters randomly\n",
    "#     hp = { k: random.sample(  v, 1 )[0] for k, v in param.items() }\n",
    "#     print( hp )\n",
    "\n",
    "#     # model\n",
    "#     model_xgb = XGBRegressor( objective='reg:squarederror',\n",
    "#     n_estimators=hp['n_estimators'],\n",
    "#     eta=hp['eta'],\n",
    "#     max_depth=hp['max_depth'],\n",
    "#     subsample=hp['subsample'],\n",
    "#     colsample_bytree=hp['colsample_bytree'],\n",
    "#     min_child_weight=hp['min_child_weight'] )\n",
    "    \n",
    "#     #Performance\n",
    "# #     result = cross_validation(x_training, 5, 'XGBoost Regressor', model_xgb, verbose=True)\n",
    "#     MAE = simple_model_test(model_xgb, 'xgboost')\n",
    "#     print(MAE)\n",
    "# #     if MAE<min_:\n",
    "# #         min_ = MAE\n",
    "# #         best_param = eval(hp)\n",
    "\n",
    "\n",
    "        \n",
    "\n",
    "\n"
   ]
  },
  {
   "cell_type": "code",
   "execution_count": 267,
   "id": "bae4e512",
   "metadata": {
    "ExecuteTime": {
     "end_time": "2022-08-21T16:14:08.385824Z",
     "start_time": "2022-08-21T16:14:08.376807Z"
    }
   },
   "outputs": [],
   "source": [
    "# best_param = param_list[np.argmin(mae_list)]\n",
    "\n",
    "# model = XGBRegressor(n_estimators=1000,\n",
    "#  eta=0.03,\n",
    "#  max_depth=8,\n",
    "#  subsample=0.7,\n",
    "#  colsample_bytree=0.9,\n",
    "#  min_child_weight=8)\n",
    "\n",
    "# cross_validation('xgb',model, X_train[cols_selected], y_train)"
   ]
  },
  {
   "cell_type": "code",
   "execution_count": 20,
   "id": "1c40dfb2",
   "metadata": {
    "ExecuteTime": {
     "end_time": "2022-08-21T19:09:13.342068Z",
     "start_time": "2022-08-21T19:09:13.324073Z"
    }
   },
   "outputs": [],
   "source": [
    "min_mae = 999999\n",
    "best_param = {}\n",
    "\n",
    "#     learning_rate = random.choice(np.arange(0.072, 0.08, 0.002))\n",
    "#     num_leaves = random.choice(np.arange(60,90,10))\n",
    "#     max_depth = random.choice(np.arange(60,90,10))\n",
    "#     min_child_weight = random.choice(np.arange(0.001,0.003,0.0005))\n",
    "#     n_estimators = random.choice(np.arange(90,110,10))"
   ]
  },
  {
   "cell_type": "code",
   "execution_count": 27,
   "id": "f8741de4",
   "metadata": {
    "ExecuteTime": {
     "end_time": "2022-08-21T19:18:24.358143Z",
     "start_time": "2022-08-21T19:09:45.438265Z"
    }
   },
   "outputs": [
    {
     "name": "stdout",
     "output_type": "stream",
     "text": [
      "1 100\n",
      "get better: MAE 25288.12\n",
      "0.12000000000000004 130 50 150\n",
      "get better: MAE 24966.77\n",
      "0.10000000000000002 70 110 50\n",
      "11 100\n",
      "get better: MAE 24920.83\n",
      "0.09000000000000001 130 50 50\n",
      "21 100\n",
      "31 100\n",
      "41 100\n",
      "51 100\n",
      "61 100\n"
     ]
    },
    {
     "ename": "KeyboardInterrupt",
     "evalue": "",
     "output_type": "error",
     "traceback": [
      "\u001b[1;31m---------------------------------------------------------------------------\u001b[0m",
      "\u001b[1;31mKeyboardInterrupt\u001b[0m                         Traceback (most recent call last)",
      "\u001b[1;32m<ipython-input-27-9e10e1502c84>\u001b[0m in \u001b[0;36m<module>\u001b[1;34m\u001b[0m\n\u001b[0;32m     15\u001b[0m                           \u001b[0mmin_child_weight\u001b[0m\u001b[1;33m=\u001b[0m\u001b[0mmin_child_weight\u001b[0m\u001b[1;33m,\u001b[0m\u001b[1;33m\u001b[0m\u001b[1;33m\u001b[0m\u001b[0m\n\u001b[0;32m     16\u001b[0m                           boosting_type= boosting_type)\n\u001b[1;32m---> 17\u001b[1;33m     \u001b[0mmae\u001b[0m \u001b[1;33m=\u001b[0m  \u001b[0mcross_validation\u001b[0m\u001b[1;33m(\u001b[0m\u001b[1;34m'lgbm'\u001b[0m\u001b[1;33m,\u001b[0m\u001b[0mmodel\u001b[0m\u001b[1;33m,\u001b[0m \u001b[0mX_train\u001b[0m\u001b[1;33m[\u001b[0m\u001b[0mcols_selected\u001b[0m\u001b[1;33m]\u001b[0m\u001b[1;33m,\u001b[0m \u001b[0my_train\u001b[0m\u001b[1;33m)\u001b[0m\u001b[1;33m\u001b[0m\u001b[1;33m\u001b[0m\u001b[0m\n\u001b[0m\u001b[0;32m     18\u001b[0m \u001b[1;33m\u001b[0m\u001b[0m\n\u001b[0;32m     19\u001b[0m \u001b[1;31m#     print(mae)\u001b[0m\u001b[1;33m\u001b[0m\u001b[1;33m\u001b[0m\u001b[1;33m\u001b[0m\u001b[0m\n",
      "\u001b[1;32m<ipython-input-17-5bc900280c56>\u001b[0m in \u001b[0;36mcross_validation\u001b[1;34m(model_name, model, x_train, y_train)\u001b[0m\n\u001b[0;32m     18\u001b[0m \u001b[1;33m\u001b[0m\u001b[0m\n\u001b[0;32m     19\u001b[0m         \u001b[1;31m# model training\u001b[0m\u001b[1;33m\u001b[0m\u001b[1;33m\u001b[0m\u001b[1;33m\u001b[0m\u001b[0m\n\u001b[1;32m---> 20\u001b[1;33m         \u001b[0mmodel\u001b[0m\u001b[1;33m.\u001b[0m\u001b[0mfit\u001b[0m\u001b[1;33m(\u001b[0m\u001b[0mx_train_cv\u001b[0m\u001b[1;33m,\u001b[0m \u001b[0my_train_cv\u001b[0m\u001b[1;33m)\u001b[0m\u001b[1;33m\u001b[0m\u001b[1;33m\u001b[0m\u001b[0m\n\u001b[0m\u001b[0;32m     21\u001b[0m \u001b[1;33m\u001b[0m\u001b[0m\n\u001b[0;32m     22\u001b[0m         \u001b[1;31m# prediction\u001b[0m\u001b[1;33m\u001b[0m\u001b[1;33m\u001b[0m\u001b[1;33m\u001b[0m\u001b[0m\n",
      "\u001b[1;32m~\\anaconda3\\lib\\site-packages\\lightgbm\\sklearn.py\u001b[0m in \u001b[0;36mfit\u001b[1;34m(self, X, y, sample_weight, init_score, eval_set, eval_names, eval_sample_weight, eval_init_score, eval_metric, early_stopping_rounds, verbose, feature_name, categorical_feature, callbacks, init_model)\u001b[0m\n\u001b[0;32m    893\u001b[0m             callbacks=None, init_model=None):\n\u001b[0;32m    894\u001b[0m         \u001b[1;34m\"\"\"Docstring is inherited from the LGBMModel.\"\"\"\u001b[0m\u001b[1;33m\u001b[0m\u001b[1;33m\u001b[0m\u001b[0m\n\u001b[1;32m--> 895\u001b[1;33m         super().fit(X, y, sample_weight=sample_weight, init_score=init_score,\n\u001b[0m\u001b[0;32m    896\u001b[0m                     \u001b[0meval_set\u001b[0m\u001b[1;33m=\u001b[0m\u001b[0meval_set\u001b[0m\u001b[1;33m,\u001b[0m \u001b[0meval_names\u001b[0m\u001b[1;33m=\u001b[0m\u001b[0meval_names\u001b[0m\u001b[1;33m,\u001b[0m \u001b[0meval_sample_weight\u001b[0m\u001b[1;33m=\u001b[0m\u001b[0meval_sample_weight\u001b[0m\u001b[1;33m,\u001b[0m\u001b[1;33m\u001b[0m\u001b[1;33m\u001b[0m\u001b[0m\n\u001b[0;32m    897\u001b[0m                     \u001b[0meval_init_score\u001b[0m\u001b[1;33m=\u001b[0m\u001b[0meval_init_score\u001b[0m\u001b[1;33m,\u001b[0m \u001b[0meval_metric\u001b[0m\u001b[1;33m=\u001b[0m\u001b[0meval_metric\u001b[0m\u001b[1;33m,\u001b[0m\u001b[1;33m\u001b[0m\u001b[1;33m\u001b[0m\u001b[0m\n",
      "\u001b[1;32m~\\anaconda3\\lib\\site-packages\\lightgbm\\sklearn.py\u001b[0m in \u001b[0;36mfit\u001b[1;34m(self, X, y, sample_weight, init_score, group, eval_set, eval_names, eval_sample_weight, eval_class_weight, eval_init_score, eval_group, eval_metric, early_stopping_rounds, verbose, feature_name, categorical_feature, callbacks, init_model)\u001b[0m\n\u001b[0;32m    746\u001b[0m         \u001b[0mcallbacks\u001b[0m\u001b[1;33m.\u001b[0m\u001b[0mappend\u001b[0m\u001b[1;33m(\u001b[0m\u001b[0mrecord_evaluation\u001b[0m\u001b[1;33m(\u001b[0m\u001b[0mevals_result\u001b[0m\u001b[1;33m)\u001b[0m\u001b[1;33m)\u001b[0m\u001b[1;33m\u001b[0m\u001b[1;33m\u001b[0m\u001b[0m\n\u001b[0;32m    747\u001b[0m \u001b[1;33m\u001b[0m\u001b[0m\n\u001b[1;32m--> 748\u001b[1;33m         self._Booster = train(\n\u001b[0m\u001b[0;32m    749\u001b[0m             \u001b[0mparams\u001b[0m\u001b[1;33m=\u001b[0m\u001b[0mparams\u001b[0m\u001b[1;33m,\u001b[0m\u001b[1;33m\u001b[0m\u001b[1;33m\u001b[0m\u001b[0m\n\u001b[0;32m    750\u001b[0m             \u001b[0mtrain_set\u001b[0m\u001b[1;33m=\u001b[0m\u001b[0mtrain_set\u001b[0m\u001b[1;33m,\u001b[0m\u001b[1;33m\u001b[0m\u001b[1;33m\u001b[0m\u001b[0m\n",
      "\u001b[1;32m~\\anaconda3\\lib\\site-packages\\lightgbm\\engine.py\u001b[0m in \u001b[0;36mtrain\u001b[1;34m(params, train_set, num_boost_round, valid_sets, valid_names, fobj, feval, init_model, feature_name, categorical_feature, early_stopping_rounds, evals_result, verbose_eval, learning_rates, keep_training_booster, callbacks)\u001b[0m\n\u001b[0;32m    290\u001b[0m                                     evaluation_result_list=None))\n\u001b[0;32m    291\u001b[0m \u001b[1;33m\u001b[0m\u001b[0m\n\u001b[1;32m--> 292\u001b[1;33m         \u001b[0mbooster\u001b[0m\u001b[1;33m.\u001b[0m\u001b[0mupdate\u001b[0m\u001b[1;33m(\u001b[0m\u001b[0mfobj\u001b[0m\u001b[1;33m=\u001b[0m\u001b[0mfobj\u001b[0m\u001b[1;33m)\u001b[0m\u001b[1;33m\u001b[0m\u001b[1;33m\u001b[0m\u001b[0m\n\u001b[0m\u001b[0;32m    293\u001b[0m \u001b[1;33m\u001b[0m\u001b[0m\n\u001b[0;32m    294\u001b[0m         \u001b[0mevaluation_result_list\u001b[0m \u001b[1;33m=\u001b[0m \u001b[1;33m[\u001b[0m\u001b[1;33m]\u001b[0m\u001b[1;33m\u001b[0m\u001b[1;33m\u001b[0m\u001b[0m\n",
      "\u001b[1;32m~\\anaconda3\\lib\\site-packages\\lightgbm\\basic.py\u001b[0m in \u001b[0;36mupdate\u001b[1;34m(self, train_set, fobj)\u001b[0m\n\u001b[0;32m   3019\u001b[0m             \u001b[1;32mif\u001b[0m \u001b[0mself\u001b[0m\u001b[1;33m.\u001b[0m\u001b[0m__set_objective_to_none\u001b[0m\u001b[1;33m:\u001b[0m\u001b[1;33m\u001b[0m\u001b[1;33m\u001b[0m\u001b[0m\n\u001b[0;32m   3020\u001b[0m                 \u001b[1;32mraise\u001b[0m \u001b[0mLightGBMError\u001b[0m\u001b[1;33m(\u001b[0m\u001b[1;34m'Cannot update due to null objective function.'\u001b[0m\u001b[1;33m)\u001b[0m\u001b[1;33m\u001b[0m\u001b[1;33m\u001b[0m\u001b[0m\n\u001b[1;32m-> 3021\u001b[1;33m             _safe_call(_LIB.LGBM_BoosterUpdateOneIter(\n\u001b[0m\u001b[0;32m   3022\u001b[0m                 \u001b[0mself\u001b[0m\u001b[1;33m.\u001b[0m\u001b[0mhandle\u001b[0m\u001b[1;33m,\u001b[0m\u001b[1;33m\u001b[0m\u001b[1;33m\u001b[0m\u001b[0m\n\u001b[0;32m   3023\u001b[0m                 ctypes.byref(is_finished)))\n",
      "\u001b[1;31mKeyboardInterrupt\u001b[0m: "
     ]
    }
   ],
   "source": [
    "\n",
    "\n",
    "for i in range(300):\n",
    "    learning_rate = random.choice(np.arange(0.08, 0.2, 0.005))\n",
    "    num_leaves = random.choice(np.arange(50,150,20))\n",
    "    max_depth = random.choice(np.arange(50,150,20))\n",
    "    min_child_weight = random.choice(np.arange(0.001,0.003,0.0005))\n",
    "    n_estimators = random.choice(np.arange(50,300,50))\n",
    "    boosting_type = 'gbdt'\n",
    "#     n_estimators = random.choice(np.arange(100,200,10))\n",
    "\n",
    "\n",
    "    model = LGBMRegressor(learning_rate = learning_rate,\n",
    "                          num_leaves = num_leaves,\n",
    "                          max_depth =max_depth ,\n",
    "                         n_estimators = n_estimators,\n",
    "                          min_child_weight=min_child_weight,\n",
    "                          boosting_type= boosting_type)\n",
    "    mae =  cross_validation('lgbm',model, X_train[cols_selected], y_train)\n",
    "    \n",
    "#     print(mae)\n",
    "    if i%10==0:\n",
    "        print(i+1, 100)\n",
    "    if mae<min_mae:\n",
    "        \n",
    "        min_mae = mae\n",
    "        best_param['learning_rate']= learning_rate\n",
    "        best_param['num_leaves']= num_leaves\n",
    "        best_param['max_depth']= max_depth\n",
    "        best_param['n_estimators']= n_estimators\n",
    "        best_param['min_child_weight'] = min_child_weight\n",
    "        best_param['boosting_type'] = boosting_type\n",
    "        \n",
    "        print(f'get better: MAE {mae}')\n",
    "        print(learning_rate, num_leaves, max_depth, n_estimators)\n"
   ]
  },
  {
   "cell_type": "code",
   "execution_count": 30,
   "id": "e1aef336",
   "metadata": {
    "ExecuteTime": {
     "end_time": "2022-08-21T19:19:39.982507Z",
     "start_time": "2022-08-21T19:19:39.917522Z"
    }
   },
   "outputs": [
    {
     "data": {
      "text/html": [
       "<div>\n",
       "<style scoped>\n",
       "    .dataframe tbody tr th:only-of-type {\n",
       "        vertical-align: middle;\n",
       "    }\n",
       "\n",
       "    .dataframe tbody tr th {\n",
       "        vertical-align: top;\n",
       "    }\n",
       "\n",
       "    .dataframe thead th {\n",
       "        text-align: right;\n",
       "    }\n",
       "</style>\n",
       "<table border=\"1\" class=\"dataframe\">\n",
       "  <thead>\n",
       "    <tr style=\"text-align: right;\">\n",
       "      <th></th>\n",
       "      <th>versao</th>\n",
       "      <th>cambio</th>\n",
       "      <th>marca</th>\n",
       "      <th>odometro</th>\n",
       "      <th>tipo</th>\n",
       "      <th>ano_modelo</th>\n",
       "      <th>ano_de_fabricacao</th>\n",
       "      <th>modelo</th>\n",
       "    </tr>\n",
       "  </thead>\n",
       "  <tbody>\n",
       "    <tr>\n",
       "      <th>3627</th>\n",
       "      <td>11.018349</td>\n",
       "      <td>0</td>\n",
       "      <td>11.386366</td>\n",
       "      <td>0.186768</td>\n",
       "      <td>11.787826</td>\n",
       "      <td>0.846154</td>\n",
       "      <td>0.891892</td>\n",
       "      <td>11.090824</td>\n",
       "    </tr>\n",
       "    <tr>\n",
       "      <th>10864</th>\n",
       "      <td>11.081735</td>\n",
       "      <td>0</td>\n",
       "      <td>11.775875</td>\n",
       "      <td>0.184668</td>\n",
       "      <td>11.574008</td>\n",
       "      <td>0.769231</td>\n",
       "      <td>0.864865</td>\n",
       "      <td>11.476776</td>\n",
       "    </tr>\n",
       "    <tr>\n",
       "      <th>36152</th>\n",
       "      <td>12.324877</td>\n",
       "      <td>2</td>\n",
       "      <td>11.801713</td>\n",
       "      <td>0.222466</td>\n",
       "      <td>11.787826</td>\n",
       "      <td>0.769231</td>\n",
       "      <td>0.864865</td>\n",
       "      <td>12.234758</td>\n",
       "    </tr>\n",
       "    <tr>\n",
       "      <th>38144</th>\n",
       "      <td>11.860511</td>\n",
       "      <td>2</td>\n",
       "      <td>12.097786</td>\n",
       "      <td>0.194243</td>\n",
       "      <td>11.574008</td>\n",
       "      <td>0.653846</td>\n",
       "      <td>0.783784</td>\n",
       "      <td>11.768316</td>\n",
       "    </tr>\n",
       "    <tr>\n",
       "      <th>37361</th>\n",
       "      <td>11.446993</td>\n",
       "      <td>2</td>\n",
       "      <td>11.801713</td>\n",
       "      <td>0.048368</td>\n",
       "      <td>11.574008</td>\n",
       "      <td>0.923077</td>\n",
       "      <td>0.945946</td>\n",
       "      <td>11.386258</td>\n",
       "    </tr>\n",
       "    <tr>\n",
       "      <th>...</th>\n",
       "      <td>...</td>\n",
       "      <td>...</td>\n",
       "      <td>...</td>\n",
       "      <td>...</td>\n",
       "      <td>...</td>\n",
       "      <td>...</td>\n",
       "      <td>...</td>\n",
       "      <td>...</td>\n",
       "    </tr>\n",
       "    <tr>\n",
       "      <th>18110</th>\n",
       "      <td>11.065291</td>\n",
       "      <td>0</td>\n",
       "      <td>11.549883</td>\n",
       "      <td>0.092808</td>\n",
       "      <td>11.300422</td>\n",
       "      <td>0.884615</td>\n",
       "      <td>0.918919</td>\n",
       "      <td>11.318405</td>\n",
       "    </tr>\n",
       "    <tr>\n",
       "      <th>51</th>\n",
       "      <td>11.910565</td>\n",
       "      <td>2</td>\n",
       "      <td>11.549883</td>\n",
       "      <td>0.173251</td>\n",
       "      <td>11.300422</td>\n",
       "      <td>0.769231</td>\n",
       "      <td>0.837838</td>\n",
       "      <td>11.725100</td>\n",
       "    </tr>\n",
       "    <tr>\n",
       "      <th>27194</th>\n",
       "      <td>11.708650</td>\n",
       "      <td>2</td>\n",
       "      <td>11.635663</td>\n",
       "      <td>0.238224</td>\n",
       "      <td>11.574008</td>\n",
       "      <td>0.653846</td>\n",
       "      <td>0.756757</td>\n",
       "      <td>11.681362</td>\n",
       "    </tr>\n",
       "    <tr>\n",
       "      <th>25804</th>\n",
       "      <td>10.780624</td>\n",
       "      <td>1</td>\n",
       "      <td>11.215537</td>\n",
       "      <td>0.207042</td>\n",
       "      <td>11.300422</td>\n",
       "      <td>0.769231</td>\n",
       "      <td>0.837838</td>\n",
       "      <td>10.954536</td>\n",
       "    </tr>\n",
       "    <tr>\n",
       "      <th>18794</th>\n",
       "      <td>12.433996</td>\n",
       "      <td>2</td>\n",
       "      <td>11.801713</td>\n",
       "      <td>0.188337</td>\n",
       "      <td>11.787826</td>\n",
       "      <td>0.730769</td>\n",
       "      <td>0.810811</td>\n",
       "      <td>12.234758</td>\n",
       "    </tr>\n",
       "  </tbody>\n",
       "</table>\n",
       "<p>31556 rows × 8 columns</p>\n",
       "</div>"
      ],
      "text/plain": [
       "          versao  cambio      marca  odometro       tipo  ano_modelo  \\\n",
       "3627   11.018349       0  11.386366  0.186768  11.787826    0.846154   \n",
       "10864  11.081735       0  11.775875  0.184668  11.574008    0.769231   \n",
       "36152  12.324877       2  11.801713  0.222466  11.787826    0.769231   \n",
       "38144  11.860511       2  12.097786  0.194243  11.574008    0.653846   \n",
       "37361  11.446993       2  11.801713  0.048368  11.574008    0.923077   \n",
       "...          ...     ...        ...       ...        ...         ...   \n",
       "18110  11.065291       0  11.549883  0.092808  11.300422    0.884615   \n",
       "51     11.910565       2  11.549883  0.173251  11.300422    0.769231   \n",
       "27194  11.708650       2  11.635663  0.238224  11.574008    0.653846   \n",
       "25804  10.780624       1  11.215537  0.207042  11.300422    0.769231   \n",
       "18794  12.433996       2  11.801713  0.188337  11.787826    0.730769   \n",
       "\n",
       "       ano_de_fabricacao     modelo  \n",
       "3627            0.891892  11.090824  \n",
       "10864           0.864865  11.476776  \n",
       "36152           0.864865  12.234758  \n",
       "38144           0.783784  11.768316  \n",
       "37361           0.945946  11.386258  \n",
       "...                  ...        ...  \n",
       "18110           0.918919  11.318405  \n",
       "51              0.837838  11.725100  \n",
       "27194           0.756757  11.681362  \n",
       "25804           0.837838  10.954536  \n",
       "18794           0.810811  12.234758  \n",
       "\n",
       "[31556 rows x 8 columns]"
      ]
     },
     "execution_count": 30,
     "metadata": {},
     "output_type": "execute_result"
    }
   ],
   "source": [
    "X_train[cols_selected_selected]"
   ]
  },
  {
   "cell_type": "code",
   "execution_count": null,
   "id": "60005412",
   "metadata": {
    "ExecuteTime": {
     "start_time": "2022-08-21T18:56:21.055Z"
    }
   },
   "outputs": [],
   "source": [
    "cross_validation('', ExtraTreesRegressor(n_estimators=500), X_train[cols_selected], y_train)"
   ]
  },
  {
   "cell_type": "code",
   "execution_count": 596,
   "id": "144604b3",
   "metadata": {
    "ExecuteTime": {
     "end_time": "2022-08-21T18:55:42.781761Z",
     "start_time": "2022-08-21T18:55:25.471842Z"
    }
   },
   "outputs": [
    {
     "name": "stdout",
     "output_type": "stream",
     "text": [
      "\n",
      " MAE: 79395.54\n",
      " MAPE: 0.76\n",
      " RMSE: 109894.8\n"
     ]
    },
    {
     "data": {
      "text/plain": [
       "79395.54"
      ]
     },
     "execution_count": 596,
     "metadata": {},
     "output_type": "execute_result"
    }
   ],
   "source": [
    "simple_model_test(ExtraTreesRegressor(), '')"
   ]
  },
  {
   "cell_type": "code",
   "execution_count": 520,
   "id": "6f4ee1ee",
   "metadata": {
    "ExecuteTime": {
     "end_time": "2022-08-21T17:52:03.554989Z",
     "start_time": "2022-08-21T17:52:03.539033Z"
    }
   },
   "outputs": [
    {
     "data": {
      "text/plain": [
       "{'learning_rate': 0.074,\n",
       " 'num_leaves': 80,\n",
       " 'max_depth': 70,\n",
       " 'n_estimators': 100,\n",
       " 'min_child_weight': 0.001,\n",
       " 'boosting_type': 'gbdt'}"
      ]
     },
     "execution_count": 520,
     "metadata": {},
     "output_type": "execute_result"
    }
   ],
   "source": [
    "best_param"
   ]
  },
  {
   "cell_type": "code",
   "execution_count": 21,
   "id": "046823ff",
   "metadata": {
    "ExecuteTime": {
     "end_time": "2022-08-21T19:09:19.534676Z",
     "start_time": "2022-08-21T19:09:19.516725Z"
    }
   },
   "outputs": [],
   "source": [
    "model = LGBMRegressor(learning_rate = 0.074,num_leaves = 80,max_depth = 70 ,\n",
    "                         n_estimators = 100, boosting_type='gbdt', min_child_weight = 0.001)\n",
    "\n",
    "# send_model(model)"
   ]
  },
  {
   "cell_type": "code",
   "execution_count": 522,
   "id": "3d148249",
   "metadata": {
    "ExecuteTime": {
     "end_time": "2022-08-21T17:52:08.453553Z",
     "start_time": "2022-08-21T17:52:08.443577Z"
    }
   },
   "outputs": [],
   "source": [
    "# sns.histplot(pp.RobustScaler().fit_transform(df_raw[['odometro']].values))"
   ]
  },
  {
   "cell_type": "code",
   "execution_count": 23,
   "id": "c5f73fc5",
   "metadata": {
    "ExecuteTime": {
     "end_time": "2022-08-21T19:09:24.435868Z",
     "start_time": "2022-08-21T19:09:24.421873Z"
    }
   },
   "outputs": [],
   "source": [
    "cols_selected = ['versao', 'cambio', 'marca', 'odometro', 'tipo', 'ano_modelo',\n",
    "       'ano_de_fabricacao',  'modelo']"
   ]
  },
  {
   "cell_type": "code",
   "execution_count": 24,
   "id": "7bba2361",
   "metadata": {
    "ExecuteTime": {
     "end_time": "2022-08-21T19:09:28.135197Z",
     "start_time": "2022-08-21T19:09:24.673248Z"
    }
   },
   "outputs": [
    {
     "data": {
      "text/plain": [
       "24941.47"
      ]
     },
     "execution_count": 24,
     "metadata": {},
     "output_type": "execute_result"
    }
   ],
   "source": [
    "cross_validation('lgbm',model, X_train[cols_selected], y_train)"
   ]
  },
  {
   "cell_type": "code",
   "execution_count": 397,
   "id": "968ffd51",
   "metadata": {
    "ExecuteTime": {
     "end_time": "2022-08-21T17:25:11.136506Z",
     "start_time": "2022-08-21T17:25:11.116558Z"
    }
   },
   "outputs": [
    {
     "data": {
      "text/plain": [
       "['versao',\n",
       " 'modelo',\n",
       " 'cambio',\n",
       " 'odometro',\n",
       " 'tipo',\n",
       " 'ano_modelo',\n",
       " 'marca',\n",
       " 'ano_de_fabricacao']"
      ]
     },
     "execution_count": 397,
     "metadata": {},
     "output_type": "execute_result"
    }
   ],
   "source": [
    "cols_selected"
   ]
  },
  {
   "cell_type": "code",
   "execution_count": 583,
   "id": "1eb26c01",
   "metadata": {
    "ExecuteTime": {
     "end_time": "2022-08-21T18:49:49.986092Z",
     "start_time": "2022-08-21T18:47:07.681299Z"
    }
   },
   "outputs": [
    {
     "name": "stdout",
     "output_type": "stream",
     "text": [
      "Model submited\n"
     ]
    }
   ],
   "source": [
    "send_model(RandomForestRegressor(min_samples_split= 3,\n",
    " max_depth= None,\n",
    " min_samples_leaf= 4,\n",
    " n_estimators= 1500))"
   ]
  },
  {
   "cell_type": "code",
   "execution_count": 582,
   "id": "84ee6dda",
   "metadata": {
    "ExecuteTime": {
     "end_time": "2022-08-21T18:46:25.262258Z",
     "start_time": "2022-08-21T18:46:25.164878Z"
    }
   },
   "outputs": [
    {
     "data": {
      "text/plain": [
       "['versao',\n",
       " 'cambio',\n",
       " 'marca',\n",
       " 'odometro',\n",
       " 'tipo',\n",
       " 'ano_modelo',\n",
       " 'ano_de_fabricacao',\n",
       " 'modelo']"
      ]
     },
     "execution_count": 582,
     "metadata": {},
     "output_type": "execute_result"
    }
   ],
   "source": [
    "cols_selected"
   ]
  }
 ],
 "metadata": {
  "kernelspec": {
   "display_name": "Python 3",
   "language": "python",
   "name": "python3"
  },
  "language_info": {
   "codemirror_mode": {
    "name": "ipython",
    "version": 3
   },
   "file_extension": ".py",
   "mimetype": "text/x-python",
   "name": "python",
   "nbconvert_exporter": "python",
   "pygments_lexer": "ipython3",
   "version": "3.8.8"
  },
  "varInspector": {
   "cols": {
    "lenName": 16,
    "lenType": 16,
    "lenVar": 40
   },
   "kernels_config": {
    "python": {
     "delete_cmd_postfix": "",
     "delete_cmd_prefix": "del ",
     "library": "var_list.py",
     "varRefreshCmd": "print(var_dic_list())"
    },
    "r": {
     "delete_cmd_postfix": ") ",
     "delete_cmd_prefix": "rm(",
     "library": "var_list.r",
     "varRefreshCmd": "cat(var_dic_list()) "
    }
   },
   "types_to_exclude": [
    "module",
    "function",
    "builtin_function_or_method",
    "instance",
    "_Feature"
   ],
   "window_display": false
  }
 },
 "nbformat": 4,
 "nbformat_minor": 5
}
