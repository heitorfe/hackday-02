{
 "cells": [
  {
   "cell_type": "markdown",
   "id": "92b1dcc3",
   "metadata": {},
   "source": [
    "## 0.0. Imports"
   ]
  },
  {
   "cell_type": "code",
   "execution_count": 534,
   "id": "3df9d13f",
   "metadata": {
    "ExecuteTime": {
     "end_time": "2022-08-21T17:58:58.308709Z",
     "start_time": "2022-08-21T17:58:57.763095Z"
    }
   },
   "outputs": [],
   "source": [
    "import pandas as pd\n",
    "import numpy as np\n",
    "from sklearn import preprocessing as pp\n",
    "from matplotlib import pyplot as plt\n",
    "from sklearn.linear_model import LinearRegression, Lasso\n",
    "from sklearn.ensemble import RandomForestRegressor, ExtraTreesRegressor\n",
    "from sklearn.metrics import  mean_absolute_error, mean_squared_error, mean_absolute_percentage_error\n",
    "from sklearn.model_selection import train_test_split, StratifiedKFold, KFold\n",
    "import seaborn as sns\n",
    "import plotly.express as px\n",
    "import sweetviz as sv\n",
    "import pickle\n",
    "from boruta import BorutaPy\n",
    "from lightgbm import LGBMRegressor\n",
    "from xgboost import XGBRegressor\n",
    "from sklearn.svm import SVR\n",
    "\n",
    "\n",
    "\n",
    "\n",
    "pd.set_option('display.max_rows', 100)\n",
    "pd.set_option('display.max_columns', 100)\n",
    "df_raw = pd.read_csv('../data/treino.csv')\n",
    "df_test = pd.read_csv('../data/teste.csv')"
   ]
  },
  {
   "cell_type": "markdown",
   "id": "13458792",
   "metadata": {},
   "source": [
    "### 1.0. Data Description"
   ]
  },
  {
   "cell_type": "code",
   "execution_count": 535,
   "id": "7f228af1",
   "metadata": {
    "ExecuteTime": {
     "end_time": "2022-08-21T17:58:58.905388Z",
     "start_time": "2022-08-21T17:58:58.560101Z"
    }
   },
   "outputs": [],
   "source": [
    "df1 = df_raw.copy()\n",
    "\n",
    "# rename columns\n",
    "\n",
    "df1.columns = ['id', 'num_fotos', 'marca', 'modelo', 'versao', 'ano_de_fabricacao',\n",
    "       'ano_modelo', 'odometro', 'cambio', 'num_portas', 'tipo', 'blindado',\n",
    "       'cor', 'tipo_vendedor', 'cidade_vendedor', 'estado_vendedor',\n",
    "       'tipo_anuncio', 'entrega_delivery', 'troca', 'elegivel_revisao',\n",
    "       'aceita_troca', 'dono_unico',\n",
    "       'todas_revisoes_concessionaria',\n",
    "       'ipva_pago', 'licenciado',\n",
    "       'garantia_de_fabrica',\n",
    "       'todas_revisoes_agenda',\n",
    "       'alienado', 'preco']\n",
    "\n",
    "#fill na\n",
    "\n",
    "df1['num_fotos'] = df1['num_fotos'].fillna(0)\n",
    "\n",
    "df1 = df1.drop('alienado', axis=1)\n",
    "\n",
    "na_cols = df1.columns[-8:-1]\n",
    "\n",
    "\n",
    "for col in na_cols:\n",
    "    df1[col] = np.where(df1[col].isna(), 0, 1)\n",
    "    \n",
    "\n",
    "df1[df1.T.tail(8).index] = df1[df1.T.tail(8).index].astype('int64')\n",
    "\n",
    "df1['ano_modelo'] = df1['ano_modelo'].astype('int64')\n",
    "df1['num_fotos'] = df1['num_fotos'].astype('int64')"
   ]
  },
  {
   "cell_type": "markdown",
   "id": "82b364f3",
   "metadata": {},
   "source": [
    "## 2.0. Data Filtering"
   ]
  },
  {
   "cell_type": "code",
   "execution_count": 536,
   "id": "bbe5bc7a",
   "metadata": {
    "ExecuteTime": {
     "end_time": "2022-08-21T17:58:59.732111Z",
     "start_time": "2022-08-21T17:58:59.715116Z"
    }
   },
   "outputs": [],
   "source": [
    "import sweetviz as sv\n",
    "# my_report = sv.analyze(df1, target_feat='preco')\n",
    "# my_report.show_html() # Default arguments will generate to \"SWEETVIZ_REPORT.html\"\n",
    "\n",
    "df1 =df1.drop(['elegivel_revisao'], axis=1)"
   ]
  },
  {
   "cell_type": "code",
   "execution_count": 537,
   "id": "793e8fd6",
   "metadata": {
    "ExecuteTime": {
     "end_time": "2022-08-21T17:59:00.044275Z",
     "start_time": "2022-08-21T17:59:00.030312Z"
    }
   },
   "outputs": [],
   "source": [
    "# plt.figure(figsize=(15,7))\n",
    "# sns.barplot(data=df1[df1['cor'].isin(['Branco', 'Preto', 'Cinza', 'Prata'])], y='preco', x='estado_vendedor', hue='cor', estimator=np.median);"
   ]
  },
  {
   "cell_type": "code",
   "execution_count": 504,
   "id": "3b47b68d",
   "metadata": {
    "ExecuteTime": {
     "end_time": "2022-08-21T17:51:17.990529Z",
     "start_time": "2022-08-21T17:51:17.976511Z"
    }
   },
   "outputs": [],
   "source": [
    "# sns.barplot(data=df1, y='preco', x='estado_vendedor', hue='num_portas', estimator=np.mean);"
   ]
  },
  {
   "cell_type": "code",
   "execution_count": 505,
   "id": "db32f33a",
   "metadata": {
    "ExecuteTime": {
     "end_time": "2022-08-21T17:51:18.241106Z",
     "start_time": "2022-08-21T17:51:18.226841Z"
    }
   },
   "outputs": [],
   "source": [
    "# sns.barplot(data=df1, y='preco', x='estado_vendedor', hue='ipva_pago', estimator=np.mean);"
   ]
  },
  {
   "cell_type": "markdown",
   "id": "d8e1a21c",
   "metadata": {
    "ExecuteTime": {
     "end_time": "2022-08-20T18:37:06.773430Z",
     "start_time": "2022-08-20T18:37:05.006974Z"
    }
   },
   "source": [
    "## 3.0. Data Transformation\n"
   ]
  },
  {
   "cell_type": "code",
   "execution_count": 538,
   "id": "d031cbfa",
   "metadata": {
    "ExecuteTime": {
     "end_time": "2022-08-21T17:59:02.516935Z",
     "start_time": "2022-08-21T17:59:02.498982Z"
    }
   },
   "outputs": [],
   "source": [
    "num_attributes = df1.select_dtypes(exclude='object')\n",
    "\n"
   ]
  },
  {
   "cell_type": "markdown",
   "id": "4ea51f28",
   "metadata": {},
   "source": [
    "### 3.1. Rescaling"
   ]
  },
  {
   "cell_type": "code",
   "execution_count": 539,
   "id": "2a7566b4",
   "metadata": {
    "ExecuteTime": {
     "end_time": "2022-08-21T17:59:03.608231Z",
     "start_time": "2022-08-21T17:59:03.571254Z"
    }
   },
   "outputs": [],
   "source": [
    "min_max_cols = ['num_fotos',  \n",
    " 'ano_de_fabricacao',   \n",
    " 'ano_modelo',          \n",
    " 'odometro',            \n",
    " 'num_portas']\n",
    "\n",
    "mms = pp.MinMaxScaler()\n",
    "\n",
    "for column in min_max_cols:\n",
    "\n",
    "    df1[column] = mms.fit_transform(df1[[column]].values)\n",
    "    pickle.dump(mms, open(f'../parameters/{column}_scaler.pkl', 'wb'))\n",
    "    \n",
    "\n",
    "\n",
    "\n",
    "\n",
    "df1['preco'] = np.log1p(df1['preco'])"
   ]
  },
  {
   "cell_type": "markdown",
   "id": "c7ae056f",
   "metadata": {},
   "source": [
    "### 3.2. Encoding"
   ]
  },
  {
   "cell_type": "code",
   "execution_count": 540,
   "id": "48b72910",
   "metadata": {
    "ExecuteTime": {
     "end_time": "2022-08-21T17:59:19.362493Z",
     "start_time": "2022-08-21T17:59:19.259606Z"
    }
   },
   "outputs": [],
   "source": [
    "df1 = df1.drop(['cidade_vendedor', 'tipo_anuncio'], axis=1)\n",
    "\n",
    "#get uf\n",
    "df1['estado_vendedor'] = df1['estado_vendedor'].apply(lambda x: x[-3:-1])\n",
    "\n",
    "map_cor = {'Preto':'preto', 'Branco':'branco', 'Prata':'prata', 'Cinza':'cinza', 'Dourado':'outros', 'Vermelho':'outros', 'Azul':'outros',\n",
    "       'Verde':'outros'}\n",
    "\n",
    "map_regiao={'SP':'sudeste','RS':'sul','MG':'sudeste','PR':'sul','RJ':'sudeste','MA':'nordeste','SC':'sul','AL':'nordeste','BA':'nordeste','GO':'centro_oeste','RN':'nordeste','PE':'nordeste','MT':'centro_oeste','PA':'norte','CE':'nordeste','AM':'nordeste','ES':'sudeste','RO':'norte','PB':'nordeste','TO':'norte','AC':'norte','SE':'nordeste','MS':'centro_oeste','RR':'norte','PI':'nordeste'}\n",
    "\n",
    "\n",
    "map_cambio = {'Automática': 2, 'Manual' :0, 'CVT' :2, 'Automatizada': 2, 'Semi-automática': 1,\n",
    "       'Automatizada DCT' : 3, 'Automática Sequencial' : 1}\n",
    "\n",
    "# aux = df1[['estado_vendedor', 'preco']].groupby('estado_vendedor').mean().reset_index().sort_values('preco')\n",
    "# aux['regiao'] = aux['estado_vendedor'].map(map_regiao)\n",
    "\n",
    "\n",
    "\n",
    "# plt.figure(figsize=(15,7))\n",
    "# sns.barplot(data=aux, x='estado_vendedor', y='preco', hue='regiao')\n",
    "\n",
    "\n",
    "\n",
    "# target encoders\n",
    "for column in ['marca',  'versao',  'estado_vendedor', 'tipo', 'modelo']:\n",
    "    target = df1.groupby(column)['preco'].mean()\n",
    "    df1[column] = df1[column].map(target)\n",
    "    pickle.dump(target, open(f'../parameters/{column}_encode.pkl', 'wb'))\n",
    "\n",
    "\n",
    "# frequency encoders\n",
    "# for column in [ ]:\n",
    "#     frequency = df1.groupby(column)['preco'].count() / len(df1)\n",
    "#     df1[column] = df1[column].map(frequency)\n",
    "# #     pickle.dump(frequency, open(f'../parameters/{column}_encode.pkl', 'wb'))"
   ]
  },
  {
   "cell_type": "code",
   "execution_count": 541,
   "id": "15726b79",
   "metadata": {
    "ExecuteTime": {
     "end_time": "2022-08-21T17:59:20.922611Z",
     "start_time": "2022-08-21T17:59:20.859391Z"
    }
   },
   "outputs": [],
   "source": [
    "# binary\n",
    "df1['blindado'] = np.where(df1['blindado']=='N', 0, 1)\n",
    "\n",
    "#map\n",
    "df1['cor'] = df1['cor'].map(map_cor)\n",
    "# df1['estado_vendedor'] = df1['estado_vendedor'].map(map_regiao)\n",
    "df1['cambio'] = df1['cambio'].map(map_cambio)\n",
    "\n",
    "# one hot encoding\n",
    "df1 = pd.get_dummies(df1, columns=['cor',  'tipo_vendedor'])\n",
    "\n",
    "\n",
    "for column in df1.select_dtypes(['int32', 'uint8']).columns:\n",
    "    df1[column] = df1[column].astype('int64')"
   ]
  },
  {
   "cell_type": "markdown",
   "id": "a5c733d9",
   "metadata": {},
   "source": [
    "## 4.0. Feature Selection"
   ]
  },
  {
   "cell_type": "code",
   "execution_count": 542,
   "id": "cffd9ef6",
   "metadata": {
    "ExecuteTime": {
     "end_time": "2022-08-21T17:59:21.235810Z",
     "start_time": "2022-08-21T17:59:21.191897Z"
    }
   },
   "outputs": [],
   "source": [
    "df2 = df1.drop('id', axis=1).copy()\n",
    "\n",
    "y = df2['preco']\n",
    "X = df2.drop('preco', axis=1)\n",
    "\n",
    "X_train, X_test, y_train, y_test = train_test_split(X, y, train_size=0.8)\n",
    "\n",
    "# # #training and test dataset for Boruta\n",
    "# X_train_n = X_train.values\n",
    "# y_train_n = y_train.values.ravel()"
   ]
  },
  {
   "cell_type": "code",
   "execution_count": 543,
   "id": "47f372bd",
   "metadata": {
    "ExecuteTime": {
     "end_time": "2022-08-21T17:59:21.548156Z",
     "start_time": "2022-08-21T17:59:21.533974Z"
    }
   },
   "outputs": [],
   "source": [
    "# #define model\n",
    "# rf = RandomForestRegressor(n_jobs=-1, n_estimators=1000)\n",
    "\n",
    "# #define boruta\n",
    "# boruta= BorutaPy(rf, n_estimators='auto', verbose=2, random_state=41).fit(X_train_n, y_train_n)"
   ]
  },
  {
   "cell_type": "markdown",
   "id": "02ccc301",
   "metadata": {},
   "source": [
    "### Selected cols from boruta"
   ]
  },
  {
   "cell_type": "code",
   "execution_count": 544,
   "id": "66fd61d5",
   "metadata": {
    "ExecuteTime": {
     "end_time": "2022-08-21T17:59:21.845256Z",
     "start_time": "2022-08-21T17:59:21.831003Z"
    }
   },
   "outputs": [],
   "source": [
    "# cols_selected = boruta.support_.tolist()\n",
    "\n",
    "#  #best features\n",
    "# X_train_fs = X_train\n",
    "# cols_selected_boruta = X_train_fs.iloc[:, cols_selected].columns.to_list()\n",
    "\n",
    "# #not selected boruta\n",
    "# cols_not_selected_boruta = list(np.setdiff1d(X_train_fs.columns , cols_selected_boruta))\n",
    "\n",
    "# cols_selected_boruta"
   ]
  },
  {
   "cell_type": "markdown",
   "id": "a3887dab",
   "metadata": {},
   "source": [
    "### Extra trees feature importancia"
   ]
  },
  {
   "cell_type": "code",
   "execution_count": 545,
   "id": "53f06c6e",
   "metadata": {
    "ExecuteTime": {
     "end_time": "2022-08-21T17:59:27.488448Z",
     "start_time": "2022-08-21T17:59:22.114445Z"
    }
   },
   "outputs": [
    {
     "ename": "KeyboardInterrupt",
     "evalue": "",
     "output_type": "error",
     "traceback": [
      "\u001b[1;31m---------------------------------------------------------------------------\u001b[0m",
      "\u001b[1;31mKeyboardInterrupt\u001b[0m                         Traceback (most recent call last)",
      "\u001b[1;32m<ipython-input-545-e9b231332c1d>\u001b[0m in \u001b[0;36m<module>\u001b[1;34m\u001b[0m\n\u001b[0;32m      6\u001b[0m \u001b[0mx_train_n\u001b[0m \u001b[1;33m=\u001b[0m \u001b[0mX_train\u001b[0m\u001b[1;33m\u001b[0m\u001b[1;33m\u001b[0m\u001b[0m\n\u001b[0;32m      7\u001b[0m \u001b[0my_train_n\u001b[0m \u001b[1;33m=\u001b[0m \u001b[0my_train\u001b[0m\u001b[1;33m.\u001b[0m\u001b[0mvalues\u001b[0m\u001b[1;33m\u001b[0m\u001b[1;33m\u001b[0m\u001b[0m\n\u001b[1;32m----> 8\u001b[1;33m \u001b[0mforest\u001b[0m\u001b[1;33m.\u001b[0m\u001b[0mfit\u001b[0m\u001b[1;33m(\u001b[0m\u001b[0mX_train\u001b[0m\u001b[1;33m,\u001b[0m \u001b[0my_train_n\u001b[0m\u001b[1;33m)\u001b[0m\u001b[1;33m\u001b[0m\u001b[1;33m\u001b[0m\u001b[0m\n\u001b[0m\u001b[0;32m      9\u001b[0m \u001b[1;33m\u001b[0m\u001b[0m\n\u001b[0;32m     10\u001b[0m \u001b[1;33m\u001b[0m\u001b[0m\n",
      "\u001b[1;32m~\\anaconda3\\lib\\site-packages\\sklearn\\ensemble\\_forest.py\u001b[0m in \u001b[0;36mfit\u001b[1;34m(self, X, y, sample_weight)\u001b[0m\n\u001b[0;32m    448\u001b[0m             \u001b[1;31m# parallel_backend contexts set at a higher level,\u001b[0m\u001b[1;33m\u001b[0m\u001b[1;33m\u001b[0m\u001b[1;33m\u001b[0m\u001b[0m\n\u001b[0;32m    449\u001b[0m             \u001b[1;31m# since correctness does not rely on using threads.\u001b[0m\u001b[1;33m\u001b[0m\u001b[1;33m\u001b[0m\u001b[1;33m\u001b[0m\u001b[0m\n\u001b[1;32m--> 450\u001b[1;33m             trees = Parallel(\n\u001b[0m\u001b[0;32m    451\u001b[0m                 \u001b[0mn_jobs\u001b[0m\u001b[1;33m=\u001b[0m\u001b[0mself\u001b[0m\u001b[1;33m.\u001b[0m\u001b[0mn_jobs\u001b[0m\u001b[1;33m,\u001b[0m\u001b[1;33m\u001b[0m\u001b[1;33m\u001b[0m\u001b[0m\n\u001b[0;32m    452\u001b[0m                 \u001b[0mverbose\u001b[0m\u001b[1;33m=\u001b[0m\u001b[0mself\u001b[0m\u001b[1;33m.\u001b[0m\u001b[0mverbose\u001b[0m\u001b[1;33m,\u001b[0m\u001b[1;33m\u001b[0m\u001b[1;33m\u001b[0m\u001b[0m\n",
      "\u001b[1;32m~\\anaconda3\\lib\\site-packages\\joblib\\parallel.py\u001b[0m in \u001b[0;36m__call__\u001b[1;34m(self, iterable)\u001b[0m\n\u001b[0;32m   1052\u001b[0m \u001b[1;33m\u001b[0m\u001b[0m\n\u001b[0;32m   1053\u001b[0m             \u001b[1;32mwith\u001b[0m \u001b[0mself\u001b[0m\u001b[1;33m.\u001b[0m\u001b[0m_backend\u001b[0m\u001b[1;33m.\u001b[0m\u001b[0mretrieval_context\u001b[0m\u001b[1;33m(\u001b[0m\u001b[1;33m)\u001b[0m\u001b[1;33m:\u001b[0m\u001b[1;33m\u001b[0m\u001b[1;33m\u001b[0m\u001b[0m\n\u001b[1;32m-> 1054\u001b[1;33m                 \u001b[0mself\u001b[0m\u001b[1;33m.\u001b[0m\u001b[0mretrieve\u001b[0m\u001b[1;33m(\u001b[0m\u001b[1;33m)\u001b[0m\u001b[1;33m\u001b[0m\u001b[1;33m\u001b[0m\u001b[0m\n\u001b[0m\u001b[0;32m   1055\u001b[0m             \u001b[1;31m# Make sure that we get a last message telling us we are done\u001b[0m\u001b[1;33m\u001b[0m\u001b[1;33m\u001b[0m\u001b[1;33m\u001b[0m\u001b[0m\n\u001b[0;32m   1056\u001b[0m             \u001b[0melapsed_time\u001b[0m \u001b[1;33m=\u001b[0m \u001b[0mtime\u001b[0m\u001b[1;33m.\u001b[0m\u001b[0mtime\u001b[0m\u001b[1;33m(\u001b[0m\u001b[1;33m)\u001b[0m \u001b[1;33m-\u001b[0m \u001b[0mself\u001b[0m\u001b[1;33m.\u001b[0m\u001b[0m_start_time\u001b[0m\u001b[1;33m\u001b[0m\u001b[1;33m\u001b[0m\u001b[0m\n",
      "\u001b[1;32m~\\anaconda3\\lib\\site-packages\\joblib\\parallel.py\u001b[0m in \u001b[0;36mretrieve\u001b[1;34m(self)\u001b[0m\n\u001b[0;32m    931\u001b[0m             \u001b[1;32mtry\u001b[0m\u001b[1;33m:\u001b[0m\u001b[1;33m\u001b[0m\u001b[1;33m\u001b[0m\u001b[0m\n\u001b[0;32m    932\u001b[0m                 \u001b[1;32mif\u001b[0m \u001b[0mgetattr\u001b[0m\u001b[1;33m(\u001b[0m\u001b[0mself\u001b[0m\u001b[1;33m.\u001b[0m\u001b[0m_backend\u001b[0m\u001b[1;33m,\u001b[0m \u001b[1;34m'supports_timeout'\u001b[0m\u001b[1;33m,\u001b[0m \u001b[1;32mFalse\u001b[0m\u001b[1;33m)\u001b[0m\u001b[1;33m:\u001b[0m\u001b[1;33m\u001b[0m\u001b[1;33m\u001b[0m\u001b[0m\n\u001b[1;32m--> 933\u001b[1;33m                     \u001b[0mself\u001b[0m\u001b[1;33m.\u001b[0m\u001b[0m_output\u001b[0m\u001b[1;33m.\u001b[0m\u001b[0mextend\u001b[0m\u001b[1;33m(\u001b[0m\u001b[0mjob\u001b[0m\u001b[1;33m.\u001b[0m\u001b[0mget\u001b[0m\u001b[1;33m(\u001b[0m\u001b[0mtimeout\u001b[0m\u001b[1;33m=\u001b[0m\u001b[0mself\u001b[0m\u001b[1;33m.\u001b[0m\u001b[0mtimeout\u001b[0m\u001b[1;33m)\u001b[0m\u001b[1;33m)\u001b[0m\u001b[1;33m\u001b[0m\u001b[1;33m\u001b[0m\u001b[0m\n\u001b[0m\u001b[0;32m    934\u001b[0m                 \u001b[1;32melse\u001b[0m\u001b[1;33m:\u001b[0m\u001b[1;33m\u001b[0m\u001b[1;33m\u001b[0m\u001b[0m\n\u001b[0;32m    935\u001b[0m                     \u001b[0mself\u001b[0m\u001b[1;33m.\u001b[0m\u001b[0m_output\u001b[0m\u001b[1;33m.\u001b[0m\u001b[0mextend\u001b[0m\u001b[1;33m(\u001b[0m\u001b[0mjob\u001b[0m\u001b[1;33m.\u001b[0m\u001b[0mget\u001b[0m\u001b[1;33m(\u001b[0m\u001b[1;33m)\u001b[0m\u001b[1;33m)\u001b[0m\u001b[1;33m\u001b[0m\u001b[1;33m\u001b[0m\u001b[0m\n",
      "\u001b[1;32m~\\anaconda3\\lib\\multiprocessing\\pool.py\u001b[0m in \u001b[0;36mget\u001b[1;34m(self, timeout)\u001b[0m\n\u001b[0;32m    763\u001b[0m \u001b[1;33m\u001b[0m\u001b[0m\n\u001b[0;32m    764\u001b[0m     \u001b[1;32mdef\u001b[0m \u001b[0mget\u001b[0m\u001b[1;33m(\u001b[0m\u001b[0mself\u001b[0m\u001b[1;33m,\u001b[0m \u001b[0mtimeout\u001b[0m\u001b[1;33m=\u001b[0m\u001b[1;32mNone\u001b[0m\u001b[1;33m)\u001b[0m\u001b[1;33m:\u001b[0m\u001b[1;33m\u001b[0m\u001b[1;33m\u001b[0m\u001b[0m\n\u001b[1;32m--> 765\u001b[1;33m         \u001b[0mself\u001b[0m\u001b[1;33m.\u001b[0m\u001b[0mwait\u001b[0m\u001b[1;33m(\u001b[0m\u001b[0mtimeout\u001b[0m\u001b[1;33m)\u001b[0m\u001b[1;33m\u001b[0m\u001b[1;33m\u001b[0m\u001b[0m\n\u001b[0m\u001b[0;32m    766\u001b[0m         \u001b[1;32mif\u001b[0m \u001b[1;32mnot\u001b[0m \u001b[0mself\u001b[0m\u001b[1;33m.\u001b[0m\u001b[0mready\u001b[0m\u001b[1;33m(\u001b[0m\u001b[1;33m)\u001b[0m\u001b[1;33m:\u001b[0m\u001b[1;33m\u001b[0m\u001b[1;33m\u001b[0m\u001b[0m\n\u001b[0;32m    767\u001b[0m             \u001b[1;32mraise\u001b[0m \u001b[0mTimeoutError\u001b[0m\u001b[1;33m\u001b[0m\u001b[1;33m\u001b[0m\u001b[0m\n",
      "\u001b[1;32m~\\anaconda3\\lib\\multiprocessing\\pool.py\u001b[0m in \u001b[0;36mwait\u001b[1;34m(self, timeout)\u001b[0m\n\u001b[0;32m    760\u001b[0m \u001b[1;33m\u001b[0m\u001b[0m\n\u001b[0;32m    761\u001b[0m     \u001b[1;32mdef\u001b[0m \u001b[0mwait\u001b[0m\u001b[1;33m(\u001b[0m\u001b[0mself\u001b[0m\u001b[1;33m,\u001b[0m \u001b[0mtimeout\u001b[0m\u001b[1;33m=\u001b[0m\u001b[1;32mNone\u001b[0m\u001b[1;33m)\u001b[0m\u001b[1;33m:\u001b[0m\u001b[1;33m\u001b[0m\u001b[1;33m\u001b[0m\u001b[0m\n\u001b[1;32m--> 762\u001b[1;33m         \u001b[0mself\u001b[0m\u001b[1;33m.\u001b[0m\u001b[0m_event\u001b[0m\u001b[1;33m.\u001b[0m\u001b[0mwait\u001b[0m\u001b[1;33m(\u001b[0m\u001b[0mtimeout\u001b[0m\u001b[1;33m)\u001b[0m\u001b[1;33m\u001b[0m\u001b[1;33m\u001b[0m\u001b[0m\n\u001b[0m\u001b[0;32m    763\u001b[0m \u001b[1;33m\u001b[0m\u001b[0m\n\u001b[0;32m    764\u001b[0m     \u001b[1;32mdef\u001b[0m \u001b[0mget\u001b[0m\u001b[1;33m(\u001b[0m\u001b[0mself\u001b[0m\u001b[1;33m,\u001b[0m \u001b[0mtimeout\u001b[0m\u001b[1;33m=\u001b[0m\u001b[1;32mNone\u001b[0m\u001b[1;33m)\u001b[0m\u001b[1;33m:\u001b[0m\u001b[1;33m\u001b[0m\u001b[1;33m\u001b[0m\u001b[0m\n",
      "\u001b[1;32m~\\anaconda3\\lib\\threading.py\u001b[0m in \u001b[0;36mwait\u001b[1;34m(self, timeout)\u001b[0m\n\u001b[0;32m    556\u001b[0m             \u001b[0msignaled\u001b[0m \u001b[1;33m=\u001b[0m \u001b[0mself\u001b[0m\u001b[1;33m.\u001b[0m\u001b[0m_flag\u001b[0m\u001b[1;33m\u001b[0m\u001b[1;33m\u001b[0m\u001b[0m\n\u001b[0;32m    557\u001b[0m             \u001b[1;32mif\u001b[0m \u001b[1;32mnot\u001b[0m \u001b[0msignaled\u001b[0m\u001b[1;33m:\u001b[0m\u001b[1;33m\u001b[0m\u001b[1;33m\u001b[0m\u001b[0m\n\u001b[1;32m--> 558\u001b[1;33m                 \u001b[0msignaled\u001b[0m \u001b[1;33m=\u001b[0m \u001b[0mself\u001b[0m\u001b[1;33m.\u001b[0m\u001b[0m_cond\u001b[0m\u001b[1;33m.\u001b[0m\u001b[0mwait\u001b[0m\u001b[1;33m(\u001b[0m\u001b[0mtimeout\u001b[0m\u001b[1;33m)\u001b[0m\u001b[1;33m\u001b[0m\u001b[1;33m\u001b[0m\u001b[0m\n\u001b[0m\u001b[0;32m    559\u001b[0m             \u001b[1;32mreturn\u001b[0m \u001b[0msignaled\u001b[0m\u001b[1;33m\u001b[0m\u001b[1;33m\u001b[0m\u001b[0m\n\u001b[0;32m    560\u001b[0m \u001b[1;33m\u001b[0m\u001b[0m\n",
      "\u001b[1;32m~\\anaconda3\\lib\\threading.py\u001b[0m in \u001b[0;36mwait\u001b[1;34m(self, timeout)\u001b[0m\n\u001b[0;32m    300\u001b[0m         \u001b[1;32mtry\u001b[0m\u001b[1;33m:\u001b[0m    \u001b[1;31m# restore state no matter what (e.g., KeyboardInterrupt)\u001b[0m\u001b[1;33m\u001b[0m\u001b[1;33m\u001b[0m\u001b[0m\n\u001b[0;32m    301\u001b[0m             \u001b[1;32mif\u001b[0m \u001b[0mtimeout\u001b[0m \u001b[1;32mis\u001b[0m \u001b[1;32mNone\u001b[0m\u001b[1;33m:\u001b[0m\u001b[1;33m\u001b[0m\u001b[1;33m\u001b[0m\u001b[0m\n\u001b[1;32m--> 302\u001b[1;33m                 \u001b[0mwaiter\u001b[0m\u001b[1;33m.\u001b[0m\u001b[0macquire\u001b[0m\u001b[1;33m(\u001b[0m\u001b[1;33m)\u001b[0m\u001b[1;33m\u001b[0m\u001b[1;33m\u001b[0m\u001b[0m\n\u001b[0m\u001b[0;32m    303\u001b[0m                 \u001b[0mgotit\u001b[0m \u001b[1;33m=\u001b[0m \u001b[1;32mTrue\u001b[0m\u001b[1;33m\u001b[0m\u001b[1;33m\u001b[0m\u001b[0m\n\u001b[0;32m    304\u001b[0m             \u001b[1;32melse\u001b[0m\u001b[1;33m:\u001b[0m\u001b[1;33m\u001b[0m\u001b[1;33m\u001b[0m\u001b[0m\n",
      "\u001b[1;31mKeyboardInterrupt\u001b[0m: "
     ]
    }
   ],
   "source": [
    "# #model definition\n",
    "forest = ExtraTreesRegressor(n_estimators=250, random_state=3, n_jobs=-1)\n",
    "\n",
    "\n",
    "# #data preparation\n",
    "x_train_n = X_train \n",
    "y_train_n = y_train.values\n",
    "forest.fit(X_train, y_train_n)\n",
    "\n",
    "\n",
    "\n",
    "importances = forest.feature_importances_\n",
    "std = np.std([tree.feature_importances_ for tree in forest.estimators_], axis=0)\n",
    "indices = np.argsort(importances)[::-1]\n",
    "\n",
    "#print the feature ranking\n",
    "print('Feature ranking:')\n",
    "df = pd.DataFrame()\n",
    "for i, j in zip(x_train_n, forest.feature_importances_):\n",
    "    aux = pd.DataFrame({'feature':i, 'importance': j},index=[0])\n",
    "    df = pd.concat([df,aux],axis=0)\n",
    "    \n",
    "print(df.sort_values('importance', ascending=False))\n",
    "\n",
    "#Plot the impurity-based feature importances of the forest\n",
    "plt.figure()\n",
    "plt.title('Feature Importances')\n",
    "plt.bar(range(x_train_n.shape[1]),importances[indices], color='r', yerr=std[indices], align='center')\n",
    "plt.xticks(range(x_train_n.shape[1]),indices)\n",
    "plt.xlim([-1, x_train_n.shape[1]])\n",
    "plt.show();\n",
    "\n",
    "cols_selected = df.sort_values('importance', ascending=False).head(8)['feature'].values\n",
    "# cols_selected = ['versao', 'modelo', 'cambio', 'odometro', 'tipo', 'ano_modelo',\n",
    "#        'marca', 'ano_de_fabricacao']"
   ]
  },
  {
   "cell_type": "markdown",
   "id": "9786a265",
   "metadata": {},
   "source": [
    "## Model Train"
   ]
  },
  {
   "cell_type": "markdown",
   "id": "905706cd",
   "metadata": {},
   "source": [
    "### Linear Regression"
   ]
  },
  {
   "cell_type": "code",
   "execution_count": null,
   "id": "6f9731ea",
   "metadata": {
    "ExecuteTime": {
     "end_time": "2022-08-21T17:59:27.495430Z",
     "start_time": "2022-08-21T17:59:22.393Z"
    }
   },
   "outputs": [],
   "source": [
    "y_test_ = np.expm1(y_test)\n",
    "\n",
    "\n",
    "def simple_model_test(model, nome):\n",
    "    #model definition\n",
    "\n",
    "    # model fit\n",
    "    model.fit(X_train, y_train)\n",
    "\n",
    "    #model predict\n",
    "    y_hat = model.predict(X_test)\n",
    "    y_hat_ = np.expm1(y_hat)\n",
    "    \n",
    "    MAPE = np.round(mean_absolute_percentage_error( y_test_, y_hat_ ), 2)\n",
    "    MAE = np.round(mean_absolute_error(y_test_, y_hat_), 2)\n",
    "    RMSE = np.round(np.sqrt(mean_squared_error(y_test_, y_hat_)), 2)\n",
    "    \n",
    "    \n",
    "    print('{}\\n MAE: {}\\n MAPE: {}\\n RMSE: {}'.format(nome, MAE, MAPE, RMSE))\n",
    "    return MAE"
   ]
  },
  {
   "cell_type": "code",
   "execution_count": null,
   "id": "4a40997e",
   "metadata": {
    "ExecuteTime": {
     "end_time": "2022-08-21T17:59:27.500416Z",
     "start_time": "2022-08-21T17:59:22.561Z"
    }
   },
   "outputs": [],
   "source": [
    "# simple_model_test(LinearRegression(), 'Linear Regressor')\n",
    "# simple_model_test(RandomForestRegressor(), 'RandomForestRegressor')\n",
    "# simple_model_test(LGBMRegressor(), 'LGBMRegressor')\n",
    "# simple_model_test(Lasso(), 'Lasso')\n",
    "# simple_model_test(XGBRegressor(), 'XGBRegressor')\n",
    "# simple_model_test(SVR(), 'SVR')"
   ]
  },
  {
   "cell_type": "markdown",
   "id": "d443b432",
   "metadata": {},
   "source": [
    "## Cross Validation"
   ]
  },
  {
   "cell_type": "code",
   "execution_count": null,
   "id": "2f2e03fc",
   "metadata": {
    "ExecuteTime": {
     "end_time": "2022-08-21T17:59:27.505403Z",
     "start_time": "2022-08-21T17:59:22.913Z"
    }
   },
   "outputs": [],
   "source": [
    "# stratified cross validation\n",
    "def cross_validation(model_name, model, x_train, y_train):\n",
    "\n",
    "    rmse_list = []\n",
    "    mae_list = []\n",
    "    mape_list = []\n",
    "\n",
    "    skf = KFold(n_splits=5, shuffle=True, random_state=5)\n",
    "\n",
    "    for train_index, test_index in skf.split(x_train, y_train):\n",
    "\n",
    "        x_train_cv = x_train.iloc[train_index]\n",
    "        y_train_cv = y_train.iloc[train_index]\n",
    "\n",
    "        x_test_cv = x_train.iloc[test_index]\n",
    "        y_test_cv = y_train.iloc[test_index]\n",
    "\n",
    "\n",
    "        # model training\n",
    "        model.fit(x_train_cv, y_train_cv)\n",
    "\n",
    "        # prediction\n",
    "        y_hat = model.predict(x_test_cv)\n",
    "\n",
    "        y_hat_ = np.expm1(y_hat)\n",
    "        y_test_cv = np.expm1(y_test_cv)\n",
    "\n",
    "        # metrics\n",
    "        MAPE = np.round(mean_absolute_percentage_error( y_test_cv, y_hat_ ), 2)\n",
    "        MAE = np.round(mean_absolute_error(y_test_cv, y_hat_), 2)\n",
    "        RMSE = np.round(np.sqrt(mean_squared_error(y_test_cv, y_hat_)), 2)\n",
    "#         print(MAPE)\n",
    "        # append to list\n",
    "        rmse_list.append(RMSE)\n",
    "        mae_list.append(MAE) \n",
    "        mape_list.append(MAPE)\n",
    "\n",
    "    avg_mae, stf_mae = np.round( np.mean( mae_list ), 2 ), np.round( np.std( mae_list ), 2 )\n",
    "    avg_mape, stf_mape = np.round( np.mean( mape_list ), 2 ), np.round( np.std( mape_list ), 2 )\n",
    "    avg_rmse, stf_rmse = np.round( np.mean( rmse_list ), 2 ), np.round( np.std( rmse_list ), 2 )\n",
    "\n",
    "    return avg_mae"
   ]
  },
  {
   "cell_type": "code",
   "execution_count": null,
   "id": "405d1cdd",
   "metadata": {
    "ExecuteTime": {
     "end_time": "2022-08-21T17:59:27.513383Z",
     "start_time": "2022-08-21T17:59:23.097Z"
    }
   },
   "outputs": [],
   "source": [
    "def send_model(model):\n",
    "     # model fit\n",
    "    model.fit(X_train[cols_selected], y_train)\n",
    "    pickle.dump(model, open('../parameters/model.pkl', 'wb'))\n",
    "    print('Model submited')\n",
    "    return None"
   ]
  },
  {
   "cell_type": "markdown",
   "id": "44de448c",
   "metadata": {},
   "source": [
    "## Hyperparameter Tuning"
   ]
  },
  {
   "cell_type": "markdown",
   "id": "0747524e",
   "metadata": {},
   "source": [
    "### RF"
   ]
  },
  {
   "cell_type": "code",
   "execution_count": 551,
   "id": "846116c5",
   "metadata": {
    "ExecuteTime": {
     "end_time": "2022-08-21T18:10:52.841678Z",
     "start_time": "2022-08-21T18:10:52.834696Z"
    }
   },
   "outputs": [
    {
     "data": {
      "text/plain": [
       "RandomForestRegressor(criterion='gini')"
      ]
     },
     "execution_count": 551,
     "metadata": {},
     "output_type": "execute_result"
    }
   ],
   "source": [
    "RandomForestRegressor(criterion='gini')"
   ]
  },
  {
   "cell_type": "code",
   "execution_count": 565,
   "id": "4b110628",
   "metadata": {
    "ExecuteTime": {
     "end_time": "2022-08-21T18:19:49.641614Z",
     "start_time": "2022-08-21T18:19:49.514865Z"
    }
   },
   "outputs": [],
   "source": [
    "rf_params = {}\n",
    "\n",
    "\n",
    "\n"
   ]
  },
  {
   "cell_type": "code",
   "execution_count": 573,
   "id": "f393932e",
   "metadata": {
    "ExecuteTime": {
     "end_time": "2022-08-21T18:37:20.441983Z",
     "start_time": "2022-08-21T18:37:20.426028Z"
    }
   },
   "outputs": [],
   "source": [
    "min_rf = 999999"
   ]
  },
  {
   "cell_type": "code",
   "execution_count": 576,
   "id": "98663727",
   "metadata": {
    "ExecuteTime": {
     "end_time": "2022-08-21T18:41:26.559725Z",
     "start_time": "2022-08-21T18:37:31.017457Z"
    }
   },
   "outputs": [
    {
     "name": "stdout",
     "output_type": "stream",
     "text": [
      "{'min_samples_split': 3, 'max_depth': 70, 'min_samples_leaf': 2, 'n_estimators': 600}\n"
     ]
    },
    {
     "ename": "KeyboardInterrupt",
     "evalue": "",
     "output_type": "error",
     "traceback": [
      "\u001b[1;31m---------------------------------------------------------------------------\u001b[0m",
      "\u001b[1;31mKeyboardInterrupt\u001b[0m                         Traceback (most recent call last)",
      "\u001b[1;32m<ipython-input-576-758dda30e301>\u001b[0m in \u001b[0;36m<module>\u001b[1;34m\u001b[0m\n\u001b[0;32m     25\u001b[0m \u001b[1;31m#     result = cross_validation(x_training, 5, 'XGBoost Regressor', model_xgb, verbose=True)\u001b[0m\u001b[1;33m\u001b[0m\u001b[1;33m\u001b[0m\u001b[1;33m\u001b[0m\u001b[0m\n\u001b[0;32m     26\u001b[0m     \u001b[0mprint\u001b[0m\u001b[1;33m(\u001b[0m\u001b[0mrf_params\u001b[0m\u001b[1;33m)\u001b[0m\u001b[1;33m\u001b[0m\u001b[1;33m\u001b[0m\u001b[0m\n\u001b[1;32m---> 27\u001b[1;33m     \u001b[0mMAE\u001b[0m \u001b[1;33m=\u001b[0m \u001b[0mcross_validation\u001b[0m\u001b[1;33m(\u001b[0m\u001b[1;34m'xgboost'\u001b[0m\u001b[1;33m,\u001b[0m\u001b[0mmodel_rf\u001b[0m\u001b[1;33m,\u001b[0m \u001b[0mX_train\u001b[0m\u001b[1;33m[\u001b[0m\u001b[0mcols_selected\u001b[0m\u001b[1;33m]\u001b[0m\u001b[1;33m,\u001b[0m \u001b[0my_train\u001b[0m\u001b[1;33m)\u001b[0m\u001b[1;33m\u001b[0m\u001b[1;33m\u001b[0m\u001b[0m\n\u001b[0m\u001b[0;32m     28\u001b[0m     \u001b[0mprint\u001b[0m\u001b[1;33m(\u001b[0m\u001b[0mMAE\u001b[0m\u001b[1;33m)\u001b[0m\u001b[1;33m\u001b[0m\u001b[1;33m\u001b[0m\u001b[0m\n\u001b[0;32m     29\u001b[0m \u001b[1;33m\u001b[0m\u001b[0m\n",
      "\u001b[1;32m<ipython-input-516-5bc900280c56>\u001b[0m in \u001b[0;36mcross_validation\u001b[1;34m(model_name, model, x_train, y_train)\u001b[0m\n\u001b[0;32m     18\u001b[0m \u001b[1;33m\u001b[0m\u001b[0m\n\u001b[0;32m     19\u001b[0m         \u001b[1;31m# model training\u001b[0m\u001b[1;33m\u001b[0m\u001b[1;33m\u001b[0m\u001b[1;33m\u001b[0m\u001b[0m\n\u001b[1;32m---> 20\u001b[1;33m         \u001b[0mmodel\u001b[0m\u001b[1;33m.\u001b[0m\u001b[0mfit\u001b[0m\u001b[1;33m(\u001b[0m\u001b[0mx_train_cv\u001b[0m\u001b[1;33m,\u001b[0m \u001b[0my_train_cv\u001b[0m\u001b[1;33m)\u001b[0m\u001b[1;33m\u001b[0m\u001b[1;33m\u001b[0m\u001b[0m\n\u001b[0m\u001b[0;32m     21\u001b[0m \u001b[1;33m\u001b[0m\u001b[0m\n\u001b[0;32m     22\u001b[0m         \u001b[1;31m# prediction\u001b[0m\u001b[1;33m\u001b[0m\u001b[1;33m\u001b[0m\u001b[1;33m\u001b[0m\u001b[0m\n",
      "\u001b[1;32m~\\anaconda3\\lib\\site-packages\\sklearn\\ensemble\\_forest.py\u001b[0m in \u001b[0;36mfit\u001b[1;34m(self, X, y, sample_weight)\u001b[0m\n\u001b[0;32m    448\u001b[0m             \u001b[1;31m# parallel_backend contexts set at a higher level,\u001b[0m\u001b[1;33m\u001b[0m\u001b[1;33m\u001b[0m\u001b[1;33m\u001b[0m\u001b[0m\n\u001b[0;32m    449\u001b[0m             \u001b[1;31m# since correctness does not rely on using threads.\u001b[0m\u001b[1;33m\u001b[0m\u001b[1;33m\u001b[0m\u001b[1;33m\u001b[0m\u001b[0m\n\u001b[1;32m--> 450\u001b[1;33m             trees = Parallel(\n\u001b[0m\u001b[0;32m    451\u001b[0m                 \u001b[0mn_jobs\u001b[0m\u001b[1;33m=\u001b[0m\u001b[0mself\u001b[0m\u001b[1;33m.\u001b[0m\u001b[0mn_jobs\u001b[0m\u001b[1;33m,\u001b[0m\u001b[1;33m\u001b[0m\u001b[1;33m\u001b[0m\u001b[0m\n\u001b[0;32m    452\u001b[0m                 \u001b[0mverbose\u001b[0m\u001b[1;33m=\u001b[0m\u001b[0mself\u001b[0m\u001b[1;33m.\u001b[0m\u001b[0mverbose\u001b[0m\u001b[1;33m,\u001b[0m\u001b[1;33m\u001b[0m\u001b[1;33m\u001b[0m\u001b[0m\n",
      "\u001b[1;32m~\\anaconda3\\lib\\site-packages\\joblib\\parallel.py\u001b[0m in \u001b[0;36m__call__\u001b[1;34m(self, iterable)\u001b[0m\n\u001b[0;32m   1042\u001b[0m                 \u001b[0mself\u001b[0m\u001b[1;33m.\u001b[0m\u001b[0m_iterating\u001b[0m \u001b[1;33m=\u001b[0m \u001b[0mself\u001b[0m\u001b[1;33m.\u001b[0m\u001b[0m_original_iterator\u001b[0m \u001b[1;32mis\u001b[0m \u001b[1;32mnot\u001b[0m \u001b[1;32mNone\u001b[0m\u001b[1;33m\u001b[0m\u001b[1;33m\u001b[0m\u001b[0m\n\u001b[0;32m   1043\u001b[0m \u001b[1;33m\u001b[0m\u001b[0m\n\u001b[1;32m-> 1044\u001b[1;33m             \u001b[1;32mwhile\u001b[0m \u001b[0mself\u001b[0m\u001b[1;33m.\u001b[0m\u001b[0mdispatch_one_batch\u001b[0m\u001b[1;33m(\u001b[0m\u001b[0miterator\u001b[0m\u001b[1;33m)\u001b[0m\u001b[1;33m:\u001b[0m\u001b[1;33m\u001b[0m\u001b[1;33m\u001b[0m\u001b[0m\n\u001b[0m\u001b[0;32m   1045\u001b[0m                 \u001b[1;32mpass\u001b[0m\u001b[1;33m\u001b[0m\u001b[1;33m\u001b[0m\u001b[0m\n\u001b[0;32m   1046\u001b[0m \u001b[1;33m\u001b[0m\u001b[0m\n",
      "\u001b[1;32m~\\anaconda3\\lib\\site-packages\\joblib\\parallel.py\u001b[0m in \u001b[0;36mdispatch_one_batch\u001b[1;34m(self, iterator)\u001b[0m\n\u001b[0;32m    857\u001b[0m                 \u001b[1;32mreturn\u001b[0m \u001b[1;32mFalse\u001b[0m\u001b[1;33m\u001b[0m\u001b[1;33m\u001b[0m\u001b[0m\n\u001b[0;32m    858\u001b[0m             \u001b[1;32melse\u001b[0m\u001b[1;33m:\u001b[0m\u001b[1;33m\u001b[0m\u001b[1;33m\u001b[0m\u001b[0m\n\u001b[1;32m--> 859\u001b[1;33m                 \u001b[0mself\u001b[0m\u001b[1;33m.\u001b[0m\u001b[0m_dispatch\u001b[0m\u001b[1;33m(\u001b[0m\u001b[0mtasks\u001b[0m\u001b[1;33m)\u001b[0m\u001b[1;33m\u001b[0m\u001b[1;33m\u001b[0m\u001b[0m\n\u001b[0m\u001b[0;32m    860\u001b[0m                 \u001b[1;32mreturn\u001b[0m \u001b[1;32mTrue\u001b[0m\u001b[1;33m\u001b[0m\u001b[1;33m\u001b[0m\u001b[0m\n\u001b[0;32m    861\u001b[0m \u001b[1;33m\u001b[0m\u001b[0m\n",
      "\u001b[1;32m~\\anaconda3\\lib\\site-packages\\joblib\\parallel.py\u001b[0m in \u001b[0;36m_dispatch\u001b[1;34m(self, batch)\u001b[0m\n\u001b[0;32m    775\u001b[0m         \u001b[1;32mwith\u001b[0m \u001b[0mself\u001b[0m\u001b[1;33m.\u001b[0m\u001b[0m_lock\u001b[0m\u001b[1;33m:\u001b[0m\u001b[1;33m\u001b[0m\u001b[1;33m\u001b[0m\u001b[0m\n\u001b[0;32m    776\u001b[0m             \u001b[0mjob_idx\u001b[0m \u001b[1;33m=\u001b[0m \u001b[0mlen\u001b[0m\u001b[1;33m(\u001b[0m\u001b[0mself\u001b[0m\u001b[1;33m.\u001b[0m\u001b[0m_jobs\u001b[0m\u001b[1;33m)\u001b[0m\u001b[1;33m\u001b[0m\u001b[1;33m\u001b[0m\u001b[0m\n\u001b[1;32m--> 777\u001b[1;33m             \u001b[0mjob\u001b[0m \u001b[1;33m=\u001b[0m \u001b[0mself\u001b[0m\u001b[1;33m.\u001b[0m\u001b[0m_backend\u001b[0m\u001b[1;33m.\u001b[0m\u001b[0mapply_async\u001b[0m\u001b[1;33m(\u001b[0m\u001b[0mbatch\u001b[0m\u001b[1;33m,\u001b[0m \u001b[0mcallback\u001b[0m\u001b[1;33m=\u001b[0m\u001b[0mcb\u001b[0m\u001b[1;33m)\u001b[0m\u001b[1;33m\u001b[0m\u001b[1;33m\u001b[0m\u001b[0m\n\u001b[0m\u001b[0;32m    778\u001b[0m             \u001b[1;31m# A job can complete so quickly than its callback is\u001b[0m\u001b[1;33m\u001b[0m\u001b[1;33m\u001b[0m\u001b[1;33m\u001b[0m\u001b[0m\n\u001b[0;32m    779\u001b[0m             \u001b[1;31m# called before we get here, causing self._jobs to\u001b[0m\u001b[1;33m\u001b[0m\u001b[1;33m\u001b[0m\u001b[1;33m\u001b[0m\u001b[0m\n",
      "\u001b[1;32m~\\anaconda3\\lib\\site-packages\\joblib\\_parallel_backends.py\u001b[0m in \u001b[0;36mapply_async\u001b[1;34m(self, func, callback)\u001b[0m\n\u001b[0;32m    206\u001b[0m     \u001b[1;32mdef\u001b[0m \u001b[0mapply_async\u001b[0m\u001b[1;33m(\u001b[0m\u001b[0mself\u001b[0m\u001b[1;33m,\u001b[0m \u001b[0mfunc\u001b[0m\u001b[1;33m,\u001b[0m \u001b[0mcallback\u001b[0m\u001b[1;33m=\u001b[0m\u001b[1;32mNone\u001b[0m\u001b[1;33m)\u001b[0m\u001b[1;33m:\u001b[0m\u001b[1;33m\u001b[0m\u001b[1;33m\u001b[0m\u001b[0m\n\u001b[0;32m    207\u001b[0m         \u001b[1;34m\"\"\"Schedule a func to be run\"\"\"\u001b[0m\u001b[1;33m\u001b[0m\u001b[1;33m\u001b[0m\u001b[0m\n\u001b[1;32m--> 208\u001b[1;33m         \u001b[0mresult\u001b[0m \u001b[1;33m=\u001b[0m \u001b[0mImmediateResult\u001b[0m\u001b[1;33m(\u001b[0m\u001b[0mfunc\u001b[0m\u001b[1;33m)\u001b[0m\u001b[1;33m\u001b[0m\u001b[1;33m\u001b[0m\u001b[0m\n\u001b[0m\u001b[0;32m    209\u001b[0m         \u001b[1;32mif\u001b[0m \u001b[0mcallback\u001b[0m\u001b[1;33m:\u001b[0m\u001b[1;33m\u001b[0m\u001b[1;33m\u001b[0m\u001b[0m\n\u001b[0;32m    210\u001b[0m             \u001b[0mcallback\u001b[0m\u001b[1;33m(\u001b[0m\u001b[0mresult\u001b[0m\u001b[1;33m)\u001b[0m\u001b[1;33m\u001b[0m\u001b[1;33m\u001b[0m\u001b[0m\n",
      "\u001b[1;32m~\\anaconda3\\lib\\site-packages\\joblib\\_parallel_backends.py\u001b[0m in \u001b[0;36m__init__\u001b[1;34m(self, batch)\u001b[0m\n\u001b[0;32m    570\u001b[0m         \u001b[1;31m# Don't delay the application, to avoid keeping the input\u001b[0m\u001b[1;33m\u001b[0m\u001b[1;33m\u001b[0m\u001b[1;33m\u001b[0m\u001b[0m\n\u001b[0;32m    571\u001b[0m         \u001b[1;31m# arguments in memory\u001b[0m\u001b[1;33m\u001b[0m\u001b[1;33m\u001b[0m\u001b[1;33m\u001b[0m\u001b[0m\n\u001b[1;32m--> 572\u001b[1;33m         \u001b[0mself\u001b[0m\u001b[1;33m.\u001b[0m\u001b[0mresults\u001b[0m \u001b[1;33m=\u001b[0m \u001b[0mbatch\u001b[0m\u001b[1;33m(\u001b[0m\u001b[1;33m)\u001b[0m\u001b[1;33m\u001b[0m\u001b[1;33m\u001b[0m\u001b[0m\n\u001b[0m\u001b[0;32m    573\u001b[0m \u001b[1;33m\u001b[0m\u001b[0m\n\u001b[0;32m    574\u001b[0m     \u001b[1;32mdef\u001b[0m \u001b[0mget\u001b[0m\u001b[1;33m(\u001b[0m\u001b[0mself\u001b[0m\u001b[1;33m)\u001b[0m\u001b[1;33m:\u001b[0m\u001b[1;33m\u001b[0m\u001b[1;33m\u001b[0m\u001b[0m\n",
      "\u001b[1;32m~\\anaconda3\\lib\\site-packages\\joblib\\parallel.py\u001b[0m in \u001b[0;36m__call__\u001b[1;34m(self)\u001b[0m\n\u001b[0;32m    260\u001b[0m         \u001b[1;31m# change the default number of processes to -1\u001b[0m\u001b[1;33m\u001b[0m\u001b[1;33m\u001b[0m\u001b[1;33m\u001b[0m\u001b[0m\n\u001b[0;32m    261\u001b[0m         \u001b[1;32mwith\u001b[0m \u001b[0mparallel_backend\u001b[0m\u001b[1;33m(\u001b[0m\u001b[0mself\u001b[0m\u001b[1;33m.\u001b[0m\u001b[0m_backend\u001b[0m\u001b[1;33m,\u001b[0m \u001b[0mn_jobs\u001b[0m\u001b[1;33m=\u001b[0m\u001b[0mself\u001b[0m\u001b[1;33m.\u001b[0m\u001b[0m_n_jobs\u001b[0m\u001b[1;33m)\u001b[0m\u001b[1;33m:\u001b[0m\u001b[1;33m\u001b[0m\u001b[1;33m\u001b[0m\u001b[0m\n\u001b[1;32m--> 262\u001b[1;33m             return [func(*args, **kwargs)\n\u001b[0m\u001b[0;32m    263\u001b[0m                     for func, args, kwargs in self.items]\n\u001b[0;32m    264\u001b[0m \u001b[1;33m\u001b[0m\u001b[0m\n",
      "\u001b[1;32m~\\anaconda3\\lib\\site-packages\\joblib\\parallel.py\u001b[0m in \u001b[0;36m<listcomp>\u001b[1;34m(.0)\u001b[0m\n\u001b[0;32m    260\u001b[0m         \u001b[1;31m# change the default number of processes to -1\u001b[0m\u001b[1;33m\u001b[0m\u001b[1;33m\u001b[0m\u001b[1;33m\u001b[0m\u001b[0m\n\u001b[0;32m    261\u001b[0m         \u001b[1;32mwith\u001b[0m \u001b[0mparallel_backend\u001b[0m\u001b[1;33m(\u001b[0m\u001b[0mself\u001b[0m\u001b[1;33m.\u001b[0m\u001b[0m_backend\u001b[0m\u001b[1;33m,\u001b[0m \u001b[0mn_jobs\u001b[0m\u001b[1;33m=\u001b[0m\u001b[0mself\u001b[0m\u001b[1;33m.\u001b[0m\u001b[0m_n_jobs\u001b[0m\u001b[1;33m)\u001b[0m\u001b[1;33m:\u001b[0m\u001b[1;33m\u001b[0m\u001b[1;33m\u001b[0m\u001b[0m\n\u001b[1;32m--> 262\u001b[1;33m             return [func(*args, **kwargs)\n\u001b[0m\u001b[0;32m    263\u001b[0m                     for func, args, kwargs in self.items]\n\u001b[0;32m    264\u001b[0m \u001b[1;33m\u001b[0m\u001b[0m\n",
      "\u001b[1;32m~\\anaconda3\\lib\\site-packages\\sklearn\\utils\\fixes.py\u001b[0m in \u001b[0;36m__call__\u001b[1;34m(self, *args, **kwargs)\u001b[0m\n\u001b[0;32m    214\u001b[0m     \u001b[1;32mdef\u001b[0m \u001b[0m__call__\u001b[0m\u001b[1;33m(\u001b[0m\u001b[0mself\u001b[0m\u001b[1;33m,\u001b[0m \u001b[1;33m*\u001b[0m\u001b[0margs\u001b[0m\u001b[1;33m,\u001b[0m \u001b[1;33m**\u001b[0m\u001b[0mkwargs\u001b[0m\u001b[1;33m)\u001b[0m\u001b[1;33m:\u001b[0m\u001b[1;33m\u001b[0m\u001b[1;33m\u001b[0m\u001b[0m\n\u001b[0;32m    215\u001b[0m         \u001b[1;32mwith\u001b[0m \u001b[0mconfig_context\u001b[0m\u001b[1;33m(\u001b[0m\u001b[1;33m**\u001b[0m\u001b[0mself\u001b[0m\u001b[1;33m.\u001b[0m\u001b[0mconfig\u001b[0m\u001b[1;33m)\u001b[0m\u001b[1;33m:\u001b[0m\u001b[1;33m\u001b[0m\u001b[1;33m\u001b[0m\u001b[0m\n\u001b[1;32m--> 216\u001b[1;33m             \u001b[1;32mreturn\u001b[0m \u001b[0mself\u001b[0m\u001b[1;33m.\u001b[0m\u001b[0mfunction\u001b[0m\u001b[1;33m(\u001b[0m\u001b[1;33m*\u001b[0m\u001b[0margs\u001b[0m\u001b[1;33m,\u001b[0m \u001b[1;33m**\u001b[0m\u001b[0mkwargs\u001b[0m\u001b[1;33m)\u001b[0m\u001b[1;33m\u001b[0m\u001b[1;33m\u001b[0m\u001b[0m\n\u001b[0m\u001b[0;32m    217\u001b[0m \u001b[1;33m\u001b[0m\u001b[0m\n\u001b[0;32m    218\u001b[0m \u001b[1;33m\u001b[0m\u001b[0m\n",
      "\u001b[1;32m~\\anaconda3\\lib\\site-packages\\sklearn\\ensemble\\_forest.py\u001b[0m in \u001b[0;36m_parallel_build_trees\u001b[1;34m(tree, forest, X, y, sample_weight, tree_idx, n_trees, verbose, class_weight, n_samples_bootstrap)\u001b[0m\n\u001b[0;32m    183\u001b[0m             \u001b[0mcurr_sample_weight\u001b[0m \u001b[1;33m*=\u001b[0m \u001b[0mcompute_sample_weight\u001b[0m\u001b[1;33m(\u001b[0m\u001b[1;34m\"balanced\"\u001b[0m\u001b[1;33m,\u001b[0m \u001b[0my\u001b[0m\u001b[1;33m,\u001b[0m \u001b[0mindices\u001b[0m\u001b[1;33m=\u001b[0m\u001b[0mindices\u001b[0m\u001b[1;33m)\u001b[0m\u001b[1;33m\u001b[0m\u001b[1;33m\u001b[0m\u001b[0m\n\u001b[0;32m    184\u001b[0m \u001b[1;33m\u001b[0m\u001b[0m\n\u001b[1;32m--> 185\u001b[1;33m         \u001b[0mtree\u001b[0m\u001b[1;33m.\u001b[0m\u001b[0mfit\u001b[0m\u001b[1;33m(\u001b[0m\u001b[0mX\u001b[0m\u001b[1;33m,\u001b[0m \u001b[0my\u001b[0m\u001b[1;33m,\u001b[0m \u001b[0msample_weight\u001b[0m\u001b[1;33m=\u001b[0m\u001b[0mcurr_sample_weight\u001b[0m\u001b[1;33m,\u001b[0m \u001b[0mcheck_input\u001b[0m\u001b[1;33m=\u001b[0m\u001b[1;32mFalse\u001b[0m\u001b[1;33m)\u001b[0m\u001b[1;33m\u001b[0m\u001b[1;33m\u001b[0m\u001b[0m\n\u001b[0m\u001b[0;32m    186\u001b[0m     \u001b[1;32melse\u001b[0m\u001b[1;33m:\u001b[0m\u001b[1;33m\u001b[0m\u001b[1;33m\u001b[0m\u001b[0m\n\u001b[0;32m    187\u001b[0m         \u001b[0mtree\u001b[0m\u001b[1;33m.\u001b[0m\u001b[0mfit\u001b[0m\u001b[1;33m(\u001b[0m\u001b[0mX\u001b[0m\u001b[1;33m,\u001b[0m \u001b[0my\u001b[0m\u001b[1;33m,\u001b[0m \u001b[0msample_weight\u001b[0m\u001b[1;33m=\u001b[0m\u001b[0msample_weight\u001b[0m\u001b[1;33m,\u001b[0m \u001b[0mcheck_input\u001b[0m\u001b[1;33m=\u001b[0m\u001b[1;32mFalse\u001b[0m\u001b[1;33m)\u001b[0m\u001b[1;33m\u001b[0m\u001b[1;33m\u001b[0m\u001b[0m\n",
      "\u001b[1;32m~\\anaconda3\\lib\\site-packages\\sklearn\\tree\\_classes.py\u001b[0m in \u001b[0;36mfit\u001b[1;34m(self, X, y, sample_weight, check_input, X_idx_sorted)\u001b[0m\n\u001b[0;32m   1313\u001b[0m         \"\"\"\n\u001b[0;32m   1314\u001b[0m \u001b[1;33m\u001b[0m\u001b[0m\n\u001b[1;32m-> 1315\u001b[1;33m         super().fit(\n\u001b[0m\u001b[0;32m   1316\u001b[0m             \u001b[0mX\u001b[0m\u001b[1;33m,\u001b[0m\u001b[1;33m\u001b[0m\u001b[1;33m\u001b[0m\u001b[0m\n\u001b[0;32m   1317\u001b[0m             \u001b[0my\u001b[0m\u001b[1;33m,\u001b[0m\u001b[1;33m\u001b[0m\u001b[1;33m\u001b[0m\u001b[0m\n",
      "\u001b[1;32m~\\anaconda3\\lib\\site-packages\\sklearn\\tree\\_classes.py\u001b[0m in \u001b[0;36mfit\u001b[1;34m(self, X, y, sample_weight, check_input, X_idx_sorted)\u001b[0m\n\u001b[0;32m    418\u001b[0m             )\n\u001b[0;32m    419\u001b[0m \u001b[1;33m\u001b[0m\u001b[0m\n\u001b[1;32m--> 420\u001b[1;33m         \u001b[0mbuilder\u001b[0m\u001b[1;33m.\u001b[0m\u001b[0mbuild\u001b[0m\u001b[1;33m(\u001b[0m\u001b[0mself\u001b[0m\u001b[1;33m.\u001b[0m\u001b[0mtree_\u001b[0m\u001b[1;33m,\u001b[0m \u001b[0mX\u001b[0m\u001b[1;33m,\u001b[0m \u001b[0my\u001b[0m\u001b[1;33m,\u001b[0m \u001b[0msample_weight\u001b[0m\u001b[1;33m)\u001b[0m\u001b[1;33m\u001b[0m\u001b[1;33m\u001b[0m\u001b[0m\n\u001b[0m\u001b[0;32m    421\u001b[0m \u001b[1;33m\u001b[0m\u001b[0m\n\u001b[0;32m    422\u001b[0m         \u001b[1;32mif\u001b[0m \u001b[0mself\u001b[0m\u001b[1;33m.\u001b[0m\u001b[0mn_outputs_\u001b[0m \u001b[1;33m==\u001b[0m \u001b[1;36m1\u001b[0m \u001b[1;32mand\u001b[0m \u001b[0mis_classifier\u001b[0m\u001b[1;33m(\u001b[0m\u001b[0mself\u001b[0m\u001b[1;33m)\u001b[0m\u001b[1;33m:\u001b[0m\u001b[1;33m\u001b[0m\u001b[1;33m\u001b[0m\u001b[0m\n",
      "\u001b[1;31mKeyboardInterrupt\u001b[0m: "
     ]
    }
   ],
   "source": [
    "\n",
    "for i in range(300):\n",
    "#     criterion = random.choice(['gini', 'entropy', 'log_loss'])\n",
    "    min_samples_split = random.choice([2,3,4])\n",
    "    max_depth = random.choice(np.arange(60,90,10))\n",
    "    min_samples_leaf = random.choice(np.arange(2,5,1))\n",
    "    n_estimators = random.choice(np.arange(500,1000,100))\n",
    "#     n_estimators = random.choice(np.arange(100,200,10))\n",
    "\n",
    "#     print(criterion)\n",
    "\n",
    "    # model\n",
    "    model_rf = RandomForestRegressor( \n",
    "#     criterion =criterion,\n",
    "    min_samples_split = min_samples_split,\n",
    "    max_depth = max_depth,\n",
    "    min_samples_leaf =min_samples_leaf,\n",
    "    n_estimators = n_estimators)\n",
    "    \n",
    "    \n",
    "    rf_params['min_samples_split'] = min_samples_split\n",
    "    rf_params['max_depth'] = max_depth\n",
    "    rf_params['min_samples_leaf'] = min_samples_leaf\n",
    "    rf_params['n_estimators'] = n_estimators\n",
    "    #Performance\n",
    "#     result = cross_validation(x_training, 5, 'XGBoost Regressor', model_xgb, verbose=True)\n",
    "    print(rf_params)\n",
    "    MAE = cross_validation('xgboost',model_rf, X_train[cols_selected], y_train)\n",
    "    print(MAE)\n",
    "    \n",
    "    if MAE<min_rf:\n",
    "        print('got better')\n",
    "        best_model = model_rf\n",
    "        min_rf = MAE\n",
    "        best_param = model_rf.get_params()\n",
    "\n"
   ]
  },
  {
   "cell_type": "code",
   "execution_count": 577,
   "id": "4b703dc6",
   "metadata": {
    "ExecuteTime": {
     "end_time": "2022-08-21T18:41:27.539537Z",
     "start_time": "2022-08-21T18:41:27.489671Z"
    }
   },
   "outputs": [
    {
     "ename": "NameError",
     "evalue": "name 'best_model' is not defined",
     "output_type": "error",
     "traceback": [
      "\u001b[1;31m---------------------------------------------------------------------------\u001b[0m",
      "\u001b[1;31mNameError\u001b[0m                                 Traceback (most recent call last)",
      "\u001b[1;32m<ipython-input-577-e83f62407969>\u001b[0m in \u001b[0;36m<module>\u001b[1;34m\u001b[0m\n\u001b[1;32m----> 1\u001b[1;33m \u001b[0mbest_model\u001b[0m\u001b[1;33m\u001b[0m\u001b[1;33m\u001b[0m\u001b[0m\n\u001b[0m",
      "\u001b[1;31mNameError\u001b[0m: name 'best_model' is not defined"
     ]
    }
   ],
   "source": []
  },
  {
   "cell_type": "code",
   "execution_count": 530,
   "id": "227099a8",
   "metadata": {
    "ExecuteTime": {
     "end_time": "2022-08-21T17:55:14.470227Z",
     "start_time": "2022-08-21T17:54:35.291884Z"
    }
   },
   "outputs": [
    {
     "name": "stdout",
     "output_type": "stream",
     "text": [
      "{'n_estimators': 1100, 'eta': 0.03, 'max_depth': 7, 'subsample': 0.7, 'colsample_bytree': 0.7, 'min_child_weight': 15}\n",
      "xgboost\n",
      " MAE: 24153.21\n",
      " MAPE: 0.19\n",
      " RMSE: 39273.98\n",
      "24153.21\n",
      "{'n_estimators': 1100, 'eta': 0.03, 'max_depth': 7, 'subsample': 0.3, 'colsample_bytree': 0.7, 'min_child_weight': 15}\n"
     ]
    },
    {
     "ename": "KeyboardInterrupt",
     "evalue": "",
     "output_type": "error",
     "traceback": [
      "\u001b[1;31m---------------------------------------------------------------------------\u001b[0m",
      "\u001b[1;31mKeyboardInterrupt\u001b[0m                         Traceback (most recent call last)",
      "\u001b[1;32m<ipython-input-530-e18820f394e6>\u001b[0m in \u001b[0;36m<module>\u001b[1;34m\u001b[0m\n\u001b[0;32m     27\u001b[0m    \u001b[1;31m#Performance\u001b[0m\u001b[1;33m\u001b[0m\u001b[1;33m\u001b[0m\u001b[1;33m\u001b[0m\u001b[0m\n\u001b[0;32m     28\u001b[0m \u001b[1;31m#     result = cross_validation(x_training, 5, 'XGBoost Regressor', model_xgb, verbose=True)\u001b[0m\u001b[1;33m\u001b[0m\u001b[1;33m\u001b[0m\u001b[1;33m\u001b[0m\u001b[0m\n\u001b[1;32m---> 29\u001b[1;33m    \u001b[0mMAE\u001b[0m \u001b[1;33m=\u001b[0m \u001b[0msimple_model_test\u001b[0m\u001b[1;33m(\u001b[0m\u001b[0mmodel_xgb\u001b[0m\u001b[1;33m,\u001b[0m \u001b[1;34m'xgboost'\u001b[0m\u001b[1;33m)\u001b[0m\u001b[1;33m\u001b[0m\u001b[1;33m\u001b[0m\u001b[0m\n\u001b[0m\u001b[0;32m     30\u001b[0m    \u001b[0mprint\u001b[0m\u001b[1;33m(\u001b[0m\u001b[0mMAE\u001b[0m\u001b[1;33m)\u001b[0m\u001b[1;33m\u001b[0m\u001b[1;33m\u001b[0m\u001b[0m\n\u001b[0;32m     31\u001b[0m \u001b[1;31m#     if MAE<min_:\u001b[0m\u001b[1;33m\u001b[0m\u001b[1;33m\u001b[0m\u001b[1;33m\u001b[0m\u001b[0m\n",
      "\u001b[1;32m<ipython-input-514-87574c2b8aec>\u001b[0m in \u001b[0;36msimple_model_test\u001b[1;34m(model, nome)\u001b[0m\n\u001b[0;32m      6\u001b[0m \u001b[1;33m\u001b[0m\u001b[0m\n\u001b[0;32m      7\u001b[0m     \u001b[1;31m# model fit\u001b[0m\u001b[1;33m\u001b[0m\u001b[1;33m\u001b[0m\u001b[1;33m\u001b[0m\u001b[0m\n\u001b[1;32m----> 8\u001b[1;33m     \u001b[0mmodel\u001b[0m\u001b[1;33m.\u001b[0m\u001b[0mfit\u001b[0m\u001b[1;33m(\u001b[0m\u001b[0mX_train\u001b[0m\u001b[1;33m,\u001b[0m \u001b[0my_train\u001b[0m\u001b[1;33m)\u001b[0m\u001b[1;33m\u001b[0m\u001b[1;33m\u001b[0m\u001b[0m\n\u001b[0m\u001b[0;32m      9\u001b[0m \u001b[1;33m\u001b[0m\u001b[0m\n\u001b[0;32m     10\u001b[0m     \u001b[1;31m#model predict\u001b[0m\u001b[1;33m\u001b[0m\u001b[1;33m\u001b[0m\u001b[1;33m\u001b[0m\u001b[0m\n",
      "\u001b[1;32m~\\anaconda3\\lib\\site-packages\\xgboost\\core.py\u001b[0m in \u001b[0;36minner_f\u001b[1;34m(*args, **kwargs)\u001b[0m\n\u001b[0;32m    530\u001b[0m         \u001b[1;32mfor\u001b[0m \u001b[0mk\u001b[0m\u001b[1;33m,\u001b[0m \u001b[0marg\u001b[0m \u001b[1;32min\u001b[0m \u001b[0mzip\u001b[0m\u001b[1;33m(\u001b[0m\u001b[0msig\u001b[0m\u001b[1;33m.\u001b[0m\u001b[0mparameters\u001b[0m\u001b[1;33m,\u001b[0m \u001b[0margs\u001b[0m\u001b[1;33m)\u001b[0m\u001b[1;33m:\u001b[0m\u001b[1;33m\u001b[0m\u001b[1;33m\u001b[0m\u001b[0m\n\u001b[0;32m    531\u001b[0m             \u001b[0mkwargs\u001b[0m\u001b[1;33m[\u001b[0m\u001b[0mk\u001b[0m\u001b[1;33m]\u001b[0m \u001b[1;33m=\u001b[0m \u001b[0marg\u001b[0m\u001b[1;33m\u001b[0m\u001b[1;33m\u001b[0m\u001b[0m\n\u001b[1;32m--> 532\u001b[1;33m         \u001b[1;32mreturn\u001b[0m \u001b[0mf\u001b[0m\u001b[1;33m(\u001b[0m\u001b[1;33m**\u001b[0m\u001b[0mkwargs\u001b[0m\u001b[1;33m)\u001b[0m\u001b[1;33m\u001b[0m\u001b[1;33m\u001b[0m\u001b[0m\n\u001b[0m\u001b[0;32m    533\u001b[0m \u001b[1;33m\u001b[0m\u001b[0m\n\u001b[0;32m    534\u001b[0m     \u001b[1;32mreturn\u001b[0m \u001b[0minner_f\u001b[0m\u001b[1;33m\u001b[0m\u001b[1;33m\u001b[0m\u001b[0m\n",
      "\u001b[1;32m~\\anaconda3\\lib\\site-packages\\xgboost\\sklearn.py\u001b[0m in \u001b[0;36mfit\u001b[1;34m(self, X, y, sample_weight, base_margin, eval_set, eval_metric, early_stopping_rounds, verbose, xgb_model, sample_weight_eval_set, base_margin_eval_set, feature_weights, callbacks)\u001b[0m\n\u001b[0;32m    959\u001b[0m             \u001b[0mxgb_model\u001b[0m\u001b[1;33m,\u001b[0m \u001b[0meval_metric\u001b[0m\u001b[1;33m,\u001b[0m \u001b[0mparams\u001b[0m\u001b[1;33m,\u001b[0m \u001b[0mearly_stopping_rounds\u001b[0m\u001b[1;33m,\u001b[0m \u001b[0mcallbacks\u001b[0m\u001b[1;33m\u001b[0m\u001b[1;33m\u001b[0m\u001b[0m\n\u001b[0;32m    960\u001b[0m         )\n\u001b[1;32m--> 961\u001b[1;33m         self._Booster = train(\n\u001b[0m\u001b[0;32m    962\u001b[0m             \u001b[0mparams\u001b[0m\u001b[1;33m,\u001b[0m\u001b[1;33m\u001b[0m\u001b[1;33m\u001b[0m\u001b[0m\n\u001b[0;32m    963\u001b[0m             \u001b[0mtrain_dmatrix\u001b[0m\u001b[1;33m,\u001b[0m\u001b[1;33m\u001b[0m\u001b[1;33m\u001b[0m\u001b[0m\n",
      "\u001b[1;32m~\\anaconda3\\lib\\site-packages\\xgboost\\core.py\u001b[0m in \u001b[0;36minner_f\u001b[1;34m(*args, **kwargs)\u001b[0m\n\u001b[0;32m    530\u001b[0m         \u001b[1;32mfor\u001b[0m \u001b[0mk\u001b[0m\u001b[1;33m,\u001b[0m \u001b[0marg\u001b[0m \u001b[1;32min\u001b[0m \u001b[0mzip\u001b[0m\u001b[1;33m(\u001b[0m\u001b[0msig\u001b[0m\u001b[1;33m.\u001b[0m\u001b[0mparameters\u001b[0m\u001b[1;33m,\u001b[0m \u001b[0margs\u001b[0m\u001b[1;33m)\u001b[0m\u001b[1;33m:\u001b[0m\u001b[1;33m\u001b[0m\u001b[1;33m\u001b[0m\u001b[0m\n\u001b[0;32m    531\u001b[0m             \u001b[0mkwargs\u001b[0m\u001b[1;33m[\u001b[0m\u001b[0mk\u001b[0m\u001b[1;33m]\u001b[0m \u001b[1;33m=\u001b[0m \u001b[0marg\u001b[0m\u001b[1;33m\u001b[0m\u001b[1;33m\u001b[0m\u001b[0m\n\u001b[1;32m--> 532\u001b[1;33m         \u001b[1;32mreturn\u001b[0m \u001b[0mf\u001b[0m\u001b[1;33m(\u001b[0m\u001b[1;33m**\u001b[0m\u001b[0mkwargs\u001b[0m\u001b[1;33m)\u001b[0m\u001b[1;33m\u001b[0m\u001b[1;33m\u001b[0m\u001b[0m\n\u001b[0m\u001b[0;32m    533\u001b[0m \u001b[1;33m\u001b[0m\u001b[0m\n\u001b[0;32m    534\u001b[0m     \u001b[1;32mreturn\u001b[0m \u001b[0minner_f\u001b[0m\u001b[1;33m\u001b[0m\u001b[1;33m\u001b[0m\u001b[0m\n",
      "\u001b[1;32m~\\anaconda3\\lib\\site-packages\\xgboost\\training.py\u001b[0m in \u001b[0;36mtrain\u001b[1;34m(params, dtrain, num_boost_round, evals, obj, feval, maximize, early_stopping_rounds, evals_result, verbose_eval, xgb_model, callbacks, custom_metric)\u001b[0m\n\u001b[0;32m    179\u001b[0m         \u001b[1;32mif\u001b[0m \u001b[0mcb_container\u001b[0m\u001b[1;33m.\u001b[0m\u001b[0mbefore_iteration\u001b[0m\u001b[1;33m(\u001b[0m\u001b[0mbst\u001b[0m\u001b[1;33m,\u001b[0m \u001b[0mi\u001b[0m\u001b[1;33m,\u001b[0m \u001b[0mdtrain\u001b[0m\u001b[1;33m,\u001b[0m \u001b[0mevals\u001b[0m\u001b[1;33m)\u001b[0m\u001b[1;33m:\u001b[0m\u001b[1;33m\u001b[0m\u001b[1;33m\u001b[0m\u001b[0m\n\u001b[0;32m    180\u001b[0m             \u001b[1;32mbreak\u001b[0m\u001b[1;33m\u001b[0m\u001b[1;33m\u001b[0m\u001b[0m\n\u001b[1;32m--> 181\u001b[1;33m         \u001b[0mbst\u001b[0m\u001b[1;33m.\u001b[0m\u001b[0mupdate\u001b[0m\u001b[1;33m(\u001b[0m\u001b[0mdtrain\u001b[0m\u001b[1;33m,\u001b[0m \u001b[0mi\u001b[0m\u001b[1;33m,\u001b[0m \u001b[0mobj\u001b[0m\u001b[1;33m)\u001b[0m\u001b[1;33m\u001b[0m\u001b[1;33m\u001b[0m\u001b[0m\n\u001b[0m\u001b[0;32m    182\u001b[0m         \u001b[1;32mif\u001b[0m \u001b[0mcb_container\u001b[0m\u001b[1;33m.\u001b[0m\u001b[0mafter_iteration\u001b[0m\u001b[1;33m(\u001b[0m\u001b[0mbst\u001b[0m\u001b[1;33m,\u001b[0m \u001b[0mi\u001b[0m\u001b[1;33m,\u001b[0m \u001b[0mdtrain\u001b[0m\u001b[1;33m,\u001b[0m \u001b[0mevals\u001b[0m\u001b[1;33m)\u001b[0m\u001b[1;33m:\u001b[0m\u001b[1;33m\u001b[0m\u001b[1;33m\u001b[0m\u001b[0m\n\u001b[0;32m    183\u001b[0m             \u001b[1;32mbreak\u001b[0m\u001b[1;33m\u001b[0m\u001b[1;33m\u001b[0m\u001b[0m\n",
      "\u001b[1;32m~\\anaconda3\\lib\\site-packages\\xgboost\\core.py\u001b[0m in \u001b[0;36mupdate\u001b[1;34m(self, dtrain, iteration, fobj)\u001b[0m\n\u001b[0;32m   1731\u001b[0m \u001b[1;33m\u001b[0m\u001b[0m\n\u001b[0;32m   1732\u001b[0m         \u001b[1;32mif\u001b[0m \u001b[0mfobj\u001b[0m \u001b[1;32mis\u001b[0m \u001b[1;32mNone\u001b[0m\u001b[1;33m:\u001b[0m\u001b[1;33m\u001b[0m\u001b[1;33m\u001b[0m\u001b[0m\n\u001b[1;32m-> 1733\u001b[1;33m             _check_call(_LIB.XGBoosterUpdateOneIter(self.handle,\n\u001b[0m\u001b[0;32m   1734\u001b[0m                                                     \u001b[0mctypes\u001b[0m\u001b[1;33m.\u001b[0m\u001b[0mc_int\u001b[0m\u001b[1;33m(\u001b[0m\u001b[0miteration\u001b[0m\u001b[1;33m)\u001b[0m\u001b[1;33m,\u001b[0m\u001b[1;33m\u001b[0m\u001b[1;33m\u001b[0m\u001b[0m\n\u001b[0;32m   1735\u001b[0m                                                     dtrain.handle))\n",
      "\u001b[1;31mKeyboardInterrupt\u001b[0m: "
     ]
    }
   ],
   "source": [
    " param = {'n_estimators': [1100, 1000, 1500, 1300, 1200, 1400],\n",
    "'eta': [0.01, 0.03, 0.02],\n",
    "'max_depth': [ 5, 9, 7, 8],\n",
    "'subsample': [0.3, 0.5, 0.7],\n",
    "'colsample_bytree': [0.3, 0.7, 0.9],\n",
    "'min_child_weight': [3, 8, 15]\n",
    "}\n",
    "\n",
    "MAX_EVAL = 10\n",
    "\n",
    "import random\n",
    "\n",
    "for i in range( MAX_EVAL ):\n",
    "    # choose values for parameters randomly\n",
    "    hp = { k: random.sample(  v, 1 )[0] for k, v in param.items() }\n",
    "    print( hp )\n",
    "\n",
    "    # model\n",
    "    model_xgb = XGBRegressor( objective='reg:squarederror',\n",
    "    n_estimators=hp['n_estimators'],\n",
    "    eta=hp['eta'],\n",
    "    max_depth=hp['max_depth'],\n",
    "    subsample=hp['subsample'],\n",
    "    colsample_bytree=hp['colsample_bytree'],\n",
    "    min_child_weight=hp['min_child_weight'] )\n",
    "    \n",
    "    #Performance\n",
    "#     result = cross_validation(x_training, 5, 'XGBoost Regressor', model_xgb, verbose=True)\n",
    "    MAE = simple_model_test(model_xgb, 'xgboost')\n",
    "    print(MAE)\n",
    "#     if MAE<min_:\n",
    "#         min_ = MAE\n",
    "#         best_param = eval(hp)\n",
    "\n",
    "\n",
    "        \n",
    "\n",
    "\n"
   ]
  },
  {
   "cell_type": "code",
   "execution_count": 267,
   "id": "bae4e512",
   "metadata": {
    "ExecuteTime": {
     "end_time": "2022-08-21T16:14:08.385824Z",
     "start_time": "2022-08-21T16:14:08.376807Z"
    }
   },
   "outputs": [],
   "source": [
    "# best_param = param_list[np.argmin(mae_list)]\n",
    "\n",
    "# model = XGBRegressor(n_estimators=1000,\n",
    "#  eta=0.03,\n",
    "#  max_depth=8,\n",
    "#  subsample=0.7,\n",
    "#  colsample_bytree=0.9,\n",
    "#  min_child_weight=8)\n",
    "\n",
    "# cross_validation('xgb',model, X_train[cols_selected], y_train)"
   ]
  },
  {
   "cell_type": "code",
   "execution_count": 375,
   "id": "1c40dfb2",
   "metadata": {
    "ExecuteTime": {
     "end_time": "2022-08-21T17:11:47.045267Z",
     "start_time": "2022-08-21T17:11:47.026319Z"
    }
   },
   "outputs": [],
   "source": [
    "min_mae = 999999\n",
    "best_param = {}\n",
    "\n",
    "#     learning_rate = random.choice(np.arange(0.072, 0.08, 0.002))\n",
    "#     num_leaves = random.choice(np.arange(60,90,10))\n",
    "#     max_depth = random.choice(np.arange(60,90,10))\n",
    "#     min_child_weight = random.choice(np.arange(0.001,0.003,0.0005))\n",
    "#     n_estimators = random.choice(np.arange(90,110,10))"
   ]
  },
  {
   "cell_type": "code",
   "execution_count": 585,
   "id": "f8741de4",
   "metadata": {
    "ExecuteTime": {
     "end_time": "2022-08-21T18:52:53.758427Z",
     "start_time": "2022-08-21T18:51:44.233353Z"
    }
   },
   "outputs": [
    {
     "name": "stdout",
     "output_type": "stream",
     "text": [
      "1 100\n",
      "11 100\n"
     ]
    },
    {
     "ename": "KeyboardInterrupt",
     "evalue": "",
     "output_type": "error",
     "traceback": [
      "\u001b[1;31m---------------------------------------------------------------------------\u001b[0m",
      "\u001b[1;31mKeyboardInterrupt\u001b[0m                         Traceback (most recent call last)",
      "\u001b[1;32m<ipython-input-585-9e10e1502c84>\u001b[0m in \u001b[0;36m<module>\u001b[1;34m\u001b[0m\n\u001b[0;32m     15\u001b[0m                           \u001b[0mmin_child_weight\u001b[0m\u001b[1;33m=\u001b[0m\u001b[0mmin_child_weight\u001b[0m\u001b[1;33m,\u001b[0m\u001b[1;33m\u001b[0m\u001b[1;33m\u001b[0m\u001b[0m\n\u001b[0;32m     16\u001b[0m                           boosting_type= boosting_type)\n\u001b[1;32m---> 17\u001b[1;33m     \u001b[0mmae\u001b[0m \u001b[1;33m=\u001b[0m  \u001b[0mcross_validation\u001b[0m\u001b[1;33m(\u001b[0m\u001b[1;34m'lgbm'\u001b[0m\u001b[1;33m,\u001b[0m\u001b[0mmodel\u001b[0m\u001b[1;33m,\u001b[0m \u001b[0mX_train\u001b[0m\u001b[1;33m[\u001b[0m\u001b[0mcols_selected\u001b[0m\u001b[1;33m]\u001b[0m\u001b[1;33m,\u001b[0m \u001b[0my_train\u001b[0m\u001b[1;33m)\u001b[0m\u001b[1;33m\u001b[0m\u001b[1;33m\u001b[0m\u001b[0m\n\u001b[0m\u001b[0;32m     18\u001b[0m \u001b[1;33m\u001b[0m\u001b[0m\n\u001b[0;32m     19\u001b[0m \u001b[1;31m#     print(mae)\u001b[0m\u001b[1;33m\u001b[0m\u001b[1;33m\u001b[0m\u001b[1;33m\u001b[0m\u001b[0m\n",
      "\u001b[1;32m<ipython-input-516-5bc900280c56>\u001b[0m in \u001b[0;36mcross_validation\u001b[1;34m(model_name, model, x_train, y_train)\u001b[0m\n\u001b[0;32m     18\u001b[0m \u001b[1;33m\u001b[0m\u001b[0m\n\u001b[0;32m     19\u001b[0m         \u001b[1;31m# model training\u001b[0m\u001b[1;33m\u001b[0m\u001b[1;33m\u001b[0m\u001b[1;33m\u001b[0m\u001b[0m\n\u001b[1;32m---> 20\u001b[1;33m         \u001b[0mmodel\u001b[0m\u001b[1;33m.\u001b[0m\u001b[0mfit\u001b[0m\u001b[1;33m(\u001b[0m\u001b[0mx_train_cv\u001b[0m\u001b[1;33m,\u001b[0m \u001b[0my_train_cv\u001b[0m\u001b[1;33m)\u001b[0m\u001b[1;33m\u001b[0m\u001b[1;33m\u001b[0m\u001b[0m\n\u001b[0m\u001b[0;32m     21\u001b[0m \u001b[1;33m\u001b[0m\u001b[0m\n\u001b[0;32m     22\u001b[0m         \u001b[1;31m# prediction\u001b[0m\u001b[1;33m\u001b[0m\u001b[1;33m\u001b[0m\u001b[1;33m\u001b[0m\u001b[0m\n",
      "\u001b[1;32m~\\anaconda3\\lib\\site-packages\\lightgbm\\sklearn.py\u001b[0m in \u001b[0;36mfit\u001b[1;34m(self, X, y, sample_weight, init_score, eval_set, eval_names, eval_sample_weight, eval_init_score, eval_metric, early_stopping_rounds, verbose, feature_name, categorical_feature, callbacks, init_model)\u001b[0m\n\u001b[0;32m    893\u001b[0m             callbacks=None, init_model=None):\n\u001b[0;32m    894\u001b[0m         \u001b[1;34m\"\"\"Docstring is inherited from the LGBMModel.\"\"\"\u001b[0m\u001b[1;33m\u001b[0m\u001b[1;33m\u001b[0m\u001b[0m\n\u001b[1;32m--> 895\u001b[1;33m         super().fit(X, y, sample_weight=sample_weight, init_score=init_score,\n\u001b[0m\u001b[0;32m    896\u001b[0m                     \u001b[0meval_set\u001b[0m\u001b[1;33m=\u001b[0m\u001b[0meval_set\u001b[0m\u001b[1;33m,\u001b[0m \u001b[0meval_names\u001b[0m\u001b[1;33m=\u001b[0m\u001b[0meval_names\u001b[0m\u001b[1;33m,\u001b[0m \u001b[0meval_sample_weight\u001b[0m\u001b[1;33m=\u001b[0m\u001b[0meval_sample_weight\u001b[0m\u001b[1;33m,\u001b[0m\u001b[1;33m\u001b[0m\u001b[1;33m\u001b[0m\u001b[0m\n\u001b[0;32m    897\u001b[0m                     \u001b[0meval_init_score\u001b[0m\u001b[1;33m=\u001b[0m\u001b[0meval_init_score\u001b[0m\u001b[1;33m,\u001b[0m \u001b[0meval_metric\u001b[0m\u001b[1;33m=\u001b[0m\u001b[0meval_metric\u001b[0m\u001b[1;33m,\u001b[0m\u001b[1;33m\u001b[0m\u001b[1;33m\u001b[0m\u001b[0m\n",
      "\u001b[1;32m~\\anaconda3\\lib\\site-packages\\lightgbm\\sklearn.py\u001b[0m in \u001b[0;36mfit\u001b[1;34m(self, X, y, sample_weight, init_score, group, eval_set, eval_names, eval_sample_weight, eval_class_weight, eval_init_score, eval_group, eval_metric, early_stopping_rounds, verbose, feature_name, categorical_feature, callbacks, init_model)\u001b[0m\n\u001b[0;32m    746\u001b[0m         \u001b[0mcallbacks\u001b[0m\u001b[1;33m.\u001b[0m\u001b[0mappend\u001b[0m\u001b[1;33m(\u001b[0m\u001b[0mrecord_evaluation\u001b[0m\u001b[1;33m(\u001b[0m\u001b[0mevals_result\u001b[0m\u001b[1;33m)\u001b[0m\u001b[1;33m)\u001b[0m\u001b[1;33m\u001b[0m\u001b[1;33m\u001b[0m\u001b[0m\n\u001b[0;32m    747\u001b[0m \u001b[1;33m\u001b[0m\u001b[0m\n\u001b[1;32m--> 748\u001b[1;33m         self._Booster = train(\n\u001b[0m\u001b[0;32m    749\u001b[0m             \u001b[0mparams\u001b[0m\u001b[1;33m=\u001b[0m\u001b[0mparams\u001b[0m\u001b[1;33m,\u001b[0m\u001b[1;33m\u001b[0m\u001b[1;33m\u001b[0m\u001b[0m\n\u001b[0;32m    750\u001b[0m             \u001b[0mtrain_set\u001b[0m\u001b[1;33m=\u001b[0m\u001b[0mtrain_set\u001b[0m\u001b[1;33m,\u001b[0m\u001b[1;33m\u001b[0m\u001b[1;33m\u001b[0m\u001b[0m\n",
      "\u001b[1;32m~\\anaconda3\\lib\\site-packages\\lightgbm\\engine.py\u001b[0m in \u001b[0;36mtrain\u001b[1;34m(params, train_set, num_boost_round, valid_sets, valid_names, fobj, feval, init_model, feature_name, categorical_feature, early_stopping_rounds, evals_result, verbose_eval, learning_rates, keep_training_booster, callbacks)\u001b[0m\n\u001b[0;32m    290\u001b[0m                                     evaluation_result_list=None))\n\u001b[0;32m    291\u001b[0m \u001b[1;33m\u001b[0m\u001b[0m\n\u001b[1;32m--> 292\u001b[1;33m         \u001b[0mbooster\u001b[0m\u001b[1;33m.\u001b[0m\u001b[0mupdate\u001b[0m\u001b[1;33m(\u001b[0m\u001b[0mfobj\u001b[0m\u001b[1;33m=\u001b[0m\u001b[0mfobj\u001b[0m\u001b[1;33m)\u001b[0m\u001b[1;33m\u001b[0m\u001b[1;33m\u001b[0m\u001b[0m\n\u001b[0m\u001b[0;32m    293\u001b[0m \u001b[1;33m\u001b[0m\u001b[0m\n\u001b[0;32m    294\u001b[0m         \u001b[0mevaluation_result_list\u001b[0m \u001b[1;33m=\u001b[0m \u001b[1;33m[\u001b[0m\u001b[1;33m]\u001b[0m\u001b[1;33m\u001b[0m\u001b[1;33m\u001b[0m\u001b[0m\n",
      "\u001b[1;32m~\\anaconda3\\lib\\site-packages\\lightgbm\\basic.py\u001b[0m in \u001b[0;36mupdate\u001b[1;34m(self, train_set, fobj)\u001b[0m\n\u001b[0;32m   3019\u001b[0m             \u001b[1;32mif\u001b[0m \u001b[0mself\u001b[0m\u001b[1;33m.\u001b[0m\u001b[0m__set_objective_to_none\u001b[0m\u001b[1;33m:\u001b[0m\u001b[1;33m\u001b[0m\u001b[1;33m\u001b[0m\u001b[0m\n\u001b[0;32m   3020\u001b[0m                 \u001b[1;32mraise\u001b[0m \u001b[0mLightGBMError\u001b[0m\u001b[1;33m(\u001b[0m\u001b[1;34m'Cannot update due to null objective function.'\u001b[0m\u001b[1;33m)\u001b[0m\u001b[1;33m\u001b[0m\u001b[1;33m\u001b[0m\u001b[0m\n\u001b[1;32m-> 3021\u001b[1;33m             _safe_call(_LIB.LGBM_BoosterUpdateOneIter(\n\u001b[0m\u001b[0;32m   3022\u001b[0m                 \u001b[0mself\u001b[0m\u001b[1;33m.\u001b[0m\u001b[0mhandle\u001b[0m\u001b[1;33m,\u001b[0m\u001b[1;33m\u001b[0m\u001b[1;33m\u001b[0m\u001b[0m\n\u001b[0;32m   3023\u001b[0m                 ctypes.byref(is_finished)))\n",
      "\u001b[1;31mKeyboardInterrupt\u001b[0m: "
     ]
    }
   ],
   "source": [
    "\n",
    "\n",
    "for i in range(300):\n",
    "    learning_rate = random.choice(np.arange(0.08, 0.2, 0.005))\n",
    "    num_leaves = random.choice(np.arange(50,150,20))\n",
    "    max_depth = random.choice(np.arange(50,150,20))\n",
    "    min_child_weight = random.choice(np.arange(0.001,0.003,0.0005))\n",
    "    n_estimators = random.choice(np.arange(50,300,50))\n",
    "    boosting_type = 'gbdt'\n",
    "#     n_estimators = random.choice(np.arange(100,200,10))\n",
    "\n",
    "\n",
    "    model = LGBMRegressor(learning_rate = learning_rate,\n",
    "                          num_leaves = num_leaves,\n",
    "                          max_depth =max_depth ,\n",
    "                         n_estimators = n_estimators,\n",
    "                          min_child_weight=min_child_weight,\n",
    "                          boosting_type= boosting_type)\n",
    "    mae =  cross_validation('lgbm',model, X_train[cols_selected], y_train)\n",
    "    \n",
    "#     print(mae)\n",
    "    if i%10==0:\n",
    "        print(i+1, 100)\n",
    "    if mae<min_mae:\n",
    "        \n",
    "        min_mae = mae\n",
    "        best_param['learning_rate']= learning_rate\n",
    "        best_param['num_leaves']= num_leaves\n",
    "        best_param['max_depth']= max_depth\n",
    "        best_param['n_estimators']= n_estimators\n",
    "        best_param['min_child_weight'] = min_child_weight\n",
    "        best_param['boosting_type'] = boosting_type\n",
    "        \n",
    "        print(f'get better: MAE {mae}')\n",
    "        print(learning_rate, num_leaves, max_depth, n_estimators)\n"
   ]
  },
  {
   "cell_type": "code",
   "execution_count": null,
   "id": "60005412",
   "metadata": {
    "ExecuteTime": {
     "start_time": "2022-08-21T18:56:21.055Z"
    }
   },
   "outputs": [],
   "source": [
    "cross_validation('', ExtraTreesRegressor(n_estimators=500), X_train[cols_selected], y_train)"
   ]
  },
  {
   "cell_type": "code",
   "execution_count": 596,
   "id": "144604b3",
   "metadata": {
    "ExecuteTime": {
     "end_time": "2022-08-21T18:55:42.781761Z",
     "start_time": "2022-08-21T18:55:25.471842Z"
    }
   },
   "outputs": [
    {
     "name": "stdout",
     "output_type": "stream",
     "text": [
      "\n",
      " MAE: 79395.54\n",
      " MAPE: 0.76\n",
      " RMSE: 109894.8\n"
     ]
    },
    {
     "data": {
      "text/plain": [
       "79395.54"
      ]
     },
     "execution_count": 596,
     "metadata": {},
     "output_type": "execute_result"
    }
   ],
   "source": [
    "simple_model_test(ExtraTreesRegressor(), '')"
   ]
  },
  {
   "cell_type": "code",
   "execution_count": 520,
   "id": "6f4ee1ee",
   "metadata": {
    "ExecuteTime": {
     "end_time": "2022-08-21T17:52:03.554989Z",
     "start_time": "2022-08-21T17:52:03.539033Z"
    }
   },
   "outputs": [
    {
     "data": {
      "text/plain": [
       "{'learning_rate': 0.074,\n",
       " 'num_leaves': 80,\n",
       " 'max_depth': 70,\n",
       " 'n_estimators': 100,\n",
       " 'min_child_weight': 0.001,\n",
       " 'boosting_type': 'gbdt'}"
      ]
     },
     "execution_count": 520,
     "metadata": {},
     "output_type": "execute_result"
    }
   ],
   "source": [
    "best_param"
   ]
  },
  {
   "cell_type": "code",
   "execution_count": 521,
   "id": "046823ff",
   "metadata": {
    "ExecuteTime": {
     "end_time": "2022-08-21T17:52:06.806166Z",
     "start_time": "2022-08-21T17:52:06.787178Z"
    }
   },
   "outputs": [],
   "source": [
    "model = LGBMRegressor(learning_rate = 0.074,num_leaves = 80,max_depth = 70 ,\n",
    "                         n_estimators = 100, boosting_type='gbdt', min_child_weight = 0.001)\n",
    "\n",
    "# send_model(model)"
   ]
  },
  {
   "cell_type": "code",
   "execution_count": 522,
   "id": "3d148249",
   "metadata": {
    "ExecuteTime": {
     "end_time": "2022-08-21T17:52:08.453553Z",
     "start_time": "2022-08-21T17:52:08.443577Z"
    }
   },
   "outputs": [],
   "source": [
    "# sns.histplot(pp.RobustScaler().fit_transform(df_raw[['odometro']].values))"
   ]
  },
  {
   "cell_type": "code",
   "execution_count": 523,
   "id": "c5f73fc5",
   "metadata": {
    "ExecuteTime": {
     "end_time": "2022-08-21T17:52:08.797562Z",
     "start_time": "2022-08-21T17:52:08.786590Z"
    }
   },
   "outputs": [],
   "source": [
    "cols_selected = ['versao', 'cambio', 'marca', 'odometro', 'tipo', 'ano_modelo',\n",
    "       'ano_de_fabricacao',  'modelo']"
   ]
  },
  {
   "cell_type": "code",
   "execution_count": 524,
   "id": "7bba2361",
   "metadata": {
    "ExecuteTime": {
     "end_time": "2022-08-21T17:52:11.305372Z",
     "start_time": "2022-08-21T17:52:09.234910Z"
    }
   },
   "outputs": [
    {
     "data": {
      "text/plain": [
       "24964.86"
      ]
     },
     "execution_count": 524,
     "metadata": {},
     "output_type": "execute_result"
    }
   ],
   "source": [
    "cross_validation('lgbm',model, X_train[cols_selected], y_train)"
   ]
  },
  {
   "cell_type": "code",
   "execution_count": 397,
   "id": "968ffd51",
   "metadata": {
    "ExecuteTime": {
     "end_time": "2022-08-21T17:25:11.136506Z",
     "start_time": "2022-08-21T17:25:11.116558Z"
    }
   },
   "outputs": [
    {
     "data": {
      "text/plain": [
       "['versao',\n",
       " 'modelo',\n",
       " 'cambio',\n",
       " 'odometro',\n",
       " 'tipo',\n",
       " 'ano_modelo',\n",
       " 'marca',\n",
       " 'ano_de_fabricacao']"
      ]
     },
     "execution_count": 397,
     "metadata": {},
     "output_type": "execute_result"
    }
   ],
   "source": [
    "cols_selected"
   ]
  },
  {
   "cell_type": "code",
   "execution_count": 583,
   "id": "1eb26c01",
   "metadata": {
    "ExecuteTime": {
     "end_time": "2022-08-21T18:49:49.986092Z",
     "start_time": "2022-08-21T18:47:07.681299Z"
    }
   },
   "outputs": [
    {
     "name": "stdout",
     "output_type": "stream",
     "text": [
      "Model submited\n"
     ]
    }
   ],
   "source": [
    "send_model(RandomForestRegressor(min_samples_split= 3,\n",
    " max_depth= None,\n",
    " min_samples_leaf= 4,\n",
    " n_estimators= 1500))"
   ]
  },
  {
   "cell_type": "code",
   "execution_count": 582,
   "id": "84ee6dda",
   "metadata": {
    "ExecuteTime": {
     "end_time": "2022-08-21T18:46:25.262258Z",
     "start_time": "2022-08-21T18:46:25.164878Z"
    }
   },
   "outputs": [
    {
     "data": {
      "text/plain": [
       "['versao',\n",
       " 'cambio',\n",
       " 'marca',\n",
       " 'odometro',\n",
       " 'tipo',\n",
       " 'ano_modelo',\n",
       " 'ano_de_fabricacao',\n",
       " 'modelo']"
      ]
     },
     "execution_count": 582,
     "metadata": {},
     "output_type": "execute_result"
    }
   ],
   "source": [
    "cols_selected"
   ]
  }
 ],
 "metadata": {
  "kernelspec": {
   "display_name": "Python 3",
   "language": "python",
   "name": "python3"
  },
  "language_info": {
   "codemirror_mode": {
    "name": "ipython",
    "version": 3
   },
   "file_extension": ".py",
   "mimetype": "text/x-python",
   "name": "python",
   "nbconvert_exporter": "python",
   "pygments_lexer": "ipython3",
   "version": "3.8.8"
  },
  "varInspector": {
   "cols": {
    "lenName": 16,
    "lenType": 16,
    "lenVar": 40
   },
   "kernels_config": {
    "python": {
     "delete_cmd_postfix": "",
     "delete_cmd_prefix": "del ",
     "library": "var_list.py",
     "varRefreshCmd": "print(var_dic_list())"
    },
    "r": {
     "delete_cmd_postfix": ") ",
     "delete_cmd_prefix": "rm(",
     "library": "var_list.r",
     "varRefreshCmd": "cat(var_dic_list()) "
    }
   },
   "types_to_exclude": [
    "module",
    "function",
    "builtin_function_or_method",
    "instance",
    "_Feature"
   ],
   "window_display": false
  }
 },
 "nbformat": 4,
 "nbformat_minor": 5
}
