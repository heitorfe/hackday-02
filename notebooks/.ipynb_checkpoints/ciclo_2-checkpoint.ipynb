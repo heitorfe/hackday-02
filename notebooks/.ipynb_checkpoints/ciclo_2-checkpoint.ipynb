{
 "cells": [
  {
   "cell_type": "markdown",
   "id": "08512544",
   "metadata": {},
   "source": [
    "## Imports"
   ]
  },
  {
   "cell_type": "code",
   "execution_count": 41,
   "id": "f6d67094",
   "metadata": {
    "ExecuteTime": {
     "end_time": "2022-08-20T16:03:42.297279Z",
     "start_time": "2022-08-20T16:03:41.791392Z"
    }
   },
   "outputs": [],
   "source": [
    "import pandas as pd\n",
    "import numpy as np\n",
    "from sklearn import preprocessing as pp\n",
    "\n",
    "from sklearn.linear_model import LinearRegression, Lasso\n",
    "from sklearn.ensemble import RandomForestRegressor\n",
    "from sklearn.metrics import  mean_absolute_error, mean_squared_error\n",
    "from sklearn.model_selection import train_test_split\n",
    "\n",
    "df_raw = pd.read_csv('../data/treino.csv')\n",
    "df_test = pd.read_csv('../data/teste.csv')"
   ]
  },
  {
   "cell_type": "markdown",
   "id": "d11f6b34",
   "metadata": {
    "ExecuteTime": {
     "end_time": "2022-08-20T13:01:02.786960Z",
     "start_time": "2022-08-20T13:01:02.747022Z"
    }
   },
   "source": [
    "## Data Descriptions"
   ]
  },
  {
   "cell_type": "code",
   "execution_count": 4,
   "id": "16f18100",
   "metadata": {
    "ExecuteTime": {
     "end_time": "2022-08-20T15:56:34.850246Z",
     "start_time": "2022-08-20T15:56:34.841308Z"
    }
   },
   "outputs": [],
   "source": [
    "df1 = df_raw.copy()"
   ]
  },
  {
   "cell_type": "code",
   "execution_count": 5,
   "id": "87b655d4",
   "metadata": {
    "ExecuteTime": {
     "end_time": "2022-08-20T15:56:35.004081Z",
     "start_time": "2022-08-20T15:56:34.983093Z"
    }
   },
   "outputs": [
    {
     "data": {
      "text/plain": [
       "Index(['ID', 'num_fotos', 'marca', 'modelo', 'versao', 'ano_de_fabricacao',\n",
       "       'ano_modelo', 'odometro', 'cambio', 'num_portas', 'tipo', 'blindado',\n",
       "       'cor', 'tipo_vendedor', 'cidade_vendedor', 'estado_vendedor',\n",
       "       'tipo_anuncio', 'entrega_delivery', 'troca', 'elegivel_revisao',\n",
       "       'attr_veiculo_aceita_troca', 'attr_veiculo_único_dono',\n",
       "       'attr_veiculo_todas_as_revisões_feitas_pela_concessionária',\n",
       "       'attr_veiculo_ipva_pago', 'attr_veiculo_licenciado',\n",
       "       'attr_veiculo_garantia_de_fábrica',\n",
       "       'attr_veiculo_todas_as_revisões_feitas_pela_agenda_do_carro',\n",
       "       'attr_veiculo_alienado', 'preco'],\n",
       "      dtype='object')"
      ]
     },
     "execution_count": 5,
     "metadata": {},
     "output_type": "execute_result"
    }
   ],
   "source": [
    "df_raw.columns"
   ]
  },
  {
   "cell_type": "code",
   "execution_count": 6,
   "id": "be898df1",
   "metadata": {
    "ExecuteTime": {
     "end_time": "2022-08-20T15:56:35.128135Z",
     "start_time": "2022-08-20T15:56:35.121195Z"
    }
   },
   "outputs": [],
   "source": [
    "# rename columns\n",
    "df1.columns = ['id', 'num_fotos', 'marca', 'modelo', 'versao', 'ano_de_fabricacao',\n",
    "       'ano_modelo', 'odometro', 'cambio', 'num_portas', 'tipo', 'blindado',\n",
    "       'cor', 'tipo_vendedor', 'cidade_vendedor', 'estado_vendedor',\n",
    "       'tipo_anuncio', 'entrega_delivery', 'troca', 'elegivel_revisao',\n",
    "       'aceita_troca', 'dono_unico',\n",
    "       'todas_revisoes_concessionaria',\n",
    "       'ipva_pago', 'licenciado',\n",
    "       'garantia_de_fabrica',\n",
    "       'todas_revisoes_agenda',\n",
    "       'alienado', 'preco']"
   ]
  },
  {
   "cell_type": "markdown",
   "id": "5036f261",
   "metadata": {},
   "source": [
    "### Data dimension / types / nas"
   ]
  },
  {
   "cell_type": "code",
   "execution_count": 7,
   "id": "434a3a40",
   "metadata": {
    "ExecuteTime": {
     "end_time": "2022-08-20T15:56:35.389963Z",
     "start_time": "2022-08-20T15:56:35.383979Z"
    }
   },
   "outputs": [
    {
     "data": {
      "text/plain": [
       "(39446, 29)"
      ]
     },
     "execution_count": 7,
     "metadata": {},
     "output_type": "execute_result"
    }
   ],
   "source": [
    "df_raw.shape"
   ]
  },
  {
   "cell_type": "code",
   "execution_count": 8,
   "id": "39dbabff",
   "metadata": {
    "ExecuteTime": {
     "end_time": "2022-08-20T15:56:35.528634Z",
     "start_time": "2022-08-20T15:56:35.511637Z"
    }
   },
   "outputs": [
    {
     "data": {
      "text/plain": [
       "ID                                                             object\n",
       "num_fotos                                                     float64\n",
       "marca                                                          object\n",
       "modelo                                                         object\n",
       "versao                                                         object\n",
       "ano_de_fabricacao                                               int64\n",
       "ano_modelo                                                    float64\n",
       "odometro                                                      float64\n",
       "cambio                                                         object\n",
       "num_portas                                                      int64\n",
       "tipo                                                           object\n",
       "blindado                                                       object\n",
       "cor                                                            object\n",
       "tipo_vendedor                                                  object\n",
       "cidade_vendedor                                                object\n",
       "estado_vendedor                                                object\n",
       "tipo_anuncio                                                   object\n",
       "entrega_delivery                                                 bool\n",
       "troca                                                            bool\n",
       "elegivel_revisao                                                 bool\n",
       "attr_veiculo_aceita_troca                                      object\n",
       "attr_veiculo_único_dono                                        object\n",
       "attr_veiculo_todas_as_revisões_feitas_pela_concessionária      object\n",
       "attr_veiculo_ipva_pago                                         object\n",
       "attr_veiculo_licenciado                                        object\n",
       "attr_veiculo_garantia_de_fábrica                               object\n",
       "attr_veiculo_todas_as_revisões_feitas_pela_agenda_do_carro     object\n",
       "attr_veiculo_alienado                                         float64\n",
       "preco                                                         float64\n",
       "dtype: object"
      ]
     },
     "execution_count": 8,
     "metadata": {},
     "output_type": "execute_result"
    }
   ],
   "source": [
    "df_raw.dtypes"
   ]
  },
  {
   "cell_type": "code",
   "execution_count": 9,
   "id": "544ac178",
   "metadata": {
    "ExecuteTime": {
     "end_time": "2022-08-20T15:56:35.759593Z",
     "start_time": "2022-08-20T15:56:35.647892Z"
    }
   },
   "outputs": [
    {
     "data": {
      "text/plain": [
       "id                               0.000000\n",
       "num_fotos                        0.006008\n",
       "marca                            0.000000\n",
       "modelo                           0.000000\n",
       "versao                           0.000000\n",
       "ano_de_fabricacao                0.000000\n",
       "ano_modelo                       0.000000\n",
       "odometro                         0.000000\n",
       "cambio                           0.000000\n",
       "num_portas                       0.000000\n",
       "tipo                             0.000000\n",
       "blindado                         0.000000\n",
       "cor                              0.000000\n",
       "tipo_vendedor                    0.000000\n",
       "cidade_vendedor                  0.000000\n",
       "estado_vendedor                  0.000000\n",
       "tipo_anuncio                     0.000000\n",
       "entrega_delivery                 0.000000\n",
       "troca                            0.000000\n",
       "elegivel_revisao                 0.000000\n",
       "aceita_troca                     0.258987\n",
       "dono_unico                       0.647670\n",
       "todas_revisoes_concessionaria    0.689728\n",
       "ipva_pago                        0.335218\n",
       "licenciado                       0.461289\n",
       "garantia_de_fabrica              0.853268\n",
       "todas_revisoes_agenda            0.799650\n",
       "alienado                         1.000000\n",
       "preco                            0.000000\n",
       "dtype: float64"
      ]
     },
     "execution_count": 9,
     "metadata": {},
     "output_type": "execute_result"
    }
   ],
   "source": [
    "df1.isna().sum() / len(df1)"
   ]
  },
  {
   "cell_type": "markdown",
   "id": "6f4f5ce1",
   "metadata": {},
   "source": [
    "### Stats"
   ]
  },
  {
   "cell_type": "code",
   "execution_count": 10,
   "id": "57aeeb32",
   "metadata": {
    "ExecuteTime": {
     "end_time": "2022-08-20T15:56:36.052431Z",
     "start_time": "2022-08-20T15:56:35.921827Z"
    },
    "cell_style": "split"
   },
   "outputs": [
    {
     "data": {
      "text/html": [
       "<div>\n",
       "<style scoped>\n",
       "    .dataframe tbody tr th:only-of-type {\n",
       "        vertical-align: middle;\n",
       "    }\n",
       "\n",
       "    .dataframe tbody tr th {\n",
       "        vertical-align: top;\n",
       "    }\n",
       "\n",
       "    .dataframe thead th {\n",
       "        text-align: right;\n",
       "    }\n",
       "</style>\n",
       "<table border=\"1\" class=\"dataframe\">\n",
       "  <thead>\n",
       "    <tr style=\"text-align: right;\">\n",
       "      <th></th>\n",
       "      <th>count</th>\n",
       "      <th>unique</th>\n",
       "      <th>top</th>\n",
       "      <th>freq</th>\n",
       "    </tr>\n",
       "  </thead>\n",
       "  <tbody>\n",
       "    <tr>\n",
       "      <th>ID</th>\n",
       "      <td>39446</td>\n",
       "      <td>39446</td>\n",
       "      <td>105869496634249611881157692933406072990</td>\n",
       "      <td>1</td>\n",
       "    </tr>\n",
       "    <tr>\n",
       "      <th>marca</th>\n",
       "      <td>39446</td>\n",
       "      <td>41</td>\n",
       "      <td>VOLKSWAGEN</td>\n",
       "      <td>6140</td>\n",
       "    </tr>\n",
       "    <tr>\n",
       "      <th>modelo</th>\n",
       "      <td>39446</td>\n",
       "      <td>473</td>\n",
       "      <td>COMPASS</td>\n",
       "      <td>1967</td>\n",
       "    </tr>\n",
       "    <tr>\n",
       "      <th>versao</th>\n",
       "      <td>39446</td>\n",
       "      <td>2058</td>\n",
       "      <td>1.6 16V FLEX ALLURE PACK 4P AUTOMÁTICO</td>\n",
       "      <td>1825</td>\n",
       "    </tr>\n",
       "    <tr>\n",
       "      <th>cambio</th>\n",
       "      <td>39446</td>\n",
       "      <td>7</td>\n",
       "      <td>Automática</td>\n",
       "      <td>30073</td>\n",
       "    </tr>\n",
       "    <tr>\n",
       "      <th>tipo</th>\n",
       "      <td>39446</td>\n",
       "      <td>8</td>\n",
       "      <td>Sedã</td>\n",
       "      <td>21910</td>\n",
       "    </tr>\n",
       "    <tr>\n",
       "      <th>blindado</th>\n",
       "      <td>39446</td>\n",
       "      <td>2</td>\n",
       "      <td>N</td>\n",
       "      <td>39128</td>\n",
       "    </tr>\n",
       "    <tr>\n",
       "      <th>cor</th>\n",
       "      <td>39446</td>\n",
       "      <td>8</td>\n",
       "      <td>Branco</td>\n",
       "      <td>27919</td>\n",
       "    </tr>\n",
       "    <tr>\n",
       "      <th>tipo_vendedor</th>\n",
       "      <td>39446</td>\n",
       "      <td>2</td>\n",
       "      <td>PF</td>\n",
       "      <td>23857</td>\n",
       "    </tr>\n",
       "    <tr>\n",
       "      <th>cidade_vendedor</th>\n",
       "      <td>39446</td>\n",
       "      <td>648</td>\n",
       "      <td>São Paulo</td>\n",
       "      <td>8198</td>\n",
       "    </tr>\n",
       "    <tr>\n",
       "      <th>estado_vendedor</th>\n",
       "      <td>39446</td>\n",
       "      <td>25</td>\n",
       "      <td>São Paulo (SP)</td>\n",
       "      <td>21794</td>\n",
       "    </tr>\n",
       "    <tr>\n",
       "      <th>tipo_anuncio</th>\n",
       "      <td>39446</td>\n",
       "      <td>4</td>\n",
       "      <td>Pessoa Física</td>\n",
       "      <td>23949</td>\n",
       "    </tr>\n",
       "    <tr>\n",
       "      <th>attr_veiculo_aceita_troca</th>\n",
       "      <td>29230</td>\n",
       "      <td>1</td>\n",
       "      <td>Aceita troca</td>\n",
       "      <td>29230</td>\n",
       "    </tr>\n",
       "    <tr>\n",
       "      <th>attr_veiculo_único_dono</th>\n",
       "      <td>13898</td>\n",
       "      <td>1</td>\n",
       "      <td>Único dono</td>\n",
       "      <td>13898</td>\n",
       "    </tr>\n",
       "    <tr>\n",
       "      <th>attr_veiculo_todas_as_revisões_feitas_pela_concessionária</th>\n",
       "      <td>12239</td>\n",
       "      <td>1</td>\n",
       "      <td>Todas as revisões feitas pela concessionária</td>\n",
       "      <td>12239</td>\n",
       "    </tr>\n",
       "    <tr>\n",
       "      <th>attr_veiculo_ipva_pago</th>\n",
       "      <td>26223</td>\n",
       "      <td>1</td>\n",
       "      <td>IPVA pago</td>\n",
       "      <td>26223</td>\n",
       "    </tr>\n",
       "    <tr>\n",
       "      <th>attr_veiculo_licenciado</th>\n",
       "      <td>21250</td>\n",
       "      <td>1</td>\n",
       "      <td>Licenciado</td>\n",
       "      <td>21250</td>\n",
       "    </tr>\n",
       "    <tr>\n",
       "      <th>attr_veiculo_garantia_de_fábrica</th>\n",
       "      <td>5788</td>\n",
       "      <td>1</td>\n",
       "      <td>Garantia de fábrica</td>\n",
       "      <td>5788</td>\n",
       "    </tr>\n",
       "    <tr>\n",
       "      <th>attr_veiculo_todas_as_revisões_feitas_pela_agenda_do_carro</th>\n",
       "      <td>7903</td>\n",
       "      <td>1</td>\n",
       "      <td>Todas as revisões feitas pela agenda do carro</td>\n",
       "      <td>7903</td>\n",
       "    </tr>\n",
       "  </tbody>\n",
       "</table>\n",
       "</div>"
      ],
      "text/plain": [
       "                                                    count unique  \\\n",
       "ID                                                  39446  39446   \n",
       "marca                                               39446     41   \n",
       "modelo                                              39446    473   \n",
       "versao                                              39446   2058   \n",
       "cambio                                              39446      7   \n",
       "tipo                                                39446      8   \n",
       "blindado                                            39446      2   \n",
       "cor                                                 39446      8   \n",
       "tipo_vendedor                                       39446      2   \n",
       "cidade_vendedor                                     39446    648   \n",
       "estado_vendedor                                     39446     25   \n",
       "tipo_anuncio                                        39446      4   \n",
       "attr_veiculo_aceita_troca                           29230      1   \n",
       "attr_veiculo_único_dono                             13898      1   \n",
       "attr_veiculo_todas_as_revisões_feitas_pela_conc...  12239      1   \n",
       "attr_veiculo_ipva_pago                              26223      1   \n",
       "attr_veiculo_licenciado                             21250      1   \n",
       "attr_veiculo_garantia_de_fábrica                     5788      1   \n",
       "attr_veiculo_todas_as_revisões_feitas_pela_agen...   7903      1   \n",
       "\n",
       "                                                                                              top  \\\n",
       "ID                                                        105869496634249611881157692933406072990   \n",
       "marca                                                                                  VOLKSWAGEN   \n",
       "modelo                                                                                    COMPASS   \n",
       "versao                                                     1.6 16V FLEX ALLURE PACK 4P AUTOMÁTICO   \n",
       "cambio                                                                                 Automática   \n",
       "tipo                                                                                         Sedã   \n",
       "blindado                                                                                        N   \n",
       "cor                                                                                        Branco   \n",
       "tipo_vendedor                                                                                  PF   \n",
       "cidade_vendedor                                                                         São Paulo   \n",
       "estado_vendedor                                                                    São Paulo (SP)   \n",
       "tipo_anuncio                                                                        Pessoa Física   \n",
       "attr_veiculo_aceita_troca                                                            Aceita troca   \n",
       "attr_veiculo_único_dono                                                                Único dono   \n",
       "attr_veiculo_todas_as_revisões_feitas_pela_conc...   Todas as revisões feitas pela concessionária   \n",
       "attr_veiculo_ipva_pago                                                                  IPVA pago   \n",
       "attr_veiculo_licenciado                                                                Licenciado   \n",
       "attr_veiculo_garantia_de_fábrica                                              Garantia de fábrica   \n",
       "attr_veiculo_todas_as_revisões_feitas_pela_agen...  Todas as revisões feitas pela agenda do carro   \n",
       "\n",
       "                                                     freq  \n",
       "ID                                                      1  \n",
       "marca                                                6140  \n",
       "modelo                                               1967  \n",
       "versao                                               1825  \n",
       "cambio                                              30073  \n",
       "tipo                                                21910  \n",
       "blindado                                            39128  \n",
       "cor                                                 27919  \n",
       "tipo_vendedor                                       23857  \n",
       "cidade_vendedor                                      8198  \n",
       "estado_vendedor                                     21794  \n",
       "tipo_anuncio                                        23949  \n",
       "attr_veiculo_aceita_troca                           29230  \n",
       "attr_veiculo_único_dono                             13898  \n",
       "attr_veiculo_todas_as_revisões_feitas_pela_conc...  12239  \n",
       "attr_veiculo_ipva_pago                              26223  \n",
       "attr_veiculo_licenciado                             21250  \n",
       "attr_veiculo_garantia_de_fábrica                     5788  \n",
       "attr_veiculo_todas_as_revisões_feitas_pela_agen...   7903  "
      ]
     },
     "execution_count": 10,
     "metadata": {},
     "output_type": "execute_result"
    }
   ],
   "source": [
    "df_raw.select_dtypes('object').describe().T"
   ]
  },
  {
   "cell_type": "code",
   "execution_count": 11,
   "id": "122c986f",
   "metadata": {
    "ExecuteTime": {
     "end_time": "2022-08-20T15:56:36.176008Z",
     "start_time": "2022-08-20T15:56:36.146368Z"
    },
    "cell_style": "split"
   },
   "outputs": [
    {
     "data": {
      "text/html": [
       "<div>\n",
       "<style scoped>\n",
       "    .dataframe tbody tr th:only-of-type {\n",
       "        vertical-align: middle;\n",
       "    }\n",
       "\n",
       "    .dataframe tbody tr th {\n",
       "        vertical-align: top;\n",
       "    }\n",
       "\n",
       "    .dataframe thead th {\n",
       "        text-align: right;\n",
       "    }\n",
       "</style>\n",
       "<table border=\"1\" class=\"dataframe\">\n",
       "  <thead>\n",
       "    <tr style=\"text-align: right;\">\n",
       "      <th></th>\n",
       "      <th>count</th>\n",
       "      <th>mean</th>\n",
       "      <th>std</th>\n",
       "      <th>min</th>\n",
       "      <th>25%</th>\n",
       "      <th>50%</th>\n",
       "      <th>75%</th>\n",
       "      <th>max</th>\n",
       "    </tr>\n",
       "  </thead>\n",
       "  <tbody>\n",
       "    <tr>\n",
       "      <th>num_fotos</th>\n",
       "      <td>39209.0</td>\n",
       "      <td>10.323829</td>\n",
       "      <td>3.481065</td>\n",
       "      <td>8.000000</td>\n",
       "      <td>8.000000</td>\n",
       "      <td>8.000000</td>\n",
       "      <td>14.000000</td>\n",
       "      <td>2.100000e+01</td>\n",
       "    </tr>\n",
       "    <tr>\n",
       "      <th>ano_de_fabricacao</th>\n",
       "      <td>39446.0</td>\n",
       "      <td>2016.748137</td>\n",
       "      <td>4.084762</td>\n",
       "      <td>1985.000000</td>\n",
       "      <td>2015.000000</td>\n",
       "      <td>2018.000000</td>\n",
       "      <td>2019.000000</td>\n",
       "      <td>2.022000e+03</td>\n",
       "    </tr>\n",
       "    <tr>\n",
       "      <th>ano_modelo</th>\n",
       "      <td>39446.0</td>\n",
       "      <td>2017.807154</td>\n",
       "      <td>2.675334</td>\n",
       "      <td>1997.000000</td>\n",
       "      <td>2016.000000</td>\n",
       "      <td>2018.000000</td>\n",
       "      <td>2020.000000</td>\n",
       "      <td>2.023000e+03</td>\n",
       "    </tr>\n",
       "    <tr>\n",
       "      <th>odometro</th>\n",
       "      <td>39446.0</td>\n",
       "      <td>58382.243371</td>\n",
       "      <td>32542.793054</td>\n",
       "      <td>100.000000</td>\n",
       "      <td>31235.250000</td>\n",
       "      <td>57244.500000</td>\n",
       "      <td>81925.750000</td>\n",
       "      <td>3.900650e+05</td>\n",
       "    </tr>\n",
       "    <tr>\n",
       "      <th>num_portas</th>\n",
       "      <td>39446.0</td>\n",
       "      <td>3.941135</td>\n",
       "      <td>0.337210</td>\n",
       "      <td>2.000000</td>\n",
       "      <td>4.000000</td>\n",
       "      <td>4.000000</td>\n",
       "      <td>4.000000</td>\n",
       "      <td>4.000000e+00</td>\n",
       "    </tr>\n",
       "    <tr>\n",
       "      <th>attr_veiculo_alienado</th>\n",
       "      <td>0.0</td>\n",
       "      <td>NaN</td>\n",
       "      <td>NaN</td>\n",
       "      <td>NaN</td>\n",
       "      <td>NaN</td>\n",
       "      <td>NaN</td>\n",
       "      <td>NaN</td>\n",
       "      <td>NaN</td>\n",
       "    </tr>\n",
       "    <tr>\n",
       "      <th>preco</th>\n",
       "      <td>39446.0</td>\n",
       "      <td>133385.874348</td>\n",
       "      <td>82384.971901</td>\n",
       "      <td>7258.159943</td>\n",
       "      <td>76774.321715</td>\n",
       "      <td>114307.970618</td>\n",
       "      <td>163987.004263</td>\n",
       "      <td>1.359813e+06</td>\n",
       "    </tr>\n",
       "  </tbody>\n",
       "</table>\n",
       "</div>"
      ],
      "text/plain": [
       "                         count           mean           std          min  \\\n",
       "num_fotos              39209.0      10.323829      3.481065     8.000000   \n",
       "ano_de_fabricacao      39446.0    2016.748137      4.084762  1985.000000   \n",
       "ano_modelo             39446.0    2017.807154      2.675334  1997.000000   \n",
       "odometro               39446.0   58382.243371  32542.793054   100.000000   \n",
       "num_portas             39446.0       3.941135      0.337210     2.000000   \n",
       "attr_veiculo_alienado      0.0            NaN           NaN          NaN   \n",
       "preco                  39446.0  133385.874348  82384.971901  7258.159943   \n",
       "\n",
       "                                25%            50%            75%  \\\n",
       "num_fotos                  8.000000       8.000000      14.000000   \n",
       "ano_de_fabricacao       2015.000000    2018.000000    2019.000000   \n",
       "ano_modelo              2016.000000    2018.000000    2020.000000   \n",
       "odometro               31235.250000   57244.500000   81925.750000   \n",
       "num_portas                 4.000000       4.000000       4.000000   \n",
       "attr_veiculo_alienado           NaN            NaN            NaN   \n",
       "preco                  76774.321715  114307.970618  163987.004263   \n",
       "\n",
       "                                max  \n",
       "num_fotos              2.100000e+01  \n",
       "ano_de_fabricacao      2.022000e+03  \n",
       "ano_modelo             2.023000e+03  \n",
       "odometro               3.900650e+05  \n",
       "num_portas             4.000000e+00  \n",
       "attr_veiculo_alienado           NaN  \n",
       "preco                  1.359813e+06  "
      ]
     },
     "execution_count": 11,
     "metadata": {},
     "output_type": "execute_result"
    }
   ],
   "source": [
    "df_raw.select_dtypes(exclude='object').describe().T"
   ]
  },
  {
   "cell_type": "markdown",
   "id": "e6a05120",
   "metadata": {},
   "source": [
    "### Change types / fillna"
   ]
  },
  {
   "cell_type": "code",
   "execution_count": 13,
   "id": "b028235d",
   "metadata": {
    "ExecuteTime": {
     "end_time": "2022-08-20T15:56:36.608492Z",
     "start_time": "2022-08-20T15:56:36.522310Z"
    }
   },
   "outputs": [],
   "source": [
    "# NAS\n",
    "# num_fotos                        0.006008\n",
    "# aceita_troca                     0.258987\n",
    "# dono_unico                       0.647670\n",
    "# todas_revisoes_concessionaria    0.689728\n",
    "# ipva_pago                        0.335218\n",
    "# licenciado                       0.461289\n",
    "# garantia_de_fabrica              0.853268\n",
    "# todas_revisoes_agenda            0.799650\n",
    "# alienado                         1.000000\n",
    "\n",
    "\n",
    "df1['num_fotos'] = df1['num_fotos'].fillna(0)\n",
    "\n",
    "df1 = df1.drop('alienado', axis=1)\n",
    "\n",
    "na_cols = df1.columns[-8:-1]\n",
    "\n",
    "\n",
    "for col in na_cols:\n",
    "    df1[col] = np.where(df1[col].isna(), 0, 1)"
   ]
  },
  {
   "cell_type": "code",
   "execution_count": 14,
   "id": "914ce9ae",
   "metadata": {
    "ExecuteTime": {
     "end_time": "2022-08-20T15:56:36.982255Z",
     "start_time": "2022-08-20T15:56:36.688992Z"
    }
   },
   "outputs": [],
   "source": [
    "df1[df1.T.tail(8).index] = df1[df1.T.tail(8).index].astype('int64')\n",
    "\n",
    "df1['ano_modelo'] = df1['ano_modelo'].astype('int64')\n",
    "df1['num_fotos'] = df1['num_fotos'].astype('int64')"
   ]
  },
  {
   "cell_type": "markdown",
   "id": "a07e3d22",
   "metadata": {},
   "source": [
    "## Data Filtering"
   ]
  },
  {
   "cell_type": "code",
   "execution_count": 15,
   "id": "e18f0bf8",
   "metadata": {
    "ExecuteTime": {
     "end_time": "2022-08-20T15:56:37.090727Z",
     "start_time": "2022-08-20T15:56:37.076931Z"
    }
   },
   "outputs": [],
   "source": [
    "# df1[(df1['marca']=='CHEVROLET') & (df1['modelo']=='ONIX')].sort_values('ano_modelo')\n"
   ]
  },
  {
   "cell_type": "markdown",
   "id": "151f0b47",
   "metadata": {},
   "source": [
    "## Feature Engineering"
   ]
  },
  {
   "cell_type": "markdown",
   "id": "694f87eb",
   "metadata": {
    "ExecuteTime": {
     "end_time": "2022-08-20T13:57:18.299292Z",
     "start_time": "2022-08-20T13:57:18.279465Z"
    }
   },
   "source": [
    "## EDA"
   ]
  },
  {
   "cell_type": "markdown",
   "id": "07a31ba1",
   "metadata": {},
   "source": [
    "## Data Preparation"
   ]
  },
  {
   "cell_type": "code",
   "execution_count": 19,
   "id": "8e6b8468",
   "metadata": {
    "ExecuteTime": {
     "end_time": "2022-08-20T15:57:22.357435Z",
     "start_time": "2022-08-20T15:57:22.121281Z"
    }
   },
   "outputs": [],
   "source": [
    "X = df1.copy().drop('id', axis=1)\n",
    "\n",
    "#one hot\n",
    "#frequency\n",
    "#target\n",
    "#label \n",
    "\n",
    "\n",
    "\n",
    "\n",
    "#drop cidades\n",
    "X = X.drop('cidade_vendedor', axis=1)\n",
    "\n",
    "#get uf\n",
    "X['estado_vendedor'] = X['estado_vendedor'].apply(lambda x: x[-3:-1])\n",
    "\n",
    "#numeric transformation\n",
    "num_columns = X.select_dtypes(exclude = 'object').columns\n",
    "cat_columns = X.select_dtypes('object').columns\n",
    "mms = pp.MinMaxScaler()\n",
    "\n",
    "for col in num_columns:\n",
    "    X[col] = mms.fit_transform(X[[col]] )\n",
    "    \n",
    "\n",
    "target_marca = X.groupby('marca')['preco'].mean()\n",
    "target_modelo = X.groupby('modelo')['preco'].mean()\n",
    "target_versao = X.groupby('versao')['preco'].mean()\n",
    "target_tipo = X.groupby('tipo')['preco'].mean()\n",
    "frequency_cor = X.groupby('cor')['preco'].count() / len(X)\n",
    "frequency_tipo_anuncio = X.groupby('tipo_anuncio')['preco'].count() / len(X)\n",
    "map_cor = {'Preto':'preto', 'Branco':'branco', 'Prata':'prata', 'Cinza':'cinza', 'Dourado':'outros', 'Vermelho':'outros', 'Azul':'outros',\n",
    "       'Verde':'outros'}\n",
    "\n",
    "map_regiao={'SP':'sudeste','RS':'sul','MG':'sudeste','PR':'sul','RJ':'sudeste','MA':'nordeste','SC':'sul','AL':'nordeste','BA':'nordeste','GO':'centro_oeste','RN':'nordeste','PE':'nordeste','MT':'centro_oeste','PA':'norte','CE':'nordeste','AM':'nordeste','ES':'sudeste','RO':'norte','PB':'nordeste','TO':'norte','AC':'norte','SE':'nordeste','MS':'centro_oeste','RR':'norte','PI':'nordeste'}\n",
    "\n",
    "\n",
    "map_cambio = {'Automática': 'auto', 'Manual' :'manual', 'CVT' :'auto', 'Automatizada': 'auto', 'Semi-automática': 'semi',\n",
    "       'Automatizada DCT' : 'auto', 'Automática Sequencial' : 'auto'}\n",
    "\n",
    "\n",
    "#map categorical features\n",
    "X['cor'] = X['cor'].map(map_cor)\n",
    "X['cor'] = X['cor'].map(frequency_cor)\n",
    "X['tipo_anuncio'] = X['tipo_anuncio'].map(frequency_tipo_anuncio)\n",
    "X['estado_vendedor'] = X['estado_vendedor'].map(map_regiao)\n",
    "X['marca'] = X['marca'].map(target_marca)\n",
    "X['modelo'] = X['modelo'].map(target_modelo)\n",
    "X['versao'] = X['versao'].map(target_versao)\n",
    "X['tipo'] = X['tipo'].map(target_tipo)\n",
    "X['cambio'] = X['cambio'].map(map_cambio)\n",
    "\n",
    "\n",
    "X = pd.get_dummies(X, columns=['cor', 'blindado', 'estado_vendedor', 'cambio', 'tipo_vendedor'])\n",
    "\n",
    "\n",
    "# pd.get_dummies(X, columns=['blindado'])\n",
    "# pd.get_dummies(X, columns=['estado_vendedor'])\n",
    "# target_marca.to_pickle('../parameters/marca_encode.pkl')\n",
    "# target_modelo.to_pickle('../parameters/marca_encode.pkl')\n",
    "# target_versao.to_pickle('../parameters/marca_encode.pkl')\n",
    "# target_cor.to_pickle('../parameters/marca_encode.pkl')"
   ]
  },
  {
   "cell_type": "code",
   "execution_count": 21,
   "id": "d87dfe30",
   "metadata": {
    "ExecuteTime": {
     "end_time": "2022-08-20T15:57:49.042282Z",
     "start_time": "2022-08-20T15:57:49.025290Z"
    }
   },
   "outputs": [],
   "source": [
    "y = X['preco'].copy()\n",
    "X = X.drop('preco', axis=1)"
   ]
  },
  {
   "cell_type": "code",
   "execution_count": 25,
   "id": "0648134e",
   "metadata": {
    "ExecuteTime": {
     "end_time": "2022-08-20T15:58:57.835987Z",
     "start_time": "2022-08-20T15:58:57.816040Z"
    }
   },
   "outputs": [],
   "source": [
    "X_train, X_test, y_train, y_test = train_test_split(X, y, train_size=0.8)"
   ]
  },
  {
   "cell_type": "code",
   "execution_count": 44,
   "id": "26de4d45",
   "metadata": {
    "ExecuteTime": {
     "end_time": "2022-08-20T16:04:33.811421Z",
     "start_time": "2022-08-20T16:04:33.760557Z"
    }
   },
   "outputs": [
    {
     "name": "stdout",
     "output_type": "stream",
     "text": [
      "0.019973629064245477\n",
      "0.030239200297415218\n"
     ]
    }
   ],
   "source": [
    "# model definition\n",
    "lr = LinearRegression()\n",
    "\n",
    "# model train\n",
    "lr.fit(X_train, y_train)\n",
    "\n",
    "# predict\n",
    "y_hat = lr.predict(X_test)\n",
    "\n",
    "# performance\n",
    "print(mean_absolute_error(y_test, y_hat))\n",
    "print(np.sqrt(mean_squared_error(y_test, y_hat)))"
   ]
  },
  {
   "cell_type": "code",
   "execution_count": 35,
   "id": "4bcb4677",
   "metadata": {
    "ExecuteTime": {
     "end_time": "2022-08-20T16:01:46.962836Z",
     "start_time": "2022-08-20T16:01:46.952862Z"
    }
   },
   "outputs": [],
   "source": [
    "comparacao = pd.DataFrame()\n",
    "comparacao['real'] = y_test\n",
    "comparacao['predicao'] = y_hat"
   ]
  },
  {
   "cell_type": "code",
   "execution_count": 37,
   "id": "71cda806",
   "metadata": {
    "ExecuteTime": {
     "end_time": "2022-08-20T16:02:15.081548Z",
     "start_time": "2022-08-20T16:02:15.071576Z"
    }
   },
   "outputs": [],
   "source": [
    "comparacao['diff'] = comparacao['real'] -  comparacao['predicao']"
   ]
  },
  {
   "cell_type": "code",
   "execution_count": 39,
   "id": "c3bd8efc",
   "metadata": {
    "ExecuteTime": {
     "end_time": "2022-08-20T16:02:36.947884Z",
     "start_time": "2022-08-20T16:02:36.927937Z"
    }
   },
   "outputs": [
    {
     "data": {
      "text/plain": [
       "7.2146888612085815"
      ]
     },
     "execution_count": 39,
     "metadata": {},
     "output_type": "execute_result"
    }
   ],
   "source": [
    "(comparacao['diff']**2).sum()"
   ]
  },
  {
   "cell_type": "markdown",
   "id": "6a23ab52",
   "metadata": {},
   "source": [
    "## ML Models"
   ]
  },
  {
   "cell_type": "code",
   "execution_count": 45,
   "id": "dab3f592",
   "metadata": {
    "ExecuteTime": {
     "end_time": "2022-08-20T16:04:44.023395Z",
     "start_time": "2022-08-20T16:04:43.959566Z"
    }
   },
   "outputs": [
    {
     "data": {
      "text/html": [
       "<div>\n",
       "<style scoped>\n",
       "    .dataframe tbody tr th:only-of-type {\n",
       "        vertical-align: middle;\n",
       "    }\n",
       "\n",
       "    .dataframe tbody tr th {\n",
       "        vertical-align: top;\n",
       "    }\n",
       "\n",
       "    .dataframe thead th {\n",
       "        text-align: right;\n",
       "    }\n",
       "</style>\n",
       "<table border=\"1\" class=\"dataframe\">\n",
       "  <thead>\n",
       "    <tr style=\"text-align: right;\">\n",
       "      <th></th>\n",
       "      <th>ID</th>\n",
       "      <th>num_fotos</th>\n",
       "      <th>marca</th>\n",
       "      <th>modelo</th>\n",
       "      <th>versao</th>\n",
       "      <th>ano_de_fabricacao</th>\n",
       "      <th>ano_modelo</th>\n",
       "      <th>odometro</th>\n",
       "      <th>cambio</th>\n",
       "      <th>num_portas</th>\n",
       "      <th>...</th>\n",
       "      <th>troca</th>\n",
       "      <th>elegivel_revisao</th>\n",
       "      <th>attr_veiculo_aceita_troca</th>\n",
       "      <th>attr_veiculo_único_dono</th>\n",
       "      <th>attr_veiculo_todas_as_revisões_feitas_pela_concessionária</th>\n",
       "      <th>attr_veiculo_ipva_pago</th>\n",
       "      <th>attr_veiculo_licenciado</th>\n",
       "      <th>attr_veiculo_garantia_de_fábrica</th>\n",
       "      <th>attr_veiculo_todas_as_revisões_feitas_pela_agenda_do_carro</th>\n",
       "      <th>attr_veiculo_alienado</th>\n",
       "    </tr>\n",
       "  </thead>\n",
       "  <tbody>\n",
       "    <tr>\n",
       "      <th>0</th>\n",
       "      <td>24813264385557040124808779273028388499</td>\n",
       "      <td>14.0</td>\n",
       "      <td>CHEVROLET</td>\n",
       "      <td>SPIN</td>\n",
       "      <td>1.8 LTZ 8V FLEX 4P AUTOMÁTICO</td>\n",
       "      <td>2017</td>\n",
       "      <td>2017.0</td>\n",
       "      <td>62969.0</td>\n",
       "      <td>Automática</td>\n",
       "      <td>4</td>\n",
       "      <td>...</td>\n",
       "      <td>False</td>\n",
       "      <td>False</td>\n",
       "      <td>Aceita troca</td>\n",
       "      <td>NaN</td>\n",
       "      <td>NaN</td>\n",
       "      <td>NaN</td>\n",
       "      <td>NaN</td>\n",
       "      <td>NaN</td>\n",
       "      <td>NaN</td>\n",
       "      <td>NaN</td>\n",
       "    </tr>\n",
       "    <tr>\n",
       "      <th>1</th>\n",
       "      <td>295636316453795508942188530111300065666</td>\n",
       "      <td>8.0</td>\n",
       "      <td>FIAT</td>\n",
       "      <td>TORO</td>\n",
       "      <td>1.8 16V EVO FLEX FREEDOM AT6</td>\n",
       "      <td>2021</td>\n",
       "      <td>2021.0</td>\n",
       "      <td>26324.0</td>\n",
       "      <td>Automática</td>\n",
       "      <td>4</td>\n",
       "      <td>...</td>\n",
       "      <td>False</td>\n",
       "      <td>False</td>\n",
       "      <td>Aceita troca</td>\n",
       "      <td>NaN</td>\n",
       "      <td>NaN</td>\n",
       "      <td>IPVA pago</td>\n",
       "      <td>Licenciado</td>\n",
       "      <td>NaN</td>\n",
       "      <td>NaN</td>\n",
       "      <td>NaN</td>\n",
       "    </tr>\n",
       "    <tr>\n",
       "      <th>2</th>\n",
       "      <td>101258309166227950735244624080888109884</td>\n",
       "      <td>8.0</td>\n",
       "      <td>VOLKSWAGEN</td>\n",
       "      <td>POLO</td>\n",
       "      <td>1.0 200 TSI HIGHLINE AUTOMÁTICO</td>\n",
       "      <td>2019</td>\n",
       "      <td>2020.0</td>\n",
       "      <td>37002.0</td>\n",
       "      <td>Automática</td>\n",
       "      <td>4</td>\n",
       "      <td>...</td>\n",
       "      <td>False</td>\n",
       "      <td>False</td>\n",
       "      <td>NaN</td>\n",
       "      <td>Único dono</td>\n",
       "      <td>Todas as revisões feitas pela concessionária</td>\n",
       "      <td>IPVA pago</td>\n",
       "      <td>Licenciado</td>\n",
       "      <td>Garantia de fábrica</td>\n",
       "      <td>Todas as revisões feitas pela agenda do carro</td>\n",
       "      <td>NaN</td>\n",
       "    </tr>\n",
       "    <tr>\n",
       "      <th>3</th>\n",
       "      <td>28348734455782469411126661985772047409</td>\n",
       "      <td>15.0</td>\n",
       "      <td>CHEVROLET</td>\n",
       "      <td>TRACKER</td>\n",
       "      <td>1.8 MPFI LTZ 4X2 16V FLEX 4P AUTOMÁTICO</td>\n",
       "      <td>2012</td>\n",
       "      <td>2015.0</td>\n",
       "      <td>86762.0</td>\n",
       "      <td>Automática</td>\n",
       "      <td>4</td>\n",
       "      <td>...</td>\n",
       "      <td>False</td>\n",
       "      <td>False</td>\n",
       "      <td>Aceita troca</td>\n",
       "      <td>NaN</td>\n",
       "      <td>NaN</td>\n",
       "      <td>NaN</td>\n",
       "      <td>NaN</td>\n",
       "      <td>NaN</td>\n",
       "      <td>NaN</td>\n",
       "      <td>NaN</td>\n",
       "    </tr>\n",
       "    <tr>\n",
       "      <th>4</th>\n",
       "      <td>193163160502972147671913739170248305797</td>\n",
       "      <td>8.0</td>\n",
       "      <td>BMW</td>\n",
       "      <td>120i</td>\n",
       "      <td>2.0 16V SPORT ACTIVEFLEX 4P AUTOMÁTICO</td>\n",
       "      <td>2015</td>\n",
       "      <td>2017.0</td>\n",
       "      <td>93040.0</td>\n",
       "      <td>Automática</td>\n",
       "      <td>4</td>\n",
       "      <td>...</td>\n",
       "      <td>False</td>\n",
       "      <td>False</td>\n",
       "      <td>NaN</td>\n",
       "      <td>NaN</td>\n",
       "      <td>NaN</td>\n",
       "      <td>IPVA pago</td>\n",
       "      <td>Licenciado</td>\n",
       "      <td>NaN</td>\n",
       "      <td>NaN</td>\n",
       "      <td>NaN</td>\n",
       "    </tr>\n",
       "    <tr>\n",
       "      <th>...</th>\n",
       "      <td>...</td>\n",
       "      <td>...</td>\n",
       "      <td>...</td>\n",
       "      <td>...</td>\n",
       "      <td>...</td>\n",
       "      <td>...</td>\n",
       "      <td>...</td>\n",
       "      <td>...</td>\n",
       "      <td>...</td>\n",
       "      <td>...</td>\n",
       "      <td>...</td>\n",
       "      <td>...</td>\n",
       "      <td>...</td>\n",
       "      <td>...</td>\n",
       "      <td>...</td>\n",
       "      <td>...</td>\n",
       "      <td>...</td>\n",
       "      <td>...</td>\n",
       "      <td>...</td>\n",
       "      <td>...</td>\n",
       "      <td>...</td>\n",
       "    </tr>\n",
       "    <tr>\n",
       "      <th>39441</th>\n",
       "      <td>238233399351588823822117090805568390727</td>\n",
       "      <td>8.0</td>\n",
       "      <td>VOLKSWAGEN</td>\n",
       "      <td>FOX</td>\n",
       "      <td>1.0 MI 8V FLEX 4P MANUAL</td>\n",
       "      <td>2014</td>\n",
       "      <td>2014.0</td>\n",
       "      <td>99351.0</td>\n",
       "      <td>Manual</td>\n",
       "      <td>4</td>\n",
       "      <td>...</td>\n",
       "      <td>False</td>\n",
       "      <td>False</td>\n",
       "      <td>Aceita troca</td>\n",
       "      <td>NaN</td>\n",
       "      <td>NaN</td>\n",
       "      <td>NaN</td>\n",
       "      <td>NaN</td>\n",
       "      <td>NaN</td>\n",
       "      <td>NaN</td>\n",
       "      <td>NaN</td>\n",
       "    </tr>\n",
       "    <tr>\n",
       "      <th>39442</th>\n",
       "      <td>64621912306231118962468441892654163025</td>\n",
       "      <td>8.0</td>\n",
       "      <td>VOLKSWAGEN</td>\n",
       "      <td>AMAROK</td>\n",
       "      <td>2.0 HIGHLINE 4X4 CD 16V TURBO INTERCOOLER DIES...</td>\n",
       "      <td>2016</td>\n",
       "      <td>2017.0</td>\n",
       "      <td>87834.0</td>\n",
       "      <td>Automática</td>\n",
       "      <td>4</td>\n",
       "      <td>...</td>\n",
       "      <td>False</td>\n",
       "      <td>False</td>\n",
       "      <td>Aceita troca</td>\n",
       "      <td>NaN</td>\n",
       "      <td>NaN</td>\n",
       "      <td>NaN</td>\n",
       "      <td>NaN</td>\n",
       "      <td>NaN</td>\n",
       "      <td>NaN</td>\n",
       "      <td>NaN</td>\n",
       "    </tr>\n",
       "    <tr>\n",
       "      <th>39443</th>\n",
       "      <td>100311033226508317456901122129284293382</td>\n",
       "      <td>8.0</td>\n",
       "      <td>TOYOTA</td>\n",
       "      <td>COROLLA</td>\n",
       "      <td>2.0 VVT-IE FLEX XEI DIRECT SHIFT</td>\n",
       "      <td>2021</td>\n",
       "      <td>2021.0</td>\n",
       "      <td>14943.0</td>\n",
       "      <td>CVT</td>\n",
       "      <td>4</td>\n",
       "      <td>...</td>\n",
       "      <td>False</td>\n",
       "      <td>False</td>\n",
       "      <td>Aceita troca</td>\n",
       "      <td>Único dono</td>\n",
       "      <td>NaN</td>\n",
       "      <td>IPVA pago</td>\n",
       "      <td>NaN</td>\n",
       "      <td>Garantia de fábrica</td>\n",
       "      <td>NaN</td>\n",
       "      <td>NaN</td>\n",
       "    </tr>\n",
       "    <tr>\n",
       "      <th>39444</th>\n",
       "      <td>217317181330151694133399005110777689124</td>\n",
       "      <td>8.0</td>\n",
       "      <td>JAGUAR</td>\n",
       "      <td>XF</td>\n",
       "      <td>3.0 PORTFOLIO V6 SUPERCHARGED GASOLINA 4P AUTO...</td>\n",
       "      <td>2013</td>\n",
       "      <td>2014.0</td>\n",
       "      <td>43726.0</td>\n",
       "      <td>Automática</td>\n",
       "      <td>4</td>\n",
       "      <td>...</td>\n",
       "      <td>False</td>\n",
       "      <td>False</td>\n",
       "      <td>NaN</td>\n",
       "      <td>NaN</td>\n",
       "      <td>Todas as revisões feitas pela concessionária</td>\n",
       "      <td>IPVA pago</td>\n",
       "      <td>Licenciado</td>\n",
       "      <td>NaN</td>\n",
       "      <td>Todas as revisões feitas pela agenda do carro</td>\n",
       "      <td>NaN</td>\n",
       "    </tr>\n",
       "    <tr>\n",
       "      <th>39445</th>\n",
       "      <td>192352368001929303528978319612251717581</td>\n",
       "      <td>16.0</td>\n",
       "      <td>CHEVROLET</td>\n",
       "      <td>ONIX</td>\n",
       "      <td>1.0 MPFI LT 8V FLEX 4P MANUAL</td>\n",
       "      <td>2018</td>\n",
       "      <td>2019.0</td>\n",
       "      <td>59203.0</td>\n",
       "      <td>Manual</td>\n",
       "      <td>4</td>\n",
       "      <td>...</td>\n",
       "      <td>False</td>\n",
       "      <td>False</td>\n",
       "      <td>Aceita troca</td>\n",
       "      <td>NaN</td>\n",
       "      <td>NaN</td>\n",
       "      <td>IPVA pago</td>\n",
       "      <td>Licenciado</td>\n",
       "      <td>NaN</td>\n",
       "      <td>NaN</td>\n",
       "      <td>NaN</td>\n",
       "    </tr>\n",
       "  </tbody>\n",
       "</table>\n",
       "<p>39446 rows × 28 columns</p>\n",
       "</div>"
      ],
      "text/plain": [
       "                                            ID  num_fotos       marca  \\\n",
       "0       24813264385557040124808779273028388499       14.0   CHEVROLET   \n",
       "1      295636316453795508942188530111300065666        8.0        FIAT   \n",
       "2      101258309166227950735244624080888109884        8.0  VOLKSWAGEN   \n",
       "3       28348734455782469411126661985772047409       15.0   CHEVROLET   \n",
       "4      193163160502972147671913739170248305797        8.0         BMW   \n",
       "...                                        ...        ...         ...   \n",
       "39441  238233399351588823822117090805568390727        8.0  VOLKSWAGEN   \n",
       "39442   64621912306231118962468441892654163025        8.0  VOLKSWAGEN   \n",
       "39443  100311033226508317456901122129284293382        8.0      TOYOTA   \n",
       "39444  217317181330151694133399005110777689124        8.0      JAGUAR   \n",
       "39445  192352368001929303528978319612251717581       16.0   CHEVROLET   \n",
       "\n",
       "        modelo                                             versao  \\\n",
       "0         SPIN                      1.8 LTZ 8V FLEX 4P AUTOMÁTICO   \n",
       "1         TORO                       1.8 16V EVO FLEX FREEDOM AT6   \n",
       "2         POLO                    1.0 200 TSI HIGHLINE AUTOMÁTICO   \n",
       "3      TRACKER            1.8 MPFI LTZ 4X2 16V FLEX 4P AUTOMÁTICO   \n",
       "4         120i             2.0 16V SPORT ACTIVEFLEX 4P AUTOMÁTICO   \n",
       "...        ...                                                ...   \n",
       "39441      FOX                           1.0 MI 8V FLEX 4P MANUAL   \n",
       "39442   AMAROK  2.0 HIGHLINE 4X4 CD 16V TURBO INTERCOOLER DIES...   \n",
       "39443  COROLLA                   2.0 VVT-IE FLEX XEI DIRECT SHIFT   \n",
       "39444       XF  3.0 PORTFOLIO V6 SUPERCHARGED GASOLINA 4P AUTO...   \n",
       "39445     ONIX                      1.0 MPFI LT 8V FLEX 4P MANUAL   \n",
       "\n",
       "       ano_de_fabricacao  ano_modelo  odometro      cambio  num_portas  ...  \\\n",
       "0                   2017      2017.0   62969.0  Automática           4  ...   \n",
       "1                   2021      2021.0   26324.0  Automática           4  ...   \n",
       "2                   2019      2020.0   37002.0  Automática           4  ...   \n",
       "3                   2012      2015.0   86762.0  Automática           4  ...   \n",
       "4                   2015      2017.0   93040.0  Automática           4  ...   \n",
       "...                  ...         ...       ...         ...         ...  ...   \n",
       "39441               2014      2014.0   99351.0      Manual           4  ...   \n",
       "39442               2016      2017.0   87834.0  Automática           4  ...   \n",
       "39443               2021      2021.0   14943.0         CVT           4  ...   \n",
       "39444               2013      2014.0   43726.0  Automática           4  ...   \n",
       "39445               2018      2019.0   59203.0      Manual           4  ...   \n",
       "\n",
       "       troca elegivel_revisao attr_veiculo_aceita_troca  \\\n",
       "0      False            False              Aceita troca   \n",
       "1      False            False              Aceita troca   \n",
       "2      False            False                       NaN   \n",
       "3      False            False              Aceita troca   \n",
       "4      False            False                       NaN   \n",
       "...      ...              ...                       ...   \n",
       "39441  False            False              Aceita troca   \n",
       "39442  False            False              Aceita troca   \n",
       "39443  False            False              Aceita troca   \n",
       "39444  False            False                       NaN   \n",
       "39445  False            False              Aceita troca   \n",
       "\n",
       "      attr_veiculo_único_dono  \\\n",
       "0                         NaN   \n",
       "1                         NaN   \n",
       "2                  Único dono   \n",
       "3                         NaN   \n",
       "4                         NaN   \n",
       "...                       ...   \n",
       "39441                     NaN   \n",
       "39442                     NaN   \n",
       "39443              Único dono   \n",
       "39444                     NaN   \n",
       "39445                     NaN   \n",
       "\n",
       "      attr_veiculo_todas_as_revisões_feitas_pela_concessionária  \\\n",
       "0                                                    NaN          \n",
       "1                                                    NaN          \n",
       "2           Todas as revisões feitas pela concessionária          \n",
       "3                                                    NaN          \n",
       "4                                                    NaN          \n",
       "...                                                  ...          \n",
       "39441                                                NaN          \n",
       "39442                                                NaN          \n",
       "39443                                                NaN          \n",
       "39444       Todas as revisões feitas pela concessionária          \n",
       "39445                                                NaN          \n",
       "\n",
       "      attr_veiculo_ipva_pago attr_veiculo_licenciado  \\\n",
       "0                        NaN                     NaN   \n",
       "1                  IPVA pago              Licenciado   \n",
       "2                  IPVA pago              Licenciado   \n",
       "3                        NaN                     NaN   \n",
       "4                  IPVA pago              Licenciado   \n",
       "...                      ...                     ...   \n",
       "39441                    NaN                     NaN   \n",
       "39442                    NaN                     NaN   \n",
       "39443              IPVA pago                     NaN   \n",
       "39444              IPVA pago              Licenciado   \n",
       "39445              IPVA pago              Licenciado   \n",
       "\n",
       "       attr_veiculo_garantia_de_fábrica  \\\n",
       "0                                   NaN   \n",
       "1                                   NaN   \n",
       "2                   Garantia de fábrica   \n",
       "3                                   NaN   \n",
       "4                                   NaN   \n",
       "...                                 ...   \n",
       "39441                               NaN   \n",
       "39442                               NaN   \n",
       "39443               Garantia de fábrica   \n",
       "39444                               NaN   \n",
       "39445                               NaN   \n",
       "\n",
       "       attr_veiculo_todas_as_revisões_feitas_pela_agenda_do_carro  \\\n",
       "0                                                    NaN            \n",
       "1                                                    NaN            \n",
       "2          Todas as revisões feitas pela agenda do carro            \n",
       "3                                                    NaN            \n",
       "4                                                    NaN            \n",
       "...                                                  ...            \n",
       "39441                                                NaN            \n",
       "39442                                                NaN            \n",
       "39443                                                NaN            \n",
       "39444      Todas as revisões feitas pela agenda do carro            \n",
       "39445                                                NaN            \n",
       "\n",
       "       attr_veiculo_alienado  \n",
       "0                        NaN  \n",
       "1                        NaN  \n",
       "2                        NaN  \n",
       "3                        NaN  \n",
       "4                        NaN  \n",
       "...                      ...  \n",
       "39441                    NaN  \n",
       "39442                    NaN  \n",
       "39443                    NaN  \n",
       "39444                    NaN  \n",
       "39445                    NaN  \n",
       "\n",
       "[39446 rows x 28 columns]"
      ]
     },
     "execution_count": 45,
     "metadata": {},
     "output_type": "execute_result"
    }
   ],
   "source": [
    "df_test"
   ]
  },
  {
   "cell_type": "markdown",
   "id": "e34829f6",
   "metadata": {},
   "source": [
    "## Cross Validation"
   ]
  },
  {
   "cell_type": "code",
   "execution_count": null,
   "id": "83d558c7",
   "metadata": {},
   "outputs": [],
   "source": []
  }
 ],
 "metadata": {
  "kernelspec": {
   "display_name": "Python 3",
   "language": "python",
   "name": "python3"
  },
  "language_info": {
   "codemirror_mode": {
    "name": "ipython",
    "version": 3
   },
   "file_extension": ".py",
   "mimetype": "text/x-python",
   "name": "python",
   "nbconvert_exporter": "python",
   "pygments_lexer": "ipython3",
   "version": "3.8.8"
  },
  "varInspector": {
   "cols": {
    "lenName": 16,
    "lenType": 16,
    "lenVar": 40
   },
   "kernels_config": {
    "python": {
     "delete_cmd_postfix": "",
     "delete_cmd_prefix": "del ",
     "library": "var_list.py",
     "varRefreshCmd": "print(var_dic_list())"
    },
    "r": {
     "delete_cmd_postfix": ") ",
     "delete_cmd_prefix": "rm(",
     "library": "var_list.r",
     "varRefreshCmd": "cat(var_dic_list()) "
    }
   },
   "types_to_exclude": [
    "module",
    "function",
    "builtin_function_or_method",
    "instance",
    "_Feature"
   ],
   "window_display": false
  }
 },
 "nbformat": 4,
 "nbformat_minor": 5
}
