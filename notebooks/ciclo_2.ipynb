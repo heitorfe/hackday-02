{
 "cells": [
  {
   "cell_type": "markdown",
   "id": "08512544",
   "metadata": {},
   "source": [
    "## Imports"
   ]
  },
  {
   "cell_type": "code",
   "execution_count": 168,
   "id": "f6d67094",
   "metadata": {
    "ExecuteTime": {
     "end_time": "2022-08-20T17:34:44.303779Z",
     "start_time": "2022-08-20T17:34:43.762122Z"
    }
   },
   "outputs": [],
   "source": [
    "import pandas as pd\n",
    "import numpy as np\n",
    "from sklearn import preprocessing as pp\n",
    "from matplotlib import pyplot as plt\n",
    "from sklearn.metrics import mean_absolute_error, mean_squared_error\n",
    "from sklearn.ensemble import RandomForestRegressor\n",
    "from sklearn.linear_model import LinearRegression, Lasso\n",
    "from sklearn.model_selection import train_test_split\n",
    "import seaborn as sns\n",
    "\n",
    "df_raw = pd.read_csv('../data/treino.csv')\n",
    "df_test = pd.read_csv('../data/teste.csv')"
   ]
  },
  {
   "cell_type": "code",
   "execution_count": 108,
   "id": "9025036d",
   "metadata": {
    "ExecuteTime": {
     "end_time": "2022-08-20T17:26:11.494969Z",
     "start_time": "2022-08-20T17:26:11.466532Z"
    }
   },
   "outputs": [],
   "source": [
    "def data_transformation(df):\n",
    "    df = df_test.copy()\n",
    "    df.columns = ['id', 'num_fotos', 'marca', 'modelo', 'versao', 'ano_de_fabricacao',\n",
    "           'ano_modelo', 'odometro', 'cambio', 'num_portas', 'tipo', 'blindado',\n",
    "           'cor', 'tipo_vendedor', 'cidade_vendedor', 'estado_vendedor',\n",
    "           'tipo_anuncio', 'entrega_delivery', 'troca', 'elegivel_revisao',\n",
    "           'aceita_troca', 'dono_unico',\n",
    "           'todas_revisoes_concessionaria',\n",
    "           'ipva_pago', 'licenciado',\n",
    "           'garantia_de_fabrica',\n",
    "           'todas_revisoes_agenda',\n",
    "           'alienado']\n",
    "\n",
    "    df['num_fotos'] = df['num_fotos'].fillna(0)\n",
    "\n",
    "    df = df.drop('alienado', axis=1)\n",
    "\n",
    "    na_cols = df.columns[-8:]\n",
    "\n",
    "    for col in na_cols:\n",
    "        df[col] = np.where(df[col].isna(), 0, 1)\n",
    "\n",
    "    df[df.T.tail(8).index] = df[df.T.tail(8).index].astype('int64')\n",
    "\n",
    "    df['ano_modelo'] = df['ano_modelo'].astype('int64')\n",
    "    df['num_fotos'] = df['num_fotos'].astype('int64')\n",
    "\n",
    "    X = df.copy().drop('id', axis=1)\n",
    "\n",
    "    #drop cidades\n",
    "    X = X.drop('cidade_vendedor', axis=1)\n",
    "\n",
    "    #get uf\n",
    "    X['estado_vendedor'] = X['estado_vendedor'].apply(lambda x: x[-3:-1])\n",
    "\n",
    "    #numeric transformation\n",
    "    num_columns = X.select_dtypes(exclude = 'object').columns\n",
    "    cat_columns = X.select_dtypes('object').columns\n",
    "    mms = pp.MinMaxScaler()\n",
    "\n",
    "    for col in num_columns:\n",
    "        X[col] = mms.fit_transform(X[[col]] )\n",
    "\n",
    "\n",
    "    target_marca = pd.read_pickle('../parameters/marca_encode.pkl')\n",
    "    target_modelo = pd.read_pickle('../parameters/modelo_encode.pkl')\n",
    "    target_versao = pd.read_pickle('../parameters/versao_encode.pkl')\n",
    "    target_tipo =  pd.read_pickle('../parameters/tipo_encode.pkl')\n",
    "    frequency_cor = pd.read_pickle('../parameters/cor_encode.pkl')\n",
    "    frequency_tipo_anuncio = pd.read_pickle('../parameters/tipo_anuncio_encode.pkl')\n",
    "    map_cor = {'Preto':'preto', 'Branco':'branco', 'Prata':'prata', 'Cinza':'cinza', 'Dourado':'outros', 'Vermelho':'outros', 'Azul':'outros',\n",
    "           'Verde':'outros'}\n",
    "\n",
    "    map_regiao={'SP':'sudeste','RS':'sul','MG':'sudeste','PR':'sul','RJ':'sudeste','MA':'nordeste','SC':'sul','AL':'nordeste','BA':'nordeste','GO':'centro_oeste','RN':'nordeste','PE':'nordeste','MT':'centro_oeste','PA':'norte','CE':'nordeste','AM':'nordeste','ES':'sudeste','RO':'norte','PB':'nordeste','TO':'norte','AC':'norte','SE':'nordeste','MS':'centro_oeste','RR':'norte','PI':'nordeste'}\n",
    "\n",
    "\n",
    "    map_cambio = {'Automática': 'auto', 'Manual' :'manual', 'CVT' :'auto', 'Automatizada': 'auto', 'Semi-automática': 'semi',\n",
    "           'Automatizada DCT' : 'auto', 'Automática Sequencial' : 'auto'}\n",
    "\n",
    "\n",
    "    #map categorical features\n",
    "    X['cor'] = X['cor'].map(map_cor)\n",
    "    X['cor'] = X['cor'].map(frequency_cor)\n",
    "    X['tipo_anuncio'] = X['tipo_anuncio'].map(frequency_tipo_anuncio)\n",
    "    X['estado_vendedor'] = X['estado_vendedor'].map(map_regiao)\n",
    "    X['marca'] = X['marca'].map(target_marca)\n",
    "    X['modelo'] = X['modelo'].map(target_modelo)\n",
    "    X['versao'] = X['versao'].map(target_versao)\n",
    "    X['tipo'] = X['tipo'].map(target_tipo)\n",
    "    X['cambio'] = X['cambio'].map(map_cambio)\n",
    "\n",
    "\n",
    "    X = pd.get_dummies(X, columns=['cor', 'blindado', 'estado_vendedor', 'cambio', 'tipo_vendedor'])\n",
    "\n",
    "    return X\n",
    "    \n",
    "    "
   ]
  },
  {
   "cell_type": "markdown",
   "id": "d11f6b34",
   "metadata": {
    "ExecuteTime": {
     "end_time": "2022-08-20T13:01:02.786960Z",
     "start_time": "2022-08-20T13:01:02.747022Z"
    }
   },
   "source": [
    "## Data Descriptions"
   ]
  },
  {
   "cell_type": "code",
   "execution_count": 109,
   "id": "16f18100",
   "metadata": {
    "ExecuteTime": {
     "end_time": "2022-08-20T17:26:11.790421Z",
     "start_time": "2022-08-20T17:26:11.776460Z"
    }
   },
   "outputs": [],
   "source": [
    "df1 = df_raw.copy()"
   ]
  },
  {
   "cell_type": "code",
   "execution_count": 111,
   "id": "be898df1",
   "metadata": {
    "ExecuteTime": {
     "end_time": "2022-08-20T17:26:12.408492Z",
     "start_time": "2022-08-20T17:26:12.394277Z"
    }
   },
   "outputs": [],
   "source": [
    "# rename columns\n",
    "df1.columns = ['id', 'num_fotos', 'marca', 'modelo', 'versao', 'ano_de_fabricacao',\n",
    "       'ano_modelo', 'odometro', 'cambio', 'num_portas', 'tipo', 'blindado',\n",
    "       'cor', 'tipo_vendedor', 'cidade_vendedor', 'estado_vendedor',\n",
    "       'tipo_anuncio', 'entrega_delivery', 'troca', 'elegivel_revisao',\n",
    "       'aceita_troca', 'dono_unico',\n",
    "       'todas_revisoes_concessionaria',\n",
    "       'ipva_pago', 'licenciado',\n",
    "       'garantia_de_fabrica',\n",
    "       'todas_revisoes_agenda',\n",
    "       'alienado', 'preco']"
   ]
  },
  {
   "cell_type": "markdown",
   "id": "5036f261",
   "metadata": {},
   "source": [
    "### Data dimension / types / nas"
   ]
  },
  {
   "cell_type": "code",
   "execution_count": 112,
   "id": "434a3a40",
   "metadata": {
    "ExecuteTime": {
     "end_time": "2022-08-20T17:26:12.717896Z",
     "start_time": "2022-08-20T17:26:12.702716Z"
    }
   },
   "outputs": [
    {
     "data": {
      "text/plain": [
       "(39446, 29)"
      ]
     },
     "execution_count": 112,
     "metadata": {},
     "output_type": "execute_result"
    }
   ],
   "source": [
    "df_raw.shape"
   ]
  },
  {
   "cell_type": "markdown",
   "id": "6f4f5ce1",
   "metadata": {},
   "source": [
    "### Stats"
   ]
  },
  {
   "cell_type": "markdown",
   "id": "e6a05120",
   "metadata": {},
   "source": [
    "### Change types / fillna"
   ]
  },
  {
   "cell_type": "code",
   "execution_count": 117,
   "id": "b028235d",
   "metadata": {
    "ExecuteTime": {
     "end_time": "2022-08-20T17:26:14.732968Z",
     "start_time": "2022-08-20T17:26:14.424256Z"
    }
   },
   "outputs": [],
   "source": [
    "# NAS\n",
    "# num_fotos                        0.006008\n",
    "# aceita_troca                     0.258987\n",
    "# dono_unico                       0.647670\n",
    "# todas_revisoes_concessionaria    0.689728\n",
    "# ipva_pago                        0.335218\n",
    "# licenciado                       0.461289\n",
    "# garantia_de_fabrica              0.853268\n",
    "# todas_revisoes_agenda            0.799650\n",
    "# alienado                         1.000000\n",
    "\n",
    "\n",
    "df1['num_fotos'] = df1['num_fotos'].fillna(0)\n",
    "\n",
    "df1 = df1.drop('alienado', axis=1)\n",
    "\n",
    "na_cols = df1.columns[-8:-1]\n",
    "\n",
    "\n",
    "for col in na_cols:\n",
    "    df1[col] = np.where(df1[col].isna(), 0, 1)\n",
    "\n",
    "df1[df1.T.tail(8).index] = df1[df1.T.tail(8).index].astype('int64')\n",
    "\n",
    "df1['ano_modelo'] = df1['ano_modelo'].astype('int64')\n",
    "df1['num_fotos'] = df1['num_fotos'].astype('int64')\n",
    "\n"
   ]
  },
  {
   "cell_type": "markdown",
   "id": "a07e3d22",
   "metadata": {},
   "source": [
    "## Data Filtering"
   ]
  },
  {
   "cell_type": "code",
   "execution_count": 118,
   "id": "e18f0bf8",
   "metadata": {
    "ExecuteTime": {
     "end_time": "2022-08-20T17:26:15.028150Z",
     "start_time": "2022-08-20T17:26:15.015185Z"
    }
   },
   "outputs": [],
   "source": [
    "sv.ana"
   ]
  },
  {
   "cell_type": "markdown",
   "id": "151f0b47",
   "metadata": {},
   "source": [
    "## Feature Engineering"
   ]
  },
  {
   "cell_type": "markdown",
   "id": "694f87eb",
   "metadata": {
    "ExecuteTime": {
     "end_time": "2022-08-20T13:57:18.299292Z",
     "start_time": "2022-08-20T13:57:18.279465Z"
    }
   },
   "source": [
    "## EDA"
   ]
  },
  {
   "cell_type": "markdown",
   "id": "07a31ba1",
   "metadata": {},
   "source": [
    "## Data Preparation"
   ]
  },
  {
   "cell_type": "code",
   "execution_count": 119,
   "id": "8e6b8468",
   "metadata": {
    "ExecuteTime": {
     "end_time": "2022-08-20T17:26:15.538233Z",
     "start_time": "2022-08-20T17:26:15.292566Z"
    }
   },
   "outputs": [],
   "source": [
    "X = df1.copy().drop('id', axis=1)\n",
    "\n",
    "#one hot\n",
    "#frequency\n",
    "#target\n",
    "#label \n",
    "\n",
    "\n",
    "\n",
    "\n",
    "#drop cidades\n",
    "X = X.drop('cidade_vendedor', axis=1)\n",
    "\n",
    "#get uf\n",
    "X['estado_vendedor'] = X['estado_vendedor'].apply(lambda x: x[-3:-1])\n",
    "\n",
    "#numeric transformation\n",
    "num_columns = X.select_dtypes(exclude = 'object').columns\n",
    "cat_columns = X.select_dtypes('object').columns\n",
    "mms = pp.MinMaxScaler()\n",
    "\n",
    "for col in num_columns:\n",
    "    X[col] = mms.fit_transform(X[[col]] )\n",
    "    \n",
    "\n",
    "target_marca = X.groupby('marca')['preco'].mean()\n",
    "target_modelo = X.groupby('modelo')['preco'].mean()\n",
    "target_versao = X.groupby('versao')['preco'].mean()\n",
    "target_tipo = X.groupby('tipo')['preco'].mean()\n",
    "frequency_cor = X.groupby('cor')['preco'].count() / len(X)\n",
    "frequency_tipo_anuncio = X.groupby('tipo_anuncio')['preco'].count() / len(X)\n",
    "\n",
    "map_cor = {'Preto':'preto', 'Branco':'branco', 'Prata':'prata', 'Cinza':'cinza', 'Dourado':'outros', 'Vermelho':'outros', 'Azul':'outros',\n",
    "       'Verde':'outros'}\n",
    "\n",
    "map_regiao={'SP':'sudeste','RS':'sul','MG':'sudeste','PR':'sul','RJ':'sudeste','MA':'nordeste','SC':'sul','AL':'nordeste','BA':'nordeste','GO':'centro_oeste','RN':'nordeste','PE':'nordeste','MT':'centro_oeste','PA':'norte','CE':'nordeste','AM':'nordeste','ES':'sudeste','RO':'norte','PB':'nordeste','TO':'norte','AC':'norte','SE':'nordeste','MS':'centro_oeste','RR':'norte','PI':'nordeste'}\n",
    "\n",
    "\n",
    "map_cambio = {'Automática': 'auto', 'Manual' :'manual', 'CVT' :'auto', 'Automatizada': 'auto', 'Semi-automática': 'semi',\n",
    "       'Automatizada DCT' : 'auto', 'Automática Sequencial' : 'auto'}\n",
    "\n",
    "\n",
    "#map categorical features\n",
    "X['cor'] = X['cor'].map(map_cor)\n",
    "X['cor'] = X['cor'].map(frequency_cor)\n",
    "X['tipo_anuncio'] = X['tipo_anuncio'].map(frequency_tipo_anuncio)\n",
    "X['estado_vendedor'] = X['estado_vendedor'].map(map_regiao)\n",
    "X['marca'] = X['marca'].map(target_marca)\n",
    "X['modelo'] = X['modelo'].map(target_modelo)\n",
    "X['versao'] = X['versao'].map(target_versao)\n",
    "X['tipo'] = X['tipo'].map(target_tipo)\n",
    "X['cambio'] = X['cambio'].map(map_cambio)\n",
    "\n",
    "\n",
    "X = pd.get_dummies(X, columns=['cor', 'blindado', 'estado_vendedor', 'cambio', 'tipo_vendedor'])\n",
    "\n",
    "\n",
    "target_marca.to_pickle('../parameters/marca_encode.pkl')\n",
    "target_modelo.to_pickle('../parameters/modelo_encode.pkl')\n",
    "target_versao.to_pickle('../parameters/versao_encode.pkl')\n",
    "frequency_cor.to_pickle('../parameters/cor_encode.pkl')\n",
    "target_tipo.to_pickle('../parameters/tipo_encode.pkl')\n",
    "frequency_tipo_anuncio.to_pickle('../parameters/tipo_anuncio_encode.pkl')\n",
    "\n",
    "\n",
    "frequency_tipo_anuncio = X.groupby('tipo_anuncio')['preco'].count() / len(X)"
   ]
  },
  {
   "cell_type": "code",
   "execution_count": 120,
   "id": "d87dfe30",
   "metadata": {
    "ExecuteTime": {
     "end_time": "2022-08-20T17:26:15.846864Z",
     "start_time": "2022-08-20T17:26:15.834912Z"
    }
   },
   "outputs": [],
   "source": [
    "y = X['preco'].copy()\n",
    "X = X.drop('preco', axis=1)"
   ]
  },
  {
   "cell_type": "code",
   "execution_count": 162,
   "id": "569f732d",
   "metadata": {
    "ExecuteTime": {
     "end_time": "2022-08-20T17:33:04.764161Z",
     "start_time": "2022-08-20T17:33:04.747238Z"
    }
   },
   "outputs": [
    {
     "data": {
      "text/plain": [
       "0        123231.992782\n",
       "1        272076.023576\n",
       "2         53411.539492\n",
       "7        185623.340419\n",
       "11        85615.508752\n",
       "             ...      \n",
       "39421    214775.150719\n",
       "39428    120570.378273\n",
       "39432    145656.738164\n",
       "39439    367541.346552\n",
       "39441    146046.941064\n",
       "Name: preco, Length: 7890, dtype: float64"
      ]
     },
     "execution_count": 162,
     "metadata": {},
     "output_type": "execute_result"
    }
   ],
   "source": [
    "df_raw[df_raw['preco'].index.isin(y_test.index)]['preco']"
   ]
  },
  {
   "cell_type": "code",
   "execution_count": 121,
   "id": "0648134e",
   "metadata": {
    "ExecuteTime": {
     "end_time": "2022-08-20T17:26:16.187826Z",
     "start_time": "2022-08-20T17:26:16.158550Z"
    }
   },
   "outputs": [],
   "source": [
    "X_train, X_test, y_train, y_test = train_test_split(X, y, train_size=0.8)"
   ]
  },
  {
   "cell_type": "code",
   "execution_count": 122,
   "id": "26de4d45",
   "metadata": {
    "ExecuteTime": {
     "end_time": "2022-08-20T17:26:16.543766Z",
     "start_time": "2022-08-20T17:26:16.499885Z"
    }
   },
   "outputs": [
    {
     "name": "stdout",
     "output_type": "stream",
     "text": [
      "0.020293285249149806\n",
      "0.03203856899635487\n"
     ]
    }
   ],
   "source": [
    "# model definition\n",
    "lr = LinearRegression()\n",
    "\n",
    "# model train\n",
    "lr.fit(X_train, y_train)\n",
    "\n",
    "# predict\n",
    "y_hat = lr.predict(X_test)\n",
    "\n",
    "# performance\n",
    "print(mean_absolute_error(y_test, y_hat))\n",
    "print(np.sqrt(mean_squared_error(y_test, y_hat)))"
   ]
  },
  {
   "cell_type": "code",
   "execution_count": 177,
   "id": "4bcb4677",
   "metadata": {
    "ExecuteTime": {
     "end_time": "2022-08-20T17:37:52.310082Z",
     "start_time": "2022-08-20T17:37:52.282156Z"
    }
   },
   "outputs": [
    {
     "data": {
      "text/plain": [
       "80066.9161900173"
      ]
     },
     "execution_count": 177,
     "metadata": {},
     "output_type": "execute_result"
    }
   ],
   "source": [
    "comparacao = pd.DataFrame()\n",
    "comparacao['real'] = df_raw[df_raw['preco'].index.isin(y_test.index)]['preco']\n",
    "comparacao['predicao'] = mms.inverse_transform(y_hat.reshape(-1,1))\n",
    "\n",
    "comparacao['diff'] = comparacao['real'] -  comparacao['predicao']\n",
    "\n",
    "mean_absolute_error(comparacao['real'], comparacao['predicao'])"
   ]
  },
  {
   "cell_type": "code",
   "execution_count": 176,
   "id": "d8a6968f",
   "metadata": {
    "ExecuteTime": {
     "end_time": "2022-08-20T17:37:06.146479Z",
     "start_time": "2022-08-20T17:37:05.762504Z"
    }
   },
   "outputs": [
    {
     "name": "stderr",
     "output_type": "stream",
     "text": [
      "C:\\Users\\Heithor\\anaconda3\\lib\\site-packages\\seaborn\\distributions.py:2557: FutureWarning: `distplot` is a deprecated function and will be removed in a future version. Please adapt your code to use either `displot` (a figure-level function with similar flexibility) or `histplot` (an axes-level function for histograms).\n",
      "  warnings.warn(msg, FutureWarning)\n"
     ]
    },
    {
     "data": {
      "text/plain": [
       "<AxesSubplot:xlabel='diff', ylabel='Density'>"
      ]
     },
     "execution_count": 176,
     "metadata": {},
     "output_type": "execute_result"
    },
    {
     "data": {
      "image/png": "[encoded data removed]",
      "text/plain": [
       "<Figure size 504x504 with 1 Axes>"
      ]
     },
     "metadata": {
      "needs_background": "light"
     },
     "output_type": "display_data"
    }
   ],
   "source": [
    "plt.figure(figsize=(7,7))\n",
    "\n",
    "# sns.scatterplot(x='real', y='predicao', hue='diff',data=comparacao)\n",
    "sns.distplot(comparacao['diff'])"
   ]
  },
  {
   "cell_type": "code",
   "execution_count": null,
   "id": "b382f937",
   "metadata": {},
   "outputs": [],
   "source": [
    "co"
   ]
  },
  {
   "cell_type": "code",
   "execution_count": 39,
   "id": "c3bd8efc",
   "metadata": {
    "ExecuteTime": {
     "end_time": "2022-08-20T16:02:36.947884Z",
     "start_time": "2022-08-20T16:02:36.927937Z"
    }
   },
   "outputs": [
    {
     "data": {
      "text/plain": [
       "7.2146888612085815"
      ]
     },
     "execution_count": 39,
     "metadata": {},
     "output_type": "execute_result"
    }
   ],
   "source": [
    "(comparacao['diff']**2).sum()"
   ]
  },
  {
   "cell_type": "markdown",
   "id": "6a23ab52",
   "metadata": {},
   "source": [
    "## ML Models"
   ]
  },
  {
   "cell_type": "code",
   "execution_count": 76,
   "id": "a5f86a0c",
   "metadata": {
    "ExecuteTime": {
     "end_time": "2022-08-20T17:19:14.741542Z",
     "start_time": "2022-08-20T17:19:14.714573Z"
    }
   },
   "outputs": [
    {
     "ename": "ValueError",
     "evalue": "Expected 2D array, got 1D array instead:\narray=[0.04609416 0.08462698 0.06301139 ... 0.10438666 0.24985754 0.03949983].\nReshape your data either using array.reshape(-1, 1) if your data has a single feature or array.reshape(1, -1) if it contains a single sample.",
     "output_type": "error",
     "traceback": [
      "\u001b[1;31m---------------------------------------------------------------------------\u001b[0m",
      "\u001b[1;31mValueError\u001b[0m                                Traceback (most recent call last)",
      "\u001b[1;32m<ipython-input-76-b43c8c0d7198>\u001b[0m in \u001b[0;36m<module>\u001b[1;34m\u001b[0m\n\u001b[1;32m----> 1\u001b[1;33m \u001b[0mmms\u001b[0m\u001b[1;33m.\u001b[0m\u001b[0minverse_transform\u001b[0m\u001b[1;33m(\u001b[0m\u001b[0my_hat\u001b[0m\u001b[1;33m)\u001b[0m\u001b[1;33m\u001b[0m\u001b[1;33m\u001b[0m\u001b[0m\n\u001b[0m",
      "\u001b[1;32m~\\anaconda3\\lib\\site-packages\\sklearn\\preprocessing\\_data.py\u001b[0m in \u001b[0;36minverse_transform\u001b[1;34m(self, X)\u001b[0m\n\u001b[0;32m    523\u001b[0m         \u001b[0mcheck_is_fitted\u001b[0m\u001b[1;33m(\u001b[0m\u001b[0mself\u001b[0m\u001b[1;33m)\u001b[0m\u001b[1;33m\u001b[0m\u001b[1;33m\u001b[0m\u001b[0m\n\u001b[0;32m    524\u001b[0m \u001b[1;33m\u001b[0m\u001b[0m\n\u001b[1;32m--> 525\u001b[1;33m         X = check_array(\n\u001b[0m\u001b[0;32m    526\u001b[0m             \u001b[0mX\u001b[0m\u001b[1;33m,\u001b[0m \u001b[0mcopy\u001b[0m\u001b[1;33m=\u001b[0m\u001b[0mself\u001b[0m\u001b[1;33m.\u001b[0m\u001b[0mcopy\u001b[0m\u001b[1;33m,\u001b[0m \u001b[0mdtype\u001b[0m\u001b[1;33m=\u001b[0m\u001b[0mFLOAT_DTYPES\u001b[0m\u001b[1;33m,\u001b[0m \u001b[0mforce_all_finite\u001b[0m\u001b[1;33m=\u001b[0m\u001b[1;34m\"allow-nan\"\u001b[0m\u001b[1;33m\u001b[0m\u001b[1;33m\u001b[0m\u001b[0m\n\u001b[0;32m    527\u001b[0m         )\n",
      "\u001b[1;32m~\\anaconda3\\lib\\site-packages\\sklearn\\utils\\validation.py\u001b[0m in \u001b[0;36mcheck_array\u001b[1;34m(array, accept_sparse, accept_large_sparse, dtype, order, copy, force_all_finite, ensure_2d, allow_nd, ensure_min_samples, ensure_min_features, estimator)\u001b[0m\n\u001b[0;32m    767\u001b[0m             \u001b[1;31m# If input is 1D raise error\u001b[0m\u001b[1;33m\u001b[0m\u001b[1;33m\u001b[0m\u001b[1;33m\u001b[0m\u001b[0m\n\u001b[0;32m    768\u001b[0m             \u001b[1;32mif\u001b[0m \u001b[0marray\u001b[0m\u001b[1;33m.\u001b[0m\u001b[0mndim\u001b[0m \u001b[1;33m==\u001b[0m \u001b[1;36m1\u001b[0m\u001b[1;33m:\u001b[0m\u001b[1;33m\u001b[0m\u001b[1;33m\u001b[0m\u001b[0m\n\u001b[1;32m--> 769\u001b[1;33m                 raise ValueError(\n\u001b[0m\u001b[0;32m    770\u001b[0m                     \u001b[1;34m\"Expected 2D array, got 1D array instead:\\narray={}.\\n\"\u001b[0m\u001b[1;33m\u001b[0m\u001b[1;33m\u001b[0m\u001b[0m\n\u001b[0;32m    771\u001b[0m                     \u001b[1;34m\"Reshape your data either using array.reshape(-1, 1) if \"\u001b[0m\u001b[1;33m\u001b[0m\u001b[1;33m\u001b[0m\u001b[0m\n",
      "\u001b[1;31mValueError\u001b[0m: Expected 2D array, got 1D array instead:\narray=[0.04609416 0.08462698 0.06301139 ... 0.10438666 0.24985754 0.03949983].\nReshape your data either using array.reshape(-1, 1) if your data has a single feature or array.reshape(1, -1) if it contains a single sample."
     ]
    }
   ],
   "source": [
    "mms.inverse_transform(y_hat)"
   ]
  },
  {
   "cell_type": "code",
   "execution_count": 99,
   "id": "83d558c7",
   "metadata": {
    "ExecuteTime": {
     "end_time": "2022-08-20T17:23:45.942663Z",
     "start_time": "2022-08-20T17:23:45.414592Z"
    }
   },
   "outputs": [
    {
     "ename": "ValueError",
     "evalue": "Length of values (1) does not match length of index (39446)",
     "output_type": "error",
     "traceback": [
      "\u001b[1;31m---------------------------------------------------------------------------\u001b[0m",
      "\u001b[1;31mValueError\u001b[0m                                Traceback (most recent call last)",
      "\u001b[1;32m<ipython-input-99-ab122497f78b>\u001b[0m in \u001b[0;36m<module>\u001b[1;34m\u001b[0m\n\u001b[0;32m      7\u001b[0m \u001b[0mteste\u001b[0m \u001b[1;33m=\u001b[0m \u001b[0mpd\u001b[0m\u001b[1;33m.\u001b[0m\u001b[0mDataFrame\u001b[0m\u001b[1;33m(\u001b[0m\u001b[1;33m)\u001b[0m\u001b[1;33m\u001b[0m\u001b[1;33m\u001b[0m\u001b[0m\n\u001b[0;32m      8\u001b[0m \u001b[0mteste\u001b[0m\u001b[1;33m[\u001b[0m\u001b[1;34m'ID'\u001b[0m\u001b[1;33m]\u001b[0m \u001b[1;33m=\u001b[0m \u001b[0mdf_test\u001b[0m\u001b[1;33m[\u001b[0m\u001b[1;34m'ID'\u001b[0m\u001b[1;33m]\u001b[0m\u001b[1;33m\u001b[0m\u001b[1;33m\u001b[0m\u001b[0m\n\u001b[1;32m----> 9\u001b[1;33m \u001b[0mteste\u001b[0m\u001b[1;33m[\u001b[0m\u001b[1;34m'preco'\u001b[0m\u001b[1;33m]\u001b[0m \u001b[1;33m=\u001b[0m \u001b[0mmms\u001b[0m\u001b[1;33m.\u001b[0m\u001b[0minverse_transform\u001b[0m\u001b[1;33m(\u001b[0m\u001b[0my_hat\u001b[0m\u001b[1;33m.\u001b[0m\u001b[0mreshape\u001b[0m\u001b[1;33m(\u001b[0m\u001b[1;36m1\u001b[0m\u001b[1;33m,\u001b[0m\u001b[1;33m-\u001b[0m\u001b[1;36m1\u001b[0m\u001b[1;33m)\u001b[0m\u001b[1;33m)\u001b[0m\u001b[1;33m\u001b[0m\u001b[1;33m\u001b[0m\u001b[0m\n\u001b[0m\u001b[0;32m     10\u001b[0m \u001b[1;33m\u001b[0m\u001b[0m\n",
      "\u001b[1;32m~\\anaconda3\\lib\\site-packages\\pandas\\core\\frame.py\u001b[0m in \u001b[0;36m__setitem__\u001b[1;34m(self, key, value)\u001b[0m\n\u001b[0;32m   3653\u001b[0m         \u001b[1;32melse\u001b[0m\u001b[1;33m:\u001b[0m\u001b[1;33m\u001b[0m\u001b[1;33m\u001b[0m\u001b[0m\n\u001b[0;32m   3654\u001b[0m             \u001b[1;31m# set column\u001b[0m\u001b[1;33m\u001b[0m\u001b[1;33m\u001b[0m\u001b[1;33m\u001b[0m\u001b[0m\n\u001b[1;32m-> 3655\u001b[1;33m             \u001b[0mself\u001b[0m\u001b[1;33m.\u001b[0m\u001b[0m_set_item\u001b[0m\u001b[1;33m(\u001b[0m\u001b[0mkey\u001b[0m\u001b[1;33m,\u001b[0m \u001b[0mvalue\u001b[0m\u001b[1;33m)\u001b[0m\u001b[1;33m\u001b[0m\u001b[1;33m\u001b[0m\u001b[0m\n\u001b[0m\u001b[0;32m   3656\u001b[0m \u001b[1;33m\u001b[0m\u001b[0m\n\u001b[0;32m   3657\u001b[0m     \u001b[1;32mdef\u001b[0m \u001b[0m_setitem_slice\u001b[0m\u001b[1;33m(\u001b[0m\u001b[0mself\u001b[0m\u001b[1;33m,\u001b[0m \u001b[0mkey\u001b[0m\u001b[1;33m:\u001b[0m \u001b[0mslice\u001b[0m\u001b[1;33m,\u001b[0m \u001b[0mvalue\u001b[0m\u001b[1;33m)\u001b[0m\u001b[1;33m:\u001b[0m\u001b[1;33m\u001b[0m\u001b[1;33m\u001b[0m\u001b[0m\n",
      "\u001b[1;32m~\\anaconda3\\lib\\site-packages\\pandas\\core\\frame.py\u001b[0m in \u001b[0;36m_set_item\u001b[1;34m(self, key, value)\u001b[0m\n\u001b[0;32m   3830\u001b[0m         \u001b[0mensure\u001b[0m \u001b[0mhomogeneity\u001b[0m\u001b[1;33m.\u001b[0m\u001b[1;33m\u001b[0m\u001b[1;33m\u001b[0m\u001b[0m\n\u001b[0;32m   3831\u001b[0m         \"\"\"\n\u001b[1;32m-> 3832\u001b[1;33m         \u001b[0mvalue\u001b[0m \u001b[1;33m=\u001b[0m \u001b[0mself\u001b[0m\u001b[1;33m.\u001b[0m\u001b[0m_sanitize_column\u001b[0m\u001b[1;33m(\u001b[0m\u001b[0mvalue\u001b[0m\u001b[1;33m)\u001b[0m\u001b[1;33m\u001b[0m\u001b[1;33m\u001b[0m\u001b[0m\n\u001b[0m\u001b[0;32m   3833\u001b[0m \u001b[1;33m\u001b[0m\u001b[0m\n\u001b[0;32m   3834\u001b[0m         if (\n",
      "\u001b[1;32m~\\anaconda3\\lib\\site-packages\\pandas\\core\\frame.py\u001b[0m in \u001b[0;36m_sanitize_column\u001b[1;34m(self, value)\u001b[0m\n\u001b[0;32m   4527\u001b[0m \u001b[1;33m\u001b[0m\u001b[0m\n\u001b[0;32m   4528\u001b[0m         \u001b[1;32mif\u001b[0m \u001b[0mis_list_like\u001b[0m\u001b[1;33m(\u001b[0m\u001b[0mvalue\u001b[0m\u001b[1;33m)\u001b[0m\u001b[1;33m:\u001b[0m\u001b[1;33m\u001b[0m\u001b[1;33m\u001b[0m\u001b[0m\n\u001b[1;32m-> 4529\u001b[1;33m             \u001b[0mcom\u001b[0m\u001b[1;33m.\u001b[0m\u001b[0mrequire_length_match\u001b[0m\u001b[1;33m(\u001b[0m\u001b[0mvalue\u001b[0m\u001b[1;33m,\u001b[0m \u001b[0mself\u001b[0m\u001b[1;33m.\u001b[0m\u001b[0mindex\u001b[0m\u001b[1;33m)\u001b[0m\u001b[1;33m\u001b[0m\u001b[1;33m\u001b[0m\u001b[0m\n\u001b[0m\u001b[0;32m   4530\u001b[0m         \u001b[1;32mreturn\u001b[0m \u001b[0msanitize_array\u001b[0m\u001b[1;33m(\u001b[0m\u001b[0mvalue\u001b[0m\u001b[1;33m,\u001b[0m \u001b[0mself\u001b[0m\u001b[1;33m.\u001b[0m\u001b[0mindex\u001b[0m\u001b[1;33m,\u001b[0m \u001b[0mcopy\u001b[0m\u001b[1;33m=\u001b[0m\u001b[1;32mTrue\u001b[0m\u001b[1;33m,\u001b[0m \u001b[0mallow_2d\u001b[0m\u001b[1;33m=\u001b[0m\u001b[1;32mTrue\u001b[0m\u001b[1;33m)\u001b[0m\u001b[1;33m\u001b[0m\u001b[1;33m\u001b[0m\u001b[0m\n\u001b[0;32m   4531\u001b[0m \u001b[1;33m\u001b[0m\u001b[0m\n",
      "\u001b[1;32m~\\anaconda3\\lib\\site-packages\\pandas\\core\\common.py\u001b[0m in \u001b[0;36mrequire_length_match\u001b[1;34m(data, index)\u001b[0m\n\u001b[0;32m    555\u001b[0m     \"\"\"\n\u001b[0;32m    556\u001b[0m     \u001b[1;32mif\u001b[0m \u001b[0mlen\u001b[0m\u001b[1;33m(\u001b[0m\u001b[0mdata\u001b[0m\u001b[1;33m)\u001b[0m \u001b[1;33m!=\u001b[0m \u001b[0mlen\u001b[0m\u001b[1;33m(\u001b[0m\u001b[0mindex\u001b[0m\u001b[1;33m)\u001b[0m\u001b[1;33m:\u001b[0m\u001b[1;33m\u001b[0m\u001b[1;33m\u001b[0m\u001b[0m\n\u001b[1;32m--> 557\u001b[1;33m         raise ValueError(\n\u001b[0m\u001b[0;32m    558\u001b[0m             \u001b[1;34m\"Length of values \"\u001b[0m\u001b[1;33m\u001b[0m\u001b[1;33m\u001b[0m\u001b[0m\n\u001b[0;32m    559\u001b[0m             \u001b[1;34mf\"({len(data)}) \"\u001b[0m\u001b[1;33m\u001b[0m\u001b[1;33m\u001b[0m\u001b[0m\n",
      "\u001b[1;31mValueError\u001b[0m: Length of values (1) does not match length of index (39446)"
     ]
    }
   ],
   "source": [
    "X_test = data_transformation(df_test)\n",
    "\n",
    "\n",
    "# predict\n",
    "y_hat = lr.predict(X_test.fillna(0))\n",
    "\n",
    "teste = pd.DataFrame()\n",
    "teste['ID'] = df_test['ID'] \n",
    "teste['preco'] = mms.inverse_transform(y_hat.reshape(-1,1))\n",
    "\n"
   ]
  },
  {
   "cell_type": "code",
   "execution_count": null,
   "id": "c88cae0d",
   "metadata": {},
   "outputs": [],
   "source": [
    "sns.scatterplot(x='preco', y='')"
   ]
  },
  {
   "cell_type": "code",
   "execution_count": 75,
   "id": "77982d45",
   "metadata": {
    "ExecuteTime": {
     "end_time": "2022-08-20T16:24:59.373087Z",
     "start_time": "2022-08-20T16:24:59.206085Z"
    }
   },
   "outputs": [],
   "source": [
    "teste.to_csv('../data/submition.csv', index=False)"
   ]
  },
  {
   "cell_type": "code",
   "execution_count": 104,
   "id": "057d63c8",
   "metadata": {
    "ExecuteTime": {
     "end_time": "2022-08-20T17:24:06.613226Z",
     "start_time": "2022-08-20T17:24:06.594305Z"
    }
   },
   "outputs": [
    {
     "data": {
      "text/plain": [
       "array([-0.04925471, -0.02779203, -0.02484502, ...,  0.43075936,\n",
       "        0.56199048,  0.87348188])"
      ]
     },
     "execution_count": 104,
     "metadata": {},
     "output_type": "execute_result"
    }
   ],
   "source": []
  },
  {
   "cell_type": "code",
   "execution_count": 91,
   "id": "f205118e",
   "metadata": {
    "ExecuteTime": {
     "end_time": "2022-08-20T17:22:39.008141Z",
     "start_time": "2022-08-20T17:22:38.995176Z"
    }
   },
   "outputs": [
    {
     "data": {
      "text/plain": [
       "array([[ 69603.02822388],\n",
       "       [121720.78588588],\n",
       "       [ 92484.51889493],\n",
       "       ...,\n",
       "       [148446.83695022],\n",
       "       [345204.15240069],\n",
       "       [ 60683.84327283]])"
      ]
     },
     "execution_count": 91,
     "metadata": {},
     "output_type": "execute_result"
    }
   ],
   "source": []
  },
  {
   "cell_type": "code",
   "execution_count": 90,
   "id": "cd116d86",
   "metadata": {
    "ExecuteTime": {
     "end_time": "2022-08-20T17:22:33.731639Z",
     "start_time": "2022-08-20T17:22:33.715681Z"
    }
   },
   "outputs": [
    {
     "data": {
      "text/plain": [
       "array([[0.08574428],\n",
       "       [0.19579087],\n",
       "       [0.03412311],\n",
       "       ...,\n",
       "       [0.12272218],\n",
       "       [0.15852492],\n",
       "       [0.1798958 ]])"
      ]
     },
     "execution_count": 90,
     "metadata": {},
     "output_type": "execute_result"
    }
   ],
   "source": []
  }
 ],
 "metadata": {
  "kernelspec": {
   "display_name": "Python 3",
   "language": "python",
   "name": "python3"
  },
  "language_info": {
   "codemirror_mode": {
    "name": "ipython",
    "version": 3
   },
   "file_extension": ".py",
   "mimetype": "text/x-python",
   "name": "python",
   "nbconvert_exporter": "python",
   "pygments_lexer": "ipython3",
   "version": "3.8.8"
  },
  "varInspector": {
   "cols": {
    "lenName": 16,
    "lenType": 16,
    "lenVar": 40
   },
   "kernels_config": {
    "python": {
     "delete_cmd_postfix": "",
     "delete_cmd_prefix": "del ",
     "library": "var_list.py",
     "varRefreshCmd": "print(var_dic_list())"
    },
    "r": {
     "delete_cmd_postfix": ") ",
     "delete_cmd_prefix": "rm(",
     "library": "var_list.r",
     "varRefreshCmd": "cat(var_dic_list()) "
    }
   },
   "types_to_exclude": [
    "module",
    "function",
    "builtin_function_or_method",
    "instance",
    "_Feature"
   ],
   "window_display": false
  }
 },
 "nbformat": 4,
 "nbformat_minor": 5
}
